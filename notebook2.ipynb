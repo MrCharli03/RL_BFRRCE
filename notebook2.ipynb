{
  "cells": [
    {
      "cell_type": "markdown",
      "metadata": {
        "id": "view-in-github",
        "colab_type": "text"
      },
      "source": [
        "<a href=\"https://colab.research.google.com/github/MrCharli03/RL_BFRRCE/blob/main/notebook2.ipynb\" target=\"_parent\"><img src=\"https://colab.research.google.com/assets/colab-badge.svg\" alt=\"Open In Colab\"/></a>"
      ]
    },
    {
      "cell_type": "markdown",
      "metadata": {
        "id": "LBqDbIQlPUse"
      },
      "source": [
        "Author: Esteban Becerra, Carlos Cruzado, Anastasiya Ruzhytska\n",
        "Email: esteban.becerraf@um.es carlos.cruzadoe1@um.es anastasiya.r.r@um.es\n",
        "Date: 2025/02/23"
      ]
    },
    {
      "cell_type": "markdown",
      "metadata": {
        "id": "SipaVo-gz1ey"
      },
      "source": [
        "# **Monte Carlo con Políticas epsilon-soft**\n",
        "\n",
        "_Esto es un ejemplo de uso de Gymnasium e informe sobre un experimento de aprendizaje por refuerzo_\n",
        "\n",
        "````\n",
        "Luis D. Hernández.\n",
        "<ldaniel at um.es>\n",
        "````\n",
        "\n",
        "Este notebook describe un experimento de aprendizaje por refuerzo utilizando el algoritmo de Monte Carlo con políticas epsilon-soft. El propósito de este análisis es entrenar un agente en un entorno de gym con el juego \"FrozenLake\", un entorno estándar en el que el agente debe aprender a moverse a través de un mapa en busca de una meta, evitando caer en agujeros. A continuación, se presenta una descripción de las diferentes partes del código y el proceso utilizado en el experimento."
      ]
    },
    {
      "cell_type": "markdown",
      "metadata": {
        "id": "loCIjd-T0AVg"
      },
      "source": [
        "## **1. Preparación del Entorno**"
      ]
    },
    {
      "cell_type": "markdown",
      "metadata": {
        "id": "e2MTvyPWcU2q"
      },
      "source": [
        "La preparación consta de las siguientes partes:\n",
        "- **Instalación de Dependencias**: Se instalan las librerías necesarias para utilizar el entorno `gymnasium` para la simulación, con el objetivo de crear un ambiente controlado para que el agente pueda interactuar.\n",
        "- **Importación de Librerías**: Se importan las bibliotecas necesarias como `numpy` para el manejo de matrices y `matplotlib` para la visualización de los resultados.\n",
        "\n",
        "- **Importación del Entorno \"FrozenLake\"**:\n",
        "Se cargan dos versiones del entorno \"FrozenLake\": una de 4x4 y otra de 8x8. Ambas versiones no son resbaladizas, lo que facilita la comprensión de los resultados, dado que el entorno resbaladizo podría dificultar la comprensión inicial del aprendizaje.\n",
        "\n",
        "#### 3. **Funciones para Mostrar los Resultados**\n",
        "   - Se define una función para graficar la proporción de recompensas obtenidas en cada episodio del entrenamiento. Esto ayuda a visualizar el progreso del agente en términos de su desempeño durante el entrenamiento.\n",
        "\n"
      ]
    },
    {
      "cell_type": "markdown",
      "metadata": {
        "id": "0P7_98YrcsZw"
      },
      "source": [
        "##### _________ **Código de la Instalación e Importación**\n",
        "----"
      ]
    },
    {
      "cell_type": "code",
      "execution_count": 1,
      "metadata": {
        "id": "s-wSiHxNyuBH"
      },
      "outputs": [],
      "source": [
        "%%capture\n",
        "#@title Instalamos gym\n",
        "!pip install 'gym[box2d]==0.20.0'\n",
        "\n",
        "## Instalación de algunos paquetes.\n",
        "#!apt-get update\n",
        "## Para usar gymnasium[box2d]\n",
        "#!apt install swig\n",
        "#!pip install gymnasium[box2d]"
      ]
    },
    {
      "cell_type": "code",
      "source": [
        "# Instalación de algunos paquetes.\n",
        "!apt-get update\n",
        "\n",
        "# Para visualizar en colab https://medium.com/@coldstart_coder/visually-rendering-python-gymnasium-in-jupyter-notebooks-4413e4087a0f\n",
        "!apt-get install -y python-opengl ffmpeg\n",
        "!apt-get install --upgrade cmake\n",
        "\n",
        "# Para usar gymnasium[box2d]\n",
        "!apt install swig xvfb\n",
        "!pip install -U  pyvirtualdisplay"
      ],
      "metadata": {
        "id": "CYseIsPV39WN",
        "outputId": "649cbddb-bf8c-423a-d9fc-611a939f812a",
        "colab": {
          "base_uri": "https://localhost:8080/"
        }
      },
      "execution_count": 2,
      "outputs": [
        {
          "output_type": "stream",
          "name": "stdout",
          "text": [
            "Get:1 https://cloud.r-project.org/bin/linux/ubuntu jammy-cran40/ InRelease [3,632 B]\n",
            "Get:2 https://developer.download.nvidia.com/compute/cuda/repos/ubuntu2204/x86_64  InRelease [1,581 B]\n",
            "Get:3 http://security.ubuntu.com/ubuntu jammy-security InRelease [129 kB]\n",
            "Hit:4 http://archive.ubuntu.com/ubuntu jammy InRelease\n",
            "Get:5 https://r2u.stat.illinois.edu/ubuntu jammy InRelease [6,555 B]\n",
            "Get:6 http://archive.ubuntu.com/ubuntu jammy-updates InRelease [128 kB]\n",
            "Hit:7 https://ppa.launchpadcontent.net/deadsnakes/ppa/ubuntu jammy InRelease\n",
            "Hit:8 https://ppa.launchpadcontent.net/graphics-drivers/ppa/ubuntu jammy InRelease\n",
            "Hit:9 https://ppa.launchpadcontent.net/ubuntugis/ppa/ubuntu jammy InRelease\n",
            "Get:10 http://archive.ubuntu.com/ubuntu jammy-backports InRelease [127 kB]\n",
            "Get:11 https://developer.download.nvidia.com/compute/cuda/repos/ubuntu2204/x86_64  Packages [1,341 kB]\n",
            "Get:12 https://r2u.stat.illinois.edu/ubuntu jammy/main all Packages [8,712 kB]\n",
            "Get:13 https://r2u.stat.illinois.edu/ubuntu jammy/main amd64 Packages [2,666 kB]\n",
            "Get:14 http://security.ubuntu.com/ubuntu jammy-security/restricted amd64 Packages [3,755 kB]\n",
            "Get:15 http://security.ubuntu.com/ubuntu jammy-security/universe amd64 Packages [1,235 kB]\n",
            "Get:16 http://security.ubuntu.com/ubuntu jammy-security/main amd64 Packages [2,682 kB]\n",
            "Get:17 http://archive.ubuntu.com/ubuntu jammy-updates/main amd64 Packages [2,988 kB]\n",
            "Get:18 http://archive.ubuntu.com/ubuntu jammy-updates/restricted amd64 Packages [3,891 kB]\n",
            "Get:19 http://archive.ubuntu.com/ubuntu jammy-updates/universe amd64 Packages [1,533 kB]\n",
            "Fetched 29.2 MB in 9s (3,158 kB/s)\n",
            "Reading package lists... Done\n",
            "W: Skipping acquire of configured file 'main/source/Sources' as repository 'https://r2u.stat.illinois.edu/ubuntu jammy InRelease' does not seem to provide it (sources.list entry misspelt?)\n",
            "Reading package lists... Done\n",
            "Building dependency tree... Done\n",
            "Reading state information... Done\n",
            "E: Unable to locate package python-opengl\n",
            "Reading package lists... Done\n",
            "Building dependency tree... Done\n",
            "Reading state information... Done\n",
            "cmake is already the newest version (3.22.1-1ubuntu1.22.04.2).\n",
            "0 upgraded, 0 newly installed, 0 to remove and 45 not upgraded.\n",
            "Reading package lists... Done\n",
            "Building dependency tree... Done\n",
            "Reading state information... Done\n",
            "The following additional packages will be installed:\n",
            "  libfontenc1 libxfont2 libxkbfile1 swig4.0 x11-xkb-utils xfonts-base xfonts-encodings xfonts-utils\n",
            "  xserver-common\n",
            "Suggested packages:\n",
            "  swig-doc swig-examples swig4.0-examples swig4.0-doc\n",
            "The following NEW packages will be installed:\n",
            "  libfontenc1 libxfont2 libxkbfile1 swig swig4.0 x11-xkb-utils xfonts-base xfonts-encodings\n",
            "  xfonts-utils xserver-common xvfb\n",
            "0 upgraded, 11 newly installed, 0 to remove and 45 not upgraded.\n",
            "Need to get 8,930 kB of archives.\n",
            "After this operation, 17.5 MB of additional disk space will be used.\n",
            "Get:1 http://archive.ubuntu.com/ubuntu jammy/main amd64 libfontenc1 amd64 1:1.1.4-1build3 [14.7 kB]\n",
            "Get:2 http://archive.ubuntu.com/ubuntu jammy/main amd64 libxfont2 amd64 1:2.0.5-1build1 [94.5 kB]\n",
            "Get:3 http://archive.ubuntu.com/ubuntu jammy/main amd64 libxkbfile1 amd64 1:1.1.0-1build3 [71.8 kB]\n",
            "Get:4 http://archive.ubuntu.com/ubuntu jammy/universe amd64 swig4.0 amd64 4.0.2-1ubuntu1 [1,110 kB]\n",
            "Get:5 http://archive.ubuntu.com/ubuntu jammy/universe amd64 swig all 4.0.2-1ubuntu1 [5,632 B]\n",
            "Get:6 http://archive.ubuntu.com/ubuntu jammy/main amd64 x11-xkb-utils amd64 7.7+5build4 [172 kB]\n",
            "Get:7 http://archive.ubuntu.com/ubuntu jammy/main amd64 xfonts-encodings all 1:1.0.5-0ubuntu2 [578 kB]\n",
            "Get:8 http://archive.ubuntu.com/ubuntu jammy/main amd64 xfonts-utils amd64 1:7.7+6build2 [94.6 kB]\n",
            "Get:9 http://archive.ubuntu.com/ubuntu jammy/main amd64 xfonts-base all 1:1.0.5 [5,896 kB]\n",
            "Get:10 http://archive.ubuntu.com/ubuntu jammy-updates/main amd64 xserver-common all 2:21.1.4-2ubuntu1.7~22.04.13 [29.1 kB]\n",
            "Get:11 http://archive.ubuntu.com/ubuntu jammy-updates/universe amd64 xvfb amd64 2:21.1.4-2ubuntu1.7~22.04.13 [863 kB]\n",
            "Fetched 8,930 kB in 1s (7,417 kB/s)\n",
            "Selecting previously unselected package libfontenc1:amd64.\n",
            "(Reading database ... 124947 files and directories currently installed.)\n",
            "Preparing to unpack .../00-libfontenc1_1%3a1.1.4-1build3_amd64.deb ...\n",
            "Unpacking libfontenc1:amd64 (1:1.1.4-1build3) ...\n",
            "Selecting previously unselected package libxfont2:amd64.\n",
            "Preparing to unpack .../01-libxfont2_1%3a2.0.5-1build1_amd64.deb ...\n",
            "Unpacking libxfont2:amd64 (1:2.0.5-1build1) ...\n",
            "Selecting previously unselected package libxkbfile1:amd64.\n",
            "Preparing to unpack .../02-libxkbfile1_1%3a1.1.0-1build3_amd64.deb ...\n",
            "Unpacking libxkbfile1:amd64 (1:1.1.0-1build3) ...\n",
            "Selecting previously unselected package swig4.0.\n",
            "Preparing to unpack .../03-swig4.0_4.0.2-1ubuntu1_amd64.deb ...\n",
            "Unpacking swig4.0 (4.0.2-1ubuntu1) ...\n",
            "Selecting previously unselected package swig.\n",
            "Preparing to unpack .../04-swig_4.0.2-1ubuntu1_all.deb ...\n",
            "Unpacking swig (4.0.2-1ubuntu1) ...\n",
            "Selecting previously unselected package x11-xkb-utils.\n",
            "Preparing to unpack .../05-x11-xkb-utils_7.7+5build4_amd64.deb ...\n",
            "Unpacking x11-xkb-utils (7.7+5build4) ...\n",
            "Selecting previously unselected package xfonts-encodings.\n",
            "Preparing to unpack .../06-xfonts-encodings_1%3a1.0.5-0ubuntu2_all.deb ...\n",
            "Unpacking xfonts-encodings (1:1.0.5-0ubuntu2) ...\n",
            "Selecting previously unselected package xfonts-utils.\n",
            "Preparing to unpack .../07-xfonts-utils_1%3a7.7+6build2_amd64.deb ...\n",
            "Unpacking xfonts-utils (1:7.7+6build2) ...\n",
            "Selecting previously unselected package xfonts-base.\n",
            "Preparing to unpack .../08-xfonts-base_1%3a1.0.5_all.deb ...\n",
            "Unpacking xfonts-base (1:1.0.5) ...\n",
            "Selecting previously unselected package xserver-common.\n",
            "Preparing to unpack .../09-xserver-common_2%3a21.1.4-2ubuntu1.7~22.04.13_all.deb ...\n",
            "Unpacking xserver-common (2:21.1.4-2ubuntu1.7~22.04.13) ...\n",
            "Selecting previously unselected package xvfb.\n",
            "Preparing to unpack .../10-xvfb_2%3a21.1.4-2ubuntu1.7~22.04.13_amd64.deb ...\n",
            "Unpacking xvfb (2:21.1.4-2ubuntu1.7~22.04.13) ...\n",
            "Setting up libfontenc1:amd64 (1:1.1.4-1build3) ...\n",
            "Setting up xfonts-encodings (1:1.0.5-0ubuntu2) ...\n",
            "Setting up libxkbfile1:amd64 (1:1.1.0-1build3) ...\n",
            "Setting up swig4.0 (4.0.2-1ubuntu1) ...\n",
            "Setting up libxfont2:amd64 (1:2.0.5-1build1) ...\n",
            "Setting up swig (4.0.2-1ubuntu1) ...\n",
            "Setting up x11-xkb-utils (7.7+5build4) ...\n",
            "Setting up xfonts-utils (1:7.7+6build2) ...\n",
            "Setting up xfonts-base (1:1.0.5) ...\n",
            "Setting up xserver-common (2:21.1.4-2ubuntu1.7~22.04.13) ...\n",
            "Setting up xvfb (2:21.1.4-2ubuntu1.7~22.04.13) ...\n",
            "Processing triggers for man-db (2.10.2-1) ...\n",
            "Processing triggers for fontconfig (2.13.1-4.2ubuntu5) ...\n",
            "Processing triggers for libc-bin (2.35-0ubuntu3.8) ...\n",
            "/sbin/ldconfig.real: /usr/local/lib/libtbbbind.so.3 is not a symbolic link\n",
            "\n",
            "/sbin/ldconfig.real: /usr/local/lib/libtbbbind_2_0.so.3 is not a symbolic link\n",
            "\n",
            "/sbin/ldconfig.real: /usr/local/lib/libtcm_debug.so.1 is not a symbolic link\n",
            "\n",
            "/sbin/ldconfig.real: /usr/local/lib/libur_adapter_level_zero.so.0 is not a symbolic link\n",
            "\n",
            "/sbin/ldconfig.real: /usr/local/lib/libhwloc.so.15 is not a symbolic link\n",
            "\n",
            "/sbin/ldconfig.real: /usr/local/lib/libur_adapter_opencl.so.0 is not a symbolic link\n",
            "\n",
            "/sbin/ldconfig.real: /usr/local/lib/libtbb.so.12 is not a symbolic link\n",
            "\n",
            "/sbin/ldconfig.real: /usr/local/lib/libtbbbind_2_5.so.3 is not a symbolic link\n",
            "\n",
            "/sbin/ldconfig.real: /usr/local/lib/libtcm.so.1 is not a symbolic link\n",
            "\n",
            "/sbin/ldconfig.real: /usr/local/lib/libumf.so.0 is not a symbolic link\n",
            "\n",
            "/sbin/ldconfig.real: /usr/local/lib/libur_loader.so.0 is not a symbolic link\n",
            "\n",
            "/sbin/ldconfig.real: /usr/local/lib/libtbbmalloc_proxy.so.2 is not a symbolic link\n",
            "\n",
            "/sbin/ldconfig.real: /usr/local/lib/libtbbmalloc.so.2 is not a symbolic link\n",
            "\n",
            "Collecting pyvirtualdisplay\n",
            "  Downloading PyVirtualDisplay-3.0-py3-none-any.whl.metadata (943 bytes)\n",
            "Downloading PyVirtualDisplay-3.0-py3-none-any.whl (15 kB)\n",
            "Installing collected packages: pyvirtualdisplay\n",
            "Successfully installed pyvirtualdisplay-3.0\n"
          ]
        }
      ]
    },
    {
      "cell_type": "code",
      "execution_count": 3,
      "metadata": {
        "id": "o5s4pz9Hzk7r"
      },
      "outputs": [],
      "source": [
        "#@title Importamos librerias\n",
        "import numpy as np\n",
        "import matplotlib.pyplot as plt\n",
        "from tqdm import tqdm\n",
        "import gymnasium as gym"
      ]
    },
    {
      "cell_type": "code",
      "source": [
        "import os\n",
        "import re\n",
        "import io\n",
        "import base64\n",
        "from IPython import display\n",
        "from IPython.display import HTML\n",
        "from pyvirtualdisplay import Display"
      ],
      "metadata": {
        "id": "FEAqGv_J4GSS"
      },
      "execution_count": 4,
      "outputs": []
    },
    {
      "cell_type": "code",
      "execution_count": 5,
      "metadata": {
        "id": "0ogCwKft-Ki9"
      },
      "outputs": [],
      "source": [
        "#@title Importamos el lago helado\n",
        "name = 'FrozenLake-v1'\n",
        "env4 = gym.make(name, is_slippery=False, map_name=\"4x4\", render_mode=\"rgb_array\") # No resbaladizo para entender mejor los resultados.\n",
        "env8 = gym.make(name, is_slippery=False, map_name=\"8x8\", render_mode=\"rgb_array\") # No resbaladizo para entender mejor los resultados."
      ]
    },
    {
      "cell_type": "markdown",
      "metadata": {
        "id": "n1ySdi2wdXdm"
      },
      "source": [
        "## **2. Diseño del Agente**\n",
        "\n",
        "El diseño del agente consta de dos partes, el algoritmo con el que aprende y las políticas (toma de decisiones) que realiza.\n",
        "\n",
        "- **Políticas del Agente**\n",
        "   - **Política epsilon-soft**: Se define una política donde todas las acciones tienen una probabilidad de ser elegida.\n",
        "   - **Política epsilon-greedy**: basada en la política epsilon-soft. De esta forma el agente tiene una pequeña probabilidad de explorar (tomar una acción aleatoria) y una mayor probabilidad de explotar (tomar la acción que considera mejor). Esto permite equilibrar la exploración y la explotación.\n",
        "   - **Política greedy**: Es la usada una vez que \"ha aprendido\".\n",
        "\n",
        "- **Algoritmo de Iteración de Valor**\n",
        "  - Se implementa el algoritmo de iteración de valor utilizando Monte Carlo.\n",
        "  - Se usa una versión \"on-policy\" de Monte Carlo con políticas epsilon greedy sobre una política epsilon-soft.\n",
        "  - Se basa en el criterio de todas las visitas.\n",
        "  - Otro aspecto es que la actualización de los retornos no se realiza en el orden inverso a las visitas."
      ]
    },
    {
      "cell_type": "markdown",
      "metadata": {
        "id": "9vDI1gmKfDPT"
      },
      "source": [
        "#### **Código de las políticas y algoritmo MC**\n",
        "----------------"
      ]
    },
    {
      "cell_type": "code",
      "execution_count": 6,
      "metadata": {
        "id": "lVEIYzaJ4p8N"
      },
      "outputs": [],
      "source": [
        "# @title Políticas del agente\n",
        "\n",
        "# actions\n",
        "LEFT, DOWN, RIGHT, UP = 0,1,2,3\n",
        "\n",
        "# Política epsilon-soft. Se usa para el entrenamiento\n",
        "def random_epsilon_greedy_policy(Q, epsilon, state, nA):\n",
        "    pi_A = np.ones(nA, dtype=float) * epsilon / nA\n",
        "    best_action = np.argmax(Q[state])\n",
        "    pi_A[best_action] += (1.0 - epsilon)\n",
        "    return pi_A\n",
        "\n",
        "# Política epsilon-greedy a partir de una epsilon-soft\n",
        "def epsilon_greedy_policy(Q, epsilon, state, nA):\n",
        "    pi_A = random_epsilon_greedy_policy(Q, epsilon, state, nA)\n",
        "    return np.random.choice(np.arange(nA), p=pi_A)\n",
        "\n",
        "# Política Greedy a partir de los valones Q. Se usa para mostrar la solución.\n",
        "def pi_star_from_Q(env, Q):\n",
        "    done = False\n",
        "    pi_star = np.zeros([env.observation_space.n, env.action_space.n])\n",
        "    state, info = env.reset() # start in top-left, = 0\n",
        "    actions = \"\"\n",
        "    while not done:\n",
        "        action = np.argmax(Q[state, :])\n",
        "        actions += f\"{action}, \"\n",
        "        pi_star[state,action] = action\n",
        "        state, reward, terminated, truncated, info = env.step(action)\n",
        "        done = terminated or truncated\n",
        "    return pi_star, actions"
      ]
    },
    {
      "cell_type": "code",
      "execution_count": 7,
      "metadata": {
        "id": "RpUWKye-7YA1"
      },
      "outputs": [],
      "source": [
        "#@title Algoritmo de Iteración de Valor versión MC con Políticas epsilon-soft\n",
        "\n",
        "def on_policy_all_visit(env, num_episodes=5000, epsilon=0.4, decay=False, discount_factor=1):\n",
        "    nA = env.action_space.n\n",
        "    Q = np.zeros([env.observation_space.n, nA])\n",
        "    n_visits = np.zeros([env.observation_space.n, nA])\n",
        "\n",
        "    stats = 0.0\n",
        "    list_stats = []       # Para almacenar la recompensa promedio\n",
        "    episode_lengths = []  # Para almacenar la longitud de cada episodio\n",
        "    step_display = num_episodes / 10 if num_episodes >= 10 else 1\n",
        "\n",
        "    for t in tqdm(range(num_episodes)):\n",
        "        state, info = env.reset(seed=100)\n",
        "        done = False\n",
        "        episode = []  # Almacenará (estado, acción, recompensa) en cada paso\n",
        "\n",
        "        # Generamos el episodio completo\n",
        "        while not done:\n",
        "            if decay:\n",
        "                epsilon = min(1.0, 1000.0/(t+1))\n",
        "            action = epsilon_greedy_policy(Q, epsilon, state, nA)\n",
        "            new_state, reward, terminated, truncated, info = env.step(action)\n",
        "            done = terminated or truncated\n",
        "            episode.append((state, action, reward))\n",
        "            state = new_state\n",
        "\n",
        "        # Calculamos el retorno G para cada paso del episodio.\n",
        "        # Se utiliza una forma recursiva recorriendo el episodio en orden inverso.\n",
        "        G = 0.0\n",
        "        returns = [0] * len(episode)  # returns[i] será el retorno desde el paso i\n",
        "        for i in reversed(range(len(episode))):\n",
        "            s, a, r = episode[i]\n",
        "            G = r + discount_factor * G\n",
        "            returns[i] = G\n",
        "\n",
        "        # Actualizamos Q para cada visita (every-visit MC)\n",
        "        for i, (s, a, _) in enumerate(episode):\n",
        "            n_visits[s, a] += 1.0\n",
        "            alpha = 1.0 / n_visits[s, a]\n",
        "            Q[s, a] += alpha * (returns[i] - Q[s, a])\n",
        "\n",
        "        # Para estadísticas, consideramos el retorno desde el primer paso del episodio\n",
        "        stats += returns[0]\n",
        "        promedio_recompensas = stats / (t + 1)\n",
        "        list_stats.append(promedio_recompensas)\n",
        "        episode_lengths.append(len(episode))\n",
        "\n",
        "        if (t+1) % step_display == 0 and t != 0:\n",
        "            print(f\"Episodio {t+1}/{num_episodes} -> Éxito promedio: {promedio_recompensas:.3f}, epsilon: {epsilon:.3f}\")\n",
        "\n",
        "    return Q, list_stats, episode_lengths"
      ]
    },
    {
      "cell_type": "markdown",
      "source": [
        "**Cambios Realizados:**\n",
        "\n",
        "- **Almacenamiento en el episodio:**  \n",
        "  - Se guarda cada paso como una tupla de *(estado, acción, recompensa)* en lugar de solo *(estado, acción)*.\n",
        "\n",
        "- **Cálculo del retorno:**  \n",
        "  - Se recorre el episodio en orden inverso para calcular, de forma individual, el retorno \\(G_t\\) para cada paso, almacenándolo en un vector `returns`.  \n",
        "\n",
        "- **Actualización de Q:**  \n",
        "  - Se actualiza \\(Q(s, a)\\) utilizando el retorno específico de cada visita (tomado de `returns[i]`), en lugar de usar el mismo valor global para todas las visitas.\n",
        "\n",
        "- **Estadísticas:**  \n",
        "  - Se registra además la longitud de cada episodio en `episode_lengths`.  \n",
        "  - Se inicializa `list_stats` como lista vacía y se actualiza con el promedio de \\(G_0\\) (retorno del primer paso) de cada episodio, en lugar de iniciar con `[stats]` y acumular el retorno global.\n",
        "\n",
        "- **Salida por pantalla:**  \n",
        "  - Se muestra un mensaje detallado indicando el número de episodio, el éxito promedio y el valor de epsilon, en contraste con el mensaje más simplificado del original."
      ],
      "metadata": {
        "id": "vpvxHFyd0bG5"
      }
    },
    {
      "cell_type": "markdown",
      "metadata": {
        "id": "0XxVyTFTfVkL"
      },
      "source": [
        "## **3. Experimentación**\n",
        "\n",
        "   - En esta sección, el algoritmo de Monte Carlo con la política epsilon-soft se ejecuta tanto para el entorno de 4x4 como al de 8x8 de FrozenLake sin resbalar.\n",
        "   \n",
        "   - En ambos casos se realiza un entrenamiento con un número determinado de episodios (5000 en concreto)\n",
        "\n",
        "   - Además en el escenario 8x8 el  epsilon tiene decaimiento de acuerdo a la expresión: $\\epsilon = min(1.0, 1000.0/(t+1))$\n",
        "\n",
        "   - Durante el entrenamiento hay una visualización de la proporción de recompensas obtenidas a lo largo del entrenamiento.\n",
        "\n",
        "   - Junto a dicho volcado se muestra gráficamente la proporcion de recompensas obtendias.\n",
        "\n",
        "   - También se hace un volcado de los valores Q de cada estado, donde se muestra cómo el agente valora diferentes acciones en distintos estados del entorno, lo que puede interpretarse como su conocimiento sobre las mejores estrategias para alcanzar la meta sin caer en los agujeros.\n",
        "\n",
        "   - Además, se muestra la política óptima derivada de los valores Q. Esta política es la que el agente seguiría si tuviera que elegir siempre la acción que maximiza su recompensa esperada.\n",
        "\n",
        "   "
      ]
    },
    {
      "cell_type": "markdown",
      "metadata": {
        "id": "cqdLUE8zQN2v"
      },
      "source": [
        "### **3.1 Repressentaciones Gráficas**\n",
        "\n",
        "Para comprobar el aprendizaje se mostrará la función $f(t)=\\frac{\\sum_{i=1}^t R_i}{t}$ para $t=1,2,\\ldots, NumeroEpisodios$. La justificación es la siguiente. Como sabemmos que el retorno en el estados inicial 1 (pues no hay descuento) o 9, si se divide por el número de episodios ejecutados se calcular el porcentaje de recompensas positivas obtenidas. Dicho de otra forma, nos dirá el porcentaje de veces que el agente ha llegado al estado terminal.\n"
      ]
    },
    {
      "cell_type": "code",
      "execution_count": 8,
      "metadata": {
        "id": "u42-YlgazukU"
      },
      "outputs": [],
      "source": [
        "# @title Funciones para mostrar los resultados\n",
        "\n",
        "def plot(list_stats):\n",
        "  # Creamos una lista de índices para el eje x\n",
        "  indices = list(range(len(list_stats)))\n",
        "\n",
        "  # Creamos el gráfico\n",
        "  plt.figure(figsize=(6, 3))\n",
        "  plt.plot(indices, list_stats)\n",
        "\n",
        "  # Añadimos título y etiquetas\n",
        "  plt.title('Proporción de recompensas')\n",
        "  plt.xlabel('Episodio')\n",
        "  plt.ylabel('Proporción')\n",
        "\n",
        "  # Mostramos el gráfico\n",
        "  plt.grid(True)\n",
        "  plt.show()\n",
        "\n",
        "# Define la función para mostrar el tamaño de los episodios\n",
        "# Pon aquí tu código."
      ]
    },
    {
      "cell_type": "markdown",
      "metadata": {
        "id": "Fz2xcbqHfMNc"
      },
      "source": [
        "#### Gráfica que muestre la longitud de los episodios en cada estado"
      ]
    },
    {
      "cell_type": "code",
      "execution_count": 9,
      "metadata": {
        "id": "lR8apo5jYEbA"
      },
      "outputs": [],
      "source": [
        "def plot_episode_lengths(episode_lengths):\n",
        "    \"\"\"\n",
        "    Muestra la longitud de cada episodio a lo largo del entrenamiento.\n",
        "    \"\"\"\n",
        "    plt.figure(figsize=(6, 3))\n",
        "    plt.plot(episode_lengths, label=\"Longitud del episodio\")\n",
        "    plt.xlabel(\"Episodio\")\n",
        "    plt.ylabel(\"Longitud\")\n",
        "    plt.title(\"Evolución de la longitud de los episodios\")\n",
        "    plt.grid(True)\n",
        "    plt.legend()\n",
        "    plt.show()\n"
      ]
    },
    {
      "cell_type": "markdown",
      "source": [
        "#### Simulacion Video\n"
      ],
      "metadata": {
        "id": "dQtA43hXdxgR"
      }
    },
    {
      "cell_type": "markdown",
      "source": [
        "FUNCIONES PARA MOSTRAR VIDEOS"
      ],
      "metadata": {
        "id": "cIF0XouceS90"
      }
    },
    {
      "cell_type": "code",
      "source": [
        "def get_latest_episode_video_file(directory):\n",
        "    \"\"\"\n",
        "    Devuelve el nombre (con ruta) del video .mp4 de episodio\n",
        "    más reciente en 'directory', siguiendo el patrón\n",
        "    'rl-video-episode-<numero>.mp4'.\n",
        "    \"\"\"\n",
        "    pattern = re.compile(r\"rl-video-episode-(\\d+)\\.mp4\")\n",
        "    latest_file = None\n",
        "    highest_episode = -1\n",
        "    for filename in os.listdir(directory):\n",
        "        match = pattern.match(filename)\n",
        "        if match:\n",
        "            episode_number = int(match.group(1))\n",
        "            if episode_number > highest_episode:\n",
        "                highest_episode = episode_number\n",
        "                latest_file = os.path.join(directory, filename)\n",
        "    return latest_file\n",
        "\n",
        "def embed_video(video_file):\n",
        "    \"\"\"\n",
        "    Incrusta el video .mp4 en el notebook a partir de su ruta.\n",
        "    \"\"\"\n",
        "    video_data = io.open(video_file, 'r+b').read()\n",
        "    encoded_data = base64.b64encode(video_data)\n",
        "    display.display(HTML(data=f'''\n",
        "        <video alt=\"test\" autoplay loop controls style=\"height: 400px;\">\n",
        "        <source src=\"data:video/mp4;base64,{encoded_data.decode('ascii')}\" type=\"video/mp4\" />\n",
        "        </video>'''))\n"
      ],
      "metadata": {
        "id": "xgHEc_1Ed4gP"
      },
      "execution_count": 10,
      "outputs": []
    },
    {
      "cell_type": "markdown",
      "source": [
        "FUNCIÓN PARA GRABAR EPISODIOS"
      ],
      "metadata": {
        "id": "4S-oYj65eUPg"
      }
    },
    {
      "cell_type": "code",
      "source": [
        "def record_policy_in_frozenlake(Q, map_name=\"4x4\", episodes=3, video_folder=\"videos\", is_slippery=False):\n",
        "    \"\"\"\n",
        "    - Crea un entorno FrozenLake con render_mode=\"rgb_array\" para poder capturar video.\n",
        "    - Envuelve el entorno con RecordVideo, grabando cada episodio.\n",
        "    - Ejecuta 'episodes' episodios usando la política GREEDY a partir de Q.\n",
        "    - Cierra el entorno y retorna la carpeta con los videos generados.\n",
        "    \"\"\"\n",
        "    os.makedirs(video_folder, exist_ok=True)  # Crear carpeta de videos si no existe\n",
        "\n",
        "    # 1. Creamos el entorno con \"rgb_array\" para poder grabar.\n",
        "    env = gym.make(\"FrozenLake-v1\", map_name=map_name, is_slippery=is_slippery, render_mode=\"rgb_array\")\n",
        "\n",
        "    # 2. Envolvemos el entorno con RecordVideo\n",
        "    #    - Graba todos los episodios con episode_trigger=lambda e: True\n",
        "    env = gym.wrappers.RecordVideo(\n",
        "        env,\n",
        "        video_folder=video_folder,\n",
        "        episode_trigger=lambda e: True\n",
        "    )\n",
        "\n",
        "    # 3. Ejecutamos varios episodios usando la política GREEDY de Q\n",
        "    for ep in range(episodes):\n",
        "        state, info = env.reset()\n",
        "        done = False\n",
        "        truncated = False\n",
        "        while not (done or truncated):\n",
        "            # Elige la acción GREEDY\n",
        "            action = np.argmax(Q[state])\n",
        "            state, reward, done, truncated, info = env.step(action)\n",
        "            env.render()  # Para que se capturen los fotogramas\n",
        "    env.close()\n",
        "    return video_folder"
      ],
      "metadata": {
        "id": "oRYAP6rOeWAc"
      },
      "execution_count": 11,
      "outputs": []
    },
    {
      "cell_type": "markdown",
      "metadata": {
        "id": "JvnGJVGF_j2j"
      },
      "source": [
        "### **3.2 Experimentación en el escenario 4x4**\n",
        "\n",
        "\n",
        "\n",
        "   - Se realizan 5000 epsisodios y se actualizan los valores Q (valor de acción) basándose en las recompensas obtenidas durante cada episodio completo (e.d. aplicamos Monte Carlo) Se apica una política $\\epsilon$ greedy sobre una política $\\epsilon$ soft con un valor $\\epsilon$ constante\n",
        "\n",
        "\n"
      ]
    },
    {
      "cell_type": "code",
      "execution_count": 12,
      "metadata": {
        "colab": {
          "base_uri": "https://localhost:8080/"
        },
        "collapsed": true,
        "id": "j_Dronjr_mAN",
        "outputId": "31cc84fe-a936-4741-e0a3-15744010828f"
      },
      "outputs": [
        {
          "output_type": "stream",
          "name": "stderr",
          "text": [
            " 10%|█         | 5085/50000 [00:12<00:52, 854.67it/s]"
          ]
        },
        {
          "output_type": "stream",
          "name": "stdout",
          "text": [
            "Episodio 5000/50000 -> Éxito promedio: 0.169, epsilon: 0.400\n"
          ]
        },
        {
          "output_type": "stream",
          "name": "stderr",
          "text": [
            " 21%|██        | 10311/50000 [00:16<00:20, 1896.83it/s]"
          ]
        },
        {
          "output_type": "stream",
          "name": "stdout",
          "text": [
            "Episodio 10000/50000 -> Éxito promedio: 0.343, epsilon: 0.400\n"
          ]
        },
        {
          "output_type": "stream",
          "name": "stderr",
          "text": [
            " 31%|███       | 15348/50000 [00:18<00:19, 1816.72it/s]"
          ]
        },
        {
          "output_type": "stream",
          "name": "stdout",
          "text": [
            "Episodio 15000/50000 -> Éxito promedio: 0.406, epsilon: 0.400\n"
          ]
        },
        {
          "output_type": "stream",
          "name": "stderr",
          "text": [
            " 40%|████      | 20231/50000 [00:21<00:21, 1381.02it/s]"
          ]
        },
        {
          "output_type": "stream",
          "name": "stdout",
          "text": [
            "Episodio 20000/50000 -> Éxito promedio: 0.434, epsilon: 0.400\n"
          ]
        },
        {
          "output_type": "stream",
          "name": "stderr",
          "text": [
            " 51%|█████     | 25364/50000 [00:24<00:13, 1880.37it/s]"
          ]
        },
        {
          "output_type": "stream",
          "name": "stdout",
          "text": [
            "Episodio 25000/50000 -> Éxito promedio: 0.454, epsilon: 0.400\n"
          ]
        },
        {
          "output_type": "stream",
          "name": "stderr",
          "text": [
            " 61%|██████    | 30362/50000 [00:27<00:10, 1842.25it/s]"
          ]
        },
        {
          "output_type": "stream",
          "name": "stdout",
          "text": [
            "Episodio 30000/50000 -> Éxito promedio: 0.467, epsilon: 0.400\n"
          ]
        },
        {
          "output_type": "stream",
          "name": "stderr",
          "text": [
            " 70%|███████   | 35237/50000 [00:30<00:07, 1878.12it/s]"
          ]
        },
        {
          "output_type": "stream",
          "name": "stdout",
          "text": [
            "Episodio 35000/50000 -> Éxito promedio: 0.476, epsilon: 0.400\n"
          ]
        },
        {
          "output_type": "stream",
          "name": "stderr",
          "text": [
            " 81%|████████  | 40252/50000 [00:33<00:05, 1875.31it/s]"
          ]
        },
        {
          "output_type": "stream",
          "name": "stdout",
          "text": [
            "Episodio 40000/50000 -> Éxito promedio: 0.484, epsilon: 0.400\n"
          ]
        },
        {
          "output_type": "stream",
          "name": "stderr",
          "text": [
            " 90%|█████████ | 45155/50000 [00:35<00:02, 1649.53it/s]"
          ]
        },
        {
          "output_type": "stream",
          "name": "stdout",
          "text": [
            "Episodio 45000/50000 -> Éxito promedio: 0.491, epsilon: 0.400\n"
          ]
        },
        {
          "output_type": "stream",
          "name": "stderr",
          "text": [
            "100%|██████████| 50000/50000 [00:38<00:00, 1284.78it/s]"
          ]
        },
        {
          "output_type": "stream",
          "name": "stdout",
          "text": [
            "Episodio 50000/50000 -> Éxito promedio: 0.496, epsilon: 0.400\n"
          ]
        },
        {
          "output_type": "stream",
          "name": "stderr",
          "text": [
            "\n"
          ]
        }
      ],
      "source": [
        "# @title Aprendizaje\n",
        "Q, list_stats, episode_lengths = on_policy_all_visit(env4, num_episodes=50000, epsilon=0.4, discount_factor=1)"
      ]
    },
    {
      "cell_type": "code",
      "execution_count": 13,
      "metadata": {
        "colab": {
          "base_uri": "https://localhost:8080/",
          "height": 351
        },
        "id": "KLhdk1SFtn8S",
        "outputId": "95a181ca-44bb-4c9a-d80f-bec5e7893180"
      },
      "outputs": [
        {
          "output_type": "display_data",
          "data": {
            "text/plain": [
              "<Figure size 600x300 with 1 Axes>"
            ],
            "image/png": "[encoded data removed]"
          },
          "metadata": {}
        },
        {
          "output_type": "stream",
          "name": "stdout",
          "text": [
            "Máxima proporcion: 0.49558\n"
          ]
        }
      ],
      "source": [
        "#@title Proporción de aciertos por número de episodios\n",
        "\n",
        "plot(list_stats)\n",
        "print(f\"Máxima proporcion: {list_stats[-1]}\")"
      ]
    },
    {
      "cell_type": "markdown",
      "source": [
        "**Grafico de la proporción de recompensas:**  \n",
        "   Este gráfico muestra la recompensa promedio acumulada por episodio durante el entrenamiento. La proporción máxima alcanzada (~0.5) indica que el agente logra llegar a la meta en aproximadamente el 50% de los episodios. En un entorno determinista como FrozenLake (sin resbalones), un valor inferior a 1 sugiere que el agente aún explora acciones subóptimas debido a la política ε-greedy (ε=0.4). Aunque el algoritmo aprende, la exploración constante evita que siempre siga la política óptima, lo que limita la proporción de éxito al 50%. Esto refleja un equilibrio entre exploración y explotación."
      ],
      "metadata": {
        "id": "x3iueuPfyEAj"
      }
    },
    {
      "cell_type": "code",
      "execution_count": 14,
      "metadata": {
        "colab": {
          "base_uri": "https://localhost:8080/",
          "height": 334
        },
        "id": "nEF6vIyRYOCF",
        "outputId": "fde8f765-33f6-42b0-8035-6cb508085839"
      },
      "outputs": [
        {
          "output_type": "display_data",
          "data": {
            "text/plain": [
              "<Figure size 600x300 with 1 Axes>"
            ],
            "image/png": "[encoded data removed]"
          },
          "metadata": {}
        }
      ],
      "source": [
        "# Gráfica de la longitud de los episodios\n",
        "plot_episode_lengths(episode_lengths)"
      ]
    },
    {
      "cell_type": "markdown",
      "source": [
        "**Grafico de la evolución de la longitud de los episodios:**  \n",
        "   Este gráfico muestra cómo el número de pasos requeridos para completar un episodio disminuye con el tiempo. Inicialmente, el agente toma caminos largos o cae en agujeros, pero a medida que aprende, optimiza su ruta hacia la meta, reduciendo la longitud promedio. Las fluctuaciones persistentes se deben a la exploración (acciones aleatorias), que ocasionalmente llevan al agente a desviarse. La tendencia descendente confirma que el agente está aprendiendo a tomar decisiones más eficientes."
      ],
      "metadata": {
        "id": "MD2HageaymnW"
      }
    },
    {
      "cell_type": "markdown",
      "metadata": {
        "id": "zoP1jHL_StI9"
      },
      "source": [
        "####.\n",
        "Mostramos los valores Q para cada estado. Cada estado tienen 4 valores, que se corresponden con las 4 acciones que se pueden en cada estado."
      ]
    },
    {
      "cell_type": "code",
      "execution_count": 15,
      "metadata": {
        "colab": {
          "base_uri": "https://localhost:8080/"
        },
        "id": "psRtMmxyFkFq",
        "outputId": "dd5c9357-91ce-4779-efb6-9cd39ddcda89"
      },
      "outputs": [
        {
          "output_type": "stream",
          "name": "stdout",
          "text": [
            "Valores Q para cada estado:\n",
            " [[0.12614051 0.46429367 0.35938053 0.34851591]\n",
            " [0.13421645 0.         0.5685633  0.26501259]\n",
            " [0.37039937 0.62910725 0.46014127 0.56683417]\n",
            " [0.56019656 0.         0.3974359  0.2955665 ]\n",
            " [0.21177454 0.59363534 0.         0.37275688]\n",
            " [0.         0.         0.         0.        ]\n",
            " [0.         0.80641645 0.         0.61073059]\n",
            " [0.         0.         0.         0.        ]\n",
            " [0.33627518 0.         0.70233984 0.47200448]\n",
            " [0.56026839 0.82111619 0.80463289 0.        ]\n",
            " [0.70709631 0.9582225  0.         0.6049744 ]\n",
            " [0.         0.         0.         0.        ]\n",
            " [0.         0.         0.         0.        ]\n",
            " [0.         0.83131868 0.96072245 0.71721533]\n",
            " [0.81677456 0.95236761 1.         0.81590909]\n",
            " [0.         0.         0.         0.        ]]\n"
          ]
        }
      ],
      "source": [
        "# @title Tabla de valores Q\n",
        "LEFT, DOWN, RIGHT, UP = 0,1,2,3\n",
        "print(\"Valores Q para cada estado:\\n\", Q)\n"
      ]
    },
    {
      "cell_type": "markdown",
      "metadata": {
        "id": "AsJ-AgwcTgdO"
      },
      "source": [
        "- También se muestra la política óptima (greedy) obtenida a partir del aprendizaje anterior.\n",
        "\n",
        "- Cada estado tienen 4 valores, pero todos son 0 menos 1. Es decir, en cada estado se aplica de manera determinística una única acción.\n",
        "\n",
        "*TODO:* Mostrar de forma gráfica el escenario."
      ]
    },
    {
      "cell_type": "code",
      "source": [
        "virtual_display = Display(visible=0, size=(1400, 900))\n",
        "virtual_display.start()\n",
        "\n",
        "video_dir_4x4 = record_policy_in_frozenlake(Q, map_name=\"4x4\", episodes=2, video_folder=\"videos4x4\", is_slippery=False)\n",
        "\n",
        "# Mostramos el último video generado\n",
        "latest_file_4x4 = get_latest_episode_video_file(video_dir_4x4)\n",
        "print(\"Video 4x4:\", latest_file_4x4)\n",
        "embed_video(latest_file_4x4)\n",
        "#display.display(HTML(data=f'''  # Use 'display' from 'IPython.display'\n",
        "    #<video alt=\"test\" autoplay loop controls style=\"height: 400px;\">\n",
        "    #<source src=\"data:video/mp4;base64,{base64.b64encode(io.open(latest_file_4x4, 'r+b').read()).decode('ascii')}\" type=\"video/mp4\" />\n",
        "    #</video>''')) # Embed video data within HTML"
      ],
      "metadata": {
        "id": "23EsYmDKdz-S",
        "outputId": "647d85c3-bec2-4ed4-957b-c2d7bd0c7a7f",
        "colab": {
          "base_uri": "https://localhost:8080/",
          "height": 473
        }
      },
      "execution_count": 16,
      "outputs": [
        {
          "output_type": "stream",
          "name": "stderr",
          "text": [
            "/usr/local/lib/python3.11/dist-packages/gymnasium/wrappers/rendering.py:283: UserWarning: \u001b[33mWARN: Overwriting existing videos at /content/videos4x4 folder (try specifying a different `video_folder` for the `RecordVideo` wrapper if this is not desired)\u001b[0m\n",
            "  logger.warn(\n"
          ]
        },
        {
          "output_type": "stream",
          "name": "stdout",
          "text": [
            "Video 4x4: videos4x4/rl-video-episode-1.mp4\n"
          ]
        },
        {
          "output_type": "display_data",
          "data": {
            "text/plain": [
              "<IPython.core.display.HTML object>"
            ],
            "text/html": [
              "\n",
              "        <video alt=\"test\" autoplay loop controls style=\"height: 400px;\">\n",
              "        <source src=\"data:video/mp4;base64,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\" type=\"video/mp4\" />\n",
              "        </video>"
            ]
          },
          "metadata": {}
        }
      ]
    },
    {
      "cell_type": "code",
      "execution_count": 17,
      "metadata": {
        "colab": {
          "base_uri": "https://localhost:8080/"
        },
        "id": "dA0-q-woGYL2",
        "outputId": "ce661fcd-3f10-47f0-a154-30db9009cba8"
      },
      "outputs": [
        {
          "output_type": "stream",
          "name": "stdout",
          "text": [
            "Política óptima obtenida\n",
            " [[0. 1. 0. 0.]\n",
            " [0. 0. 0. 0.]\n",
            " [0. 0. 0. 0.]\n",
            " [0. 0. 0. 0.]\n",
            " [0. 1. 0. 0.]\n",
            " [0. 0. 0. 0.]\n",
            " [0. 0. 0. 0.]\n",
            " [0. 0. 0. 0.]\n",
            " [0. 0. 2. 0.]\n",
            " [0. 1. 0. 0.]\n",
            " [0. 0. 0. 0.]\n",
            " [0. 0. 0. 0.]\n",
            " [0. 0. 0. 0.]\n",
            " [0. 0. 2. 0.]\n",
            " [0. 0. 2. 0.]\n",
            " [0. 0. 0. 0.]] \n",
            " Acciones 1, 1, 2, 1, 2, 2,  \n",
            " Para el siguiente grid\n",
            " [[[180 200 230]\n",
            "  [180 200 230]\n",
            "  [180 200 230]\n",
            "  ...\n",
            "  [180 200 230]\n",
            "  [180 200 230]\n",
            "  [180 200 230]]\n",
            "\n",
            " [[180 200 230]\n",
            "  [204 230 255]\n",
            "  [204 230 255]\n",
            "  ...\n",
            "  [204 230 255]\n",
            "  [204 230 255]\n",
            "  [180 200 230]]\n",
            "\n",
            " [[180 200 230]\n",
            "  [235 245 249]\n",
            "  [204 230 255]\n",
            "  ...\n",
            "  [204 230 255]\n",
            "  [204 230 255]\n",
            "  [180 200 230]]\n",
            "\n",
            " ...\n",
            "\n",
            " [[180 200 230]\n",
            "  [235 245 249]\n",
            "  [235 245 249]\n",
            "  ...\n",
            "  [204 230 255]\n",
            "  [235 245 249]\n",
            "  [180 200 230]]\n",
            "\n",
            " [[180 200 230]\n",
            "  [235 245 249]\n",
            "  [235 245 249]\n",
            "  ...\n",
            "  [204 230 255]\n",
            "  [204 230 255]\n",
            "  [180 200 230]]\n",
            "\n",
            " [[180 200 230]\n",
            "  [180 200 230]\n",
            "  [180 200 230]\n",
            "  ...\n",
            "  [180 200 230]\n",
            "  [180 200 230]\n",
            "  [180 200 230]]]\n",
            "\n"
          ]
        }
      ],
      "source": [
        "# @title Política final\n",
        "LEFT, DOWN, RIGHT, UP = 0,1,2,3\n",
        "pi, actions = pi_star_from_Q(env4, Q)\n",
        "\n",
        "print(\"Política óptima obtenida\\n\", pi, f\"\\n Acciones {actions} \\n Para el siguiente grid\\n\", env4.render())\n",
        "print()"
      ]
    },
    {
      "cell_type": "markdown",
      "metadata": {
        "id": "3tUyGCBuS41T"
      },
      "source": [
        "### **3.3 Experimentación en el escenario 8x8**\n",
        "\n",
        "  - Se realizan 5000 epsisodios y se actualizan los valores Q (valor de acción) basándose en las recompensas obtenidas durante cada episodio completo (e.d. aplicamos Monte Carlo) Se apica una política $\\epsilon$ greedy sobre una política $\\epsilon$ soft con un valor $\\epsilon$ decreciente\n",
        "\n"
      ]
    },
    {
      "cell_type": "code",
      "execution_count": 19,
      "metadata": {
        "colab": {
          "base_uri": "https://localhost:8080/"
        },
        "collapsed": true,
        "id": "ttDsqDX16sSj",
        "outputId": "aa83bf99-d2db-4170-b327-3ef0648b33ad"
      },
      "outputs": [
        {
          "output_type": "stream",
          "name": "stderr",
          "text": [
            " 10%|█         | 5059/50000 [00:12<01:43, 433.88it/s]"
          ]
        },
        {
          "output_type": "stream",
          "name": "stdout",
          "text": [
            "Episodio 5000/50000 -> Éxito promedio: 0.484, epsilon: 0.200\n"
          ]
        },
        {
          "output_type": "stream",
          "name": "stderr",
          "text": [
            " 20%|██        | 10042/50000 [00:25<01:41, 392.41it/s]"
          ]
        },
        {
          "output_type": "stream",
          "name": "stdout",
          "text": [
            "Episodio 10000/50000 -> Éxito promedio: 0.693, epsilon: 0.100\n"
          ]
        },
        {
          "output_type": "stream",
          "name": "stderr",
          "text": [
            " 30%|███       | 15096/50000 [00:40<01:08, 509.01it/s]"
          ]
        },
        {
          "output_type": "stream",
          "name": "stdout",
          "text": [
            "Episodio 15000/50000 -> Éxito promedio: 0.767, epsilon: 0.067\n"
          ]
        },
        {
          "output_type": "stream",
          "name": "stderr",
          "text": [
            " 40%|████      | 20171/50000 [00:46<00:33, 886.20it/s]"
          ]
        },
        {
          "output_type": "stream",
          "name": "stdout",
          "text": [
            "Episodio 20000/50000 -> Éxito promedio: 0.817, epsilon: 0.050\n"
          ]
        },
        {
          "output_type": "stream",
          "name": "stderr",
          "text": [
            " 50%|█████     | 25172/50000 [00:52<00:28, 876.49it/s]"
          ]
        },
        {
          "output_type": "stream",
          "name": "stdout",
          "text": [
            "Episodio 25000/50000 -> Éxito promedio: 0.849, epsilon: 0.040\n"
          ]
        },
        {
          "output_type": "stream",
          "name": "stderr",
          "text": [
            " 60%|██████    | 30182/50000 [00:58<00:25, 777.17it/s]"
          ]
        },
        {
          "output_type": "stream",
          "name": "stdout",
          "text": [
            "Episodio 30000/50000 -> Éxito promedio: 0.871, epsilon: 0.033\n"
          ]
        },
        {
          "output_type": "stream",
          "name": "stderr",
          "text": [
            " 70%|███████   | 35140/50000 [01:03<00:14, 1014.92it/s]"
          ]
        },
        {
          "output_type": "stream",
          "name": "stdout",
          "text": [
            "Episodio 35000/50000 -> Éxito promedio: 0.887, epsilon: 0.029\n"
          ]
        },
        {
          "output_type": "stream",
          "name": "stderr",
          "text": [
            " 80%|████████  | 40107/50000 [01:09<00:14, 682.00it/s]"
          ]
        },
        {
          "output_type": "stream",
          "name": "stdout",
          "text": [
            "Episodio 40000/50000 -> Éxito promedio: 0.900, epsilon: 0.025\n"
          ]
        },
        {
          "output_type": "stream",
          "name": "stderr",
          "text": [
            " 90%|█████████ | 45168/50000 [01:15<00:05, 913.03it/s]"
          ]
        },
        {
          "output_type": "stream",
          "name": "stdout",
          "text": [
            "Episodio 45000/50000 -> Éxito promedio: 0.910, epsilon: 0.022\n"
          ]
        },
        {
          "output_type": "stream",
          "name": "stderr",
          "text": [
            "100%|██████████| 50000/50000 [01:21<00:00, 615.36it/s]"
          ]
        },
        {
          "output_type": "stream",
          "name": "stdout",
          "text": [
            "Episodio 50000/50000 -> Éxito promedio: 0.917, epsilon: 0.020\n"
          ]
        },
        {
          "output_type": "stream",
          "name": "stderr",
          "text": [
            "\n"
          ]
        }
      ],
      "source": [
        "# @title Aprendizaje\n",
        "Q, list_stats, episode_lengths = on_policy_all_visit(env8, num_episodes=50000, epsilon=0.4, decay=True, discount_factor=1)"
      ]
    },
    {
      "cell_type": "code",
      "execution_count": 24,
      "metadata": {
        "colab": {
          "base_uri": "https://localhost:8080/",
          "height": 351
        },
        "id": "Z_tbLcAq6yWR",
        "outputId": "e56e41bb-fb27-48bd-e23d-b3793a777899"
      },
      "outputs": [
        {
          "output_type": "display_data",
          "data": {
            "text/plain": [
              "<Figure size 600x300 with 1 Axes>"
            ],
            "image/png": "[encoded data removed]"
          },
          "metadata": {}
        },
        {
          "output_type": "stream",
          "name": "stdout",
          "text": [
            "Máxima proporcion: 0.91744\n"
          ]
        }
      ],
      "source": [
        "#@title Proporción de aciertos por número de episodios\n",
        "\n",
        "plot(list_stats)\n",
        "print(f\"Máxima proporcion: {list_stats[-1]}\")"
      ]
    },
    {
      "cell_type": "markdown",
      "source": [
        "**Grafico de la proporción de recompensas:**  \n",
        "   Aqui la proporción máxima alcanzada (~0.9) indica que el agente logra llegar a la meta en aproximadamente el 90% de los episodios. El algoritmo demuestra que aprende, la exploración constante evita que siempre siga la política óptima, lo que limita la proporción de éxito al 10%. Esto refleja que el algoritmo es capaz de explorar y encontrar una solución optima."
      ],
      "metadata": {
        "id": "MQRwGpMB08ca"
      }
    },
    {
      "cell_type": "code",
      "execution_count": 20,
      "metadata": {
        "colab": {
          "base_uri": "https://localhost:8080/",
          "height": 334
        },
        "id": "JoCTBLSnYxyn",
        "outputId": "9c95f992-3c2f-485e-8549-501f0a9621e7"
      },
      "outputs": [
        {
          "output_type": "display_data",
          "data": {
            "text/plain": [
              "<Figure size 600x300 with 1 Axes>"
            ],
            "image/png": "[encoded data removed]"
          },
          "metadata": {}
        }
      ],
      "source": [
        "# Gráfica de la longitud de los episodios\n",
        "plot_episode_lengths(episode_lengths)"
      ]
    },
    {
      "cell_type": "markdown",
      "source": [
        "**Grafico de la evolución de la longitud de los episodios:**  \n",
        "Inicialmente, el agente toma caminos largos o cae en agujeros, pero a medida que aprende, optimiza su ruta hacia la meta, reduciendo la longitud promedio. Las fluctuaciones persistentes se deben a la exploración (acciones aleatorias), que ocasionalmente llevan al agente a desviarse. La tendencia descendente confirma que el agente está aprendiendo a tomar decisiones más eficientes."
      ],
      "metadata": {
        "id": "S01vsRXt2S6k"
      }
    },
    {
      "cell_type": "markdown",
      "metadata": {
        "id": "dptS3Xv8v8H7"
      },
      "source": [
        "####.\n",
        "Mostramos los valores Q para cada estado. Cada estado tienen 4 valores, que se corresponden con las 4 acciones que se pueden en cada estado."
      ]
    },
    {
      "cell_type": "code",
      "execution_count": 21,
      "metadata": {
        "colab": {
          "base_uri": "https://localhost:8080/"
        },
        "id": "scmn1mwlwBam",
        "outputId": "62558b2d-3742-4cf6-e250-d060d3eb73e5"
      },
      "outputs": [
        {
          "output_type": "stream",
          "name": "stdout",
          "text": [
            "Valores Q para cada estado:\n",
            " [[0.31121363 0.31310943 0.91016966 0.29367362]\n",
            " [0.37407063 0.39903846 0.91879214 0.41241578]\n",
            " [0.44178082 0.46965318 0.92265914 0.42290146]\n",
            " [0.58024017 0.55926893 0.91944095 0.57914046]\n",
            " [0.76356946 0.82616111 0.95501307 0.8277427 ]\n",
            " [0.64246425 0.95689532 0.6555436  0.6519337 ]\n",
            " [0.37230769 0.37102473 0.73726434 0.34394904]\n",
            " [0.61026936 0.81491003 0.67835349 0.59767025]\n",
            " [0.04243542 0.38905775 0.05166052 0.05731225]\n",
            " [0.10554951 0.10733262 0.57336272 0.1051109 ]\n",
            " [0.20573566 0.1645857  0.22276622 0.70774306]\n",
            " [0.64648438 0.         0.23627685 0.2047619 ]\n",
            " [0.43316413 0.43672014 0.85251279 0.44288225]\n",
            " [0.68022783 0.69135802 0.95394973 0.70154374]\n",
            " [0.76814516 0.70886076 0.95808788 0.73961499]\n",
            " [0.76820513 0.95574846 0.74       0.72318973]\n",
            " [0.08333333 0.08563536 0.46984288 0.06442577]\n",
            " [0.10714286 0.11470113 0.10972222 0.51091082]\n",
            " [0.27906977 0.04383562 0.         0.05367232]\n",
            " [0.         0.         0.         0.        ]\n",
            " [0.         0.2        0.60775862 0.23376623]\n",
            " [0.33742331 0.         0.77121771 0.37931034]\n",
            " [0.37313433 0.44827586 0.83247334 0.47183099]\n",
            " [0.77002584 0.95414307 0.81285988 0.75701754]\n",
            " [0.01362862 0.00907029 0.00892857 0.14837398]\n",
            " [0.02506266 0.01320132 0.00980392 0.15800866]\n",
            " [0.05514706 0.00546448 0.01123596 0.01685393]\n",
            " [0.02898551 0.         0.         0.        ]\n",
            " [0.         0.         0.         0.40983607]\n",
            " [0.         0.         0.         0.        ]\n",
            " [0.         0.4296875  0.804758   0.48484848]\n",
            " [0.75885329 0.95660717 0.78345725 0.7976081 ]\n",
            " [0.11182796 0.00917431 0.01593625 0.03474903]\n",
            " [0.04455446 0.         0.01630435 0.        ]\n",
            " [0.03389831 0.         0.         0.        ]\n",
            " [0.         0.         0.         0.        ]\n",
            " [0.         0.         0.         0.        ]\n",
            " [0.         0.         0.42105263 0.        ]\n",
            " [0.21333333 0.         0.91036088 0.50757576]\n",
            " [0.80855397 0.95967095 0.84428443 0.84189723]\n",
            " [0.0546875  0.         0.         0.02352941]\n",
            " [0.         0.         0.         0.        ]\n",
            " [0.         0.         0.         0.        ]\n",
            " [0.         0.         0.         0.        ]\n",
            " [0.         0.         0.         0.        ]\n",
            " [0.         0.         0.         0.        ]\n",
            " [0.         0.         0.         0.        ]\n",
            " [0.         0.97973598 0.87881981 0.86746988]\n",
            " [0.         0.         0.         0.        ]\n",
            " [0.         0.         0.         0.        ]\n",
            " [0.         0.         0.         0.        ]\n",
            " [0.         0.         0.         0.        ]\n",
            " [0.         0.         0.         0.        ]\n",
            " [0.         0.         0.         0.        ]\n",
            " [0.         0.         0.         0.        ]\n",
            " [0.         1.         0.93058824 0.88355342]\n",
            " [0.         0.         0.         0.        ]\n",
            " [0.         0.         0.         0.        ]\n",
            " [0.         0.         0.         0.        ]\n",
            " [0.         0.         0.         0.        ]\n",
            " [0.         0.         0.         0.        ]\n",
            " [0.         0.         0.         0.        ]\n",
            " [0.         0.         0.         0.        ]\n",
            " [0.         0.         0.         0.        ]]\n"
          ]
        }
      ],
      "source": [
        "# @title Tabla de valores Q\n",
        "LEFT, DOWN, RIGHT, UP = 0,1,2,3\n",
        "print(\"Valores Q para cada estado:\\n\", Q)"
      ]
    },
    {
      "cell_type": "markdown",
      "metadata": {
        "id": "oWQWD7UqwH2Y"
      },
      "source": [
        "- También se muestra la política óptima (greedy) obtenida a partir del aprendizaje anterior.\n",
        "\n",
        "- Cada estado tienen 4 valores, pero todos son 0 menos 1. Es decir, en cada estado se aplica de manera determinística una única acción.\n",
        "\n",
        "*TODO:* Mostrar de forma gráfica el escenario."
      ]
    },
    {
      "cell_type": "code",
      "source": [
        "#Repetimos para 8x8\n",
        "video_dir_8x8 = record_policy_in_frozenlake(Q, map_name=\"8x8\", episodes=2, video_folder=\"videos8x8\", is_slippery=False)\n",
        "\n",
        "latest_file_8x8 = get_latest_episode_video_file(video_dir_8x8)\n",
        "print(\"Último video 8x8:\", latest_file_8x8)\n",
        "embed_video(latest_file_8x8)\n"
      ],
      "metadata": {
        "id": "4CoMDbJIXCJ3",
        "outputId": "ff3775eb-95ed-4919-f008-7b1bf0376c01",
        "colab": {
          "base_uri": "https://localhost:8080/",
          "height": 473
        }
      },
      "execution_count": 22,
      "outputs": [
        {
          "output_type": "stream",
          "name": "stderr",
          "text": [
            "/usr/local/lib/python3.11/dist-packages/gymnasium/wrappers/rendering.py:283: UserWarning: \u001b[33mWARN: Overwriting existing videos at /content/videos8x8 folder (try specifying a different `video_folder` for the `RecordVideo` wrapper if this is not desired)\u001b[0m\n",
            "  logger.warn(\n"
          ]
        },
        {
          "output_type": "stream",
          "name": "stdout",
          "text": [
            "Último video 8x8: videos8x8/rl-video-episode-1.mp4\n"
          ]
        },
        {
          "output_type": "display_data",
          "data": {
            "text/plain": [
              "<IPython.core.display.HTML object>"
            ],
            "text/html": [
              "\n",
              "        <video alt=\"test\" autoplay loop controls style=\"height: 400px;\">\n",
              "        <source src=\"data:video/mp4;base64,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\" type=\"video/mp4\" />\n",
              "        </video>"
            ]
          },
          "metadata": {}
        }
      ]
    },
    {
      "cell_type": "code",
      "execution_count": 23,
      "metadata": {
        "colab": {
          "base_uri": "https://localhost:8080/"
        },
        "id": "1n6i3oMzwSG3",
        "outputId": "fa8fc0ff-b42b-47ab-cd7e-161a91021229"
      },
      "outputs": [
        {
          "output_type": "stream",
          "name": "stdout",
          "text": [
            "Política óptima obtenida\n",
            " [[0. 0. 2. 0.]\n",
            " [0. 0. 2. 0.]\n",
            " [0. 0. 2. 0.]\n",
            " [0. 0. 2. 0.]\n",
            " [0. 0. 2. 0.]\n",
            " [0. 1. 0. 0.]\n",
            " [0. 0. 0. 0.]\n",
            " [0. 0. 0. 0.]\n",
            " [0. 0. 0. 0.]\n",
            " [0. 0. 0. 0.]\n",
            " [0. 0. 0. 0.]\n",
            " [0. 0. 0. 0.]\n",
            " [0. 0. 0. 0.]\n",
            " [0. 0. 2. 0.]\n",
            " [0. 0. 2. 0.]\n",
            " [0. 1. 0. 0.]\n",
            " [0. 0. 0. 0.]\n",
            " [0. 0. 0. 0.]\n",
            " [0. 0. 0. 0.]\n",
            " [0. 0. 0. 0.]\n",
            " [0. 0. 0. 0.]\n",
            " [0. 0. 0. 0.]\n",
            " [0. 0. 0. 0.]\n",
            " [0. 1. 0. 0.]\n",
            " [0. 0. 0. 0.]\n",
            " [0. 0. 0. 0.]\n",
            " [0. 0. 0. 0.]\n",
            " [0. 0. 0. 0.]\n",
            " [0. 0. 0. 0.]\n",
            " [0. 0. 0. 0.]\n",
            " [0. 0. 0. 0.]\n",
            " [0. 1. 0. 0.]\n",
            " [0. 0. 0. 0.]\n",
            " [0. 0. 0. 0.]\n",
            " [0. 0. 0. 0.]\n",
            " [0. 0. 0. 0.]\n",
            " [0. 0. 0. 0.]\n",
            " [0. 0. 0. 0.]\n",
            " [0. 0. 0. 0.]\n",
            " [0. 1. 0. 0.]\n",
            " [0. 0. 0. 0.]\n",
            " [0. 0. 0. 0.]\n",
            " [0. 0. 0. 0.]\n",
            " [0. 0. 0. 0.]\n",
            " [0. 0. 0. 0.]\n",
            " [0. 0. 0. 0.]\n",
            " [0. 0. 0. 0.]\n",
            " [0. 1. 0. 0.]\n",
            " [0. 0. 0. 0.]\n",
            " [0. 0. 0. 0.]\n",
            " [0. 0. 0. 0.]\n",
            " [0. 0. 0. 0.]\n",
            " [0. 0. 0. 0.]\n",
            " [0. 0. 0. 0.]\n",
            " [0. 0. 0. 0.]\n",
            " [0. 1. 0. 0.]\n",
            " [0. 0. 0. 0.]\n",
            " [0. 0. 0. 0.]\n",
            " [0. 0. 0. 0.]\n",
            " [0. 0. 0. 0.]\n",
            " [0. 0. 0. 0.]\n",
            " [0. 0. 0. 0.]\n",
            " [0. 0. 0. 0.]\n",
            " [0. 0. 0. 0.]] \n",
            " Acciones 2, 2, 2, 2, 2, 1, 2, 2, 1, 1, 1, 1, 1, 1,  \n",
            " Para el siguiente grid\n",
            " [[[180 200 230]\n",
            "  [180 200 230]\n",
            "  [180 200 230]\n",
            "  ...\n",
            "  [180 200 230]\n",
            "  [180 200 230]\n",
            "  [180 200 230]]\n",
            "\n",
            " [[180 200 230]\n",
            "  [204 230 255]\n",
            "  [204 230 255]\n",
            "  ...\n",
            "  [204 230 255]\n",
            "  [204 230 255]\n",
            "  [180 200 230]]\n",
            "\n",
            " [[180 200 230]\n",
            "  [235 245 249]\n",
            "  [204 230 255]\n",
            "  ...\n",
            "  [204 230 255]\n",
            "  [204 230 255]\n",
            "  [180 200 230]]\n",
            "\n",
            " ...\n",
            "\n",
            " [[180 200 230]\n",
            "  [235 245 249]\n",
            "  [235 245 249]\n",
            "  ...\n",
            "  [204 230 255]\n",
            "  [235 245 249]\n",
            "  [180 200 230]]\n",
            "\n",
            " [[180 200 230]\n",
            "  [235 245 249]\n",
            "  [235 245 249]\n",
            "  ...\n",
            "  [204 230 255]\n",
            "  [204 230 255]\n",
            "  [180 200 230]]\n",
            "\n",
            " [[180 200 230]\n",
            "  [180 200 230]\n",
            "  [180 200 230]\n",
            "  ...\n",
            "  [180 200 230]\n",
            "  [180 200 230]\n",
            "  [180 200 230]]]\n",
            "\n"
          ]
        }
      ],
      "source": [
        "# @title Política final\n",
        "LEFT, DOWN, RIGHT, UP = 0,1,2,3\n",
        "pi, actions = pi_star_from_Q(env8, Q)\n",
        "\n",
        "print(\"Política óptima obtenida\\n\", pi, f\"\\n Acciones {actions} \\n Para el siguiente grid\\n\", env8.render())\n",
        "print()"
      ]
    },
    {
      "cell_type": "markdown",
      "metadata": {
        "id": "FG0Z813yhKz7"
      },
      "source": [
        "## **4. Análisis y Estudios Futuros**\n",
        "\n",
        "### **4.1 Análisis de Resultados**\n",
        "\n",
        "- En los dos entornos (4x4 y 8x8), el agente comienza con un conocimiento muy limitado, pero gradualmente mejora su desempeño a medida que avanza en los episodios. Este comportamiento se puede observar en el gráfico de la proporción de recompensas, que aumenta con el tiempo.\n",
        "- En el entorno 4x4, la máxima proporción de éxito alcanzada fue 0.522, mientras que en el entorno 8x8, la máxima alcanzada fue 0.914. Esto refleja que el agente aprendió a optimizar su estrategia en un entorno más complejo.\n",
        "- La política óptima obtenida muestra las acciones recomendadas por el agente en cada estado del entorno. En el entorno 8x8, la política es más compleja debido a la mayor cantidad de estados y la dificultad del entorno.\n",
        "\n",
        "### **4.2 Propuestas para Estudios Futuros**\n",
        "\n",
        "1. **Evaluar con Otros Entornos**: Sería interesante aplicar este algoritmo a otros entornos más complejos de `gym`, como \"Taxi-v3\" o \"MountainCar\", para analizar cómo se comporta el agente en situaciones con dinámicas más complicadas.\n",
        "   \n",
        "2. **Optimización del Decaimiento de Epsilon**: Aunque se utilizó un decaimiento de epsilon en el segundo experimento, se podría investigar la efectividad de diferentes tasas de decaimiento o incluso explorar algoritmos como `Q-learning` para comparar su desempeño. Graficamente se trataría de mostrar la curva de la tasa de aciertos para distintas funciones de decaimientos\n",
        "\n",
        "3. **Análisis del Impacto de los descuentos en las Recompensas**: El estudio se ha hecho para $\\gamma = 1$; pero no se ha probado qué pasa cuando  $0 \\leq \\gamma < 1$. Se trataría de estudiar la curva para distintos valores de $\\gamma$\n",
        "\n",
        "4. **Nuevas gráficas**: Aquí solo se ha usado la proporción de aciertos, pero sería interesante qué relación entre dicha tasa y las tamaños de los episodios.\n",
        "\n",
        "4. **Ampliación del Algoritmo**: Explorar otros enfoques de Monte Carlo o incluso combinar Monte Carlo con otros algoritmos de aprendizaje por refuerzo, como el Deep Q-Network (DQN), podría mejorar aún más los resultados en entornos más complejos.\n"
      ]
    },
    {
      "cell_type": "markdown",
      "source": [
        "#¿Por qué la longitud del episodio también es un buen indicador de aprendizaje?\n",
        "La longitud del episodio refleja directamente la eficiencia del agente. A medida que aprende, reduce el número de pasos necesarios para alcanzar la meta, evitando movimientos redundantes o caídas en agujeros. En entornos con recompensas escasas (como FrozenLake, donde solo se obtiene recompensa al final), la longitud es un indicador más sensible que la recompensa misma, ya que esta solo cambia cuando se llega a la meta. Una disminución en la longitud indica que el agente está encontrando rutas más cortas y consistentes, demostrando una comprensión clara del entorno. Además, en fases iniciales, episodios largos revelan exploración o políticas subóptimas, mientras que episodios cortos confirman explotación exitosa del conocimiento adquirido."
      ],
      "metadata": {
        "id": "GoqTIqs-gO0c"
      }
    }
  ],
  "metadata": {
    "colab": {
      "provenance": [],
      "include_colab_link": true
    },
    "kernelspec": {
      "display_name": "Python 3",
      "name": "python3"
    },
    "language_info": {
      "name": "python"
    }
  },
  "nbformat": 4,
  "nbformat_minor": 0
}