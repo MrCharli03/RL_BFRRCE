{
  "cells": [
    {
      "cell_type": "markdown",
      "metadata": {
        "id": "view-in-github",
        "colab_type": "text"
      },
      "source": [
        "<a href=\"https://colab.research.google.com/github/MrCharli03/RL_BFRRCE/blob/main/notebook2.ipynb\" target=\"_parent\"><img src=\"https://colab.research.google.com/assets/colab-badge.svg\" alt=\"Open In Colab\"/></a>"
      ]
    },
    {
      "cell_type": "markdown",
      "metadata": {
        "id": "LBqDbIQlPUse"
      },
      "source": [
        "Author: Esteban Becerra, Carlos Cruzado, Anastasiya Ruzhytska\n",
        "Email: esteban.becerraf@um.es carlos.cruzadoe1@um.es anastasiya.r.r@um.es\n",
        "Date: 2025/02/23"
      ]
    },
    {
      "cell_type": "markdown",
      "metadata": {
        "id": "SipaVo-gz1ey"
      },
      "source": [
        "# **Monte Carlo con Políticas epsilon-soft**\n",
        "\n",
        "_Esto es un ejemplo de uso de Gymnasium e informe sobre un experimento de aprendizaje por refuerzo_\n",
        "\n",
        "````\n",
        "Luis D. Hernández.\n",
        "<ldaniel at um.es>\n",
        "````\n",
        "\n",
        "Este notebook describe un experimento de aprendizaje por refuerzo utilizando el algoritmo de Monte Carlo con políticas epsilon-soft. El propósito de este análisis es entrenar un agente en un entorno de gym con el juego \"FrozenLake\", un entorno estándar en el que el agente debe aprender a moverse a través de un mapa en busca de una meta, evitando caer en agujeros. A continuación, se presenta una descripción de las diferentes partes del código y el proceso utilizado en el experimento."
      ]
    },
    {
      "cell_type": "markdown",
      "metadata": {
        "id": "loCIjd-T0AVg"
      },
      "source": [
        "## **1. Preparación del Entorno**"
      ]
    },
    {
      "cell_type": "markdown",
      "metadata": {
        "id": "e2MTvyPWcU2q"
      },
      "source": [
        "La preparación consta de las siguientes partes:\n",
        "- **Instalación de Dependencias**: Se instalan las librerías necesarias para utilizar el entorno `gymnasium` para la simulación, con el objetivo de crear un ambiente controlado para que el agente pueda interactuar.\n",
        "- **Importación de Librerías**: Se importan las bibliotecas necesarias como `numpy` para el manejo de matrices y `matplotlib` para la visualización de los resultados.\n",
        "\n",
        "- **Importación del Entorno \"FrozenLake\"**:\n",
        "Se cargan dos versiones del entorno \"FrozenLake\": una de 4x4 y otra de 8x8. Ambas versiones no son resbaladizas, lo que facilita la comprensión de los resultados, dado que el entorno resbaladizo podría dificultar la comprensión inicial del aprendizaje.\n",
        "\n",
        "#### 3. **Funciones para Mostrar los Resultados**\n",
        "   - Se define una función para graficar la proporción de recompensas obtenidas en cada episodio del entrenamiento. Esto ayuda a visualizar el progreso del agente en términos de su desempeño durante el entrenamiento.\n",
        "\n"
      ]
    },
    {
      "cell_type": "markdown",
      "metadata": {
        "id": "0P7_98YrcsZw"
      },
      "source": [
        "##### _________ **Código de la Instalación e Importación**\n",
        "----"
      ]
    },
    {
      "cell_type": "code",
      "execution_count": 1,
      "metadata": {
        "id": "s-wSiHxNyuBH"
      },
      "outputs": [],
      "source": [
        "%%capture\n",
        "#@title Instalamos gym\n",
        "!pip install 'gym[box2d]==0.20.0'\n",
        "\n",
        "## Instalación de algunos paquetes.\n",
        "#!apt-get update\n",
        "## Para usar gymnasium[box2d]\n",
        "#!apt install swig\n",
        "#!pip install gymnasium[box2d]"
      ]
    },
    {
      "cell_type": "code",
      "source": [
        "# Instalación de algunos paquetes.\n",
        "!apt-get update\n",
        "\n",
        "# Para visualizar en colab https://medium.com/@coldstart_coder/visually-rendering-python-gymnasium-in-jupyter-notebooks-4413e4087a0f\n",
        "!apt-get install -y python-opengl ffmpeg\n",
        "!apt-get install --upgrade cmake\n",
        "\n",
        "# Para usar gymnasium[box2d]\n",
        "!apt install swig xvfb\n",
        "!pip install -U  pyvirtualdisplay"
      ],
      "metadata": {
        "id": "CYseIsPV39WN",
        "outputId": "07ae5a27-2d08-427d-c050-86081afc016f",
        "colab": {
          "base_uri": "https://localhost:8080/"
        }
      },
      "execution_count": 2,
      "outputs": [
        {
          "output_type": "stream",
          "name": "stdout",
          "text": [
            "Get:1 https://developer.download.nvidia.com/compute/cuda/repos/ubuntu2204/x86_64  InRelease [1,581 B]\n",
            "Get:2 https://developer.download.nvidia.com/compute/cuda/repos/ubuntu2204/x86_64  Packages [1,341 kB]\n",
            "Get:3 http://security.ubuntu.com/ubuntu jammy-security InRelease [129 kB]\n",
            "Get:4 https://r2u.stat.illinois.edu/ubuntu jammy InRelease [6,555 B]\n",
            "Hit:5 http://archive.ubuntu.com/ubuntu jammy InRelease\n",
            "Get:6 http://archive.ubuntu.com/ubuntu jammy-updates InRelease [128 kB]\n",
            "Hit:7 https://ppa.launchpadcontent.net/deadsnakes/ppa/ubuntu jammy InRelease\n",
            "Get:8 https://cloud.r-project.org/bin/linux/ubuntu jammy-cran40/ InRelease [3,632 B]\n",
            "Hit:9 https://ppa.launchpadcontent.net/graphics-drivers/ppa/ubuntu jammy InRelease\n",
            "Hit:10 https://ppa.launchpadcontent.net/ubuntugis/ppa/ubuntu jammy InRelease\n",
            "Get:11 https://r2u.stat.illinois.edu/ubuntu jammy/main amd64 Packages [2,666 kB]\n",
            "Get:12 http://archive.ubuntu.com/ubuntu jammy-backports InRelease [127 kB]\n",
            "Get:13 https://r2u.stat.illinois.edu/ubuntu jammy/main all Packages [8,714 kB]\n",
            "Get:14 http://security.ubuntu.com/ubuntu jammy-security/main amd64 Packages [2,682 kB]\n",
            "Get:15 http://security.ubuntu.com/ubuntu jammy-security/universe amd64 Packages [1,235 kB]\n",
            "Get:16 http://security.ubuntu.com/ubuntu jammy-security/restricted amd64 Packages [3,755 kB]\n",
            "Get:17 http://archive.ubuntu.com/ubuntu jammy-updates/restricted amd64 Packages [3,891 kB]\n",
            "Get:18 http://archive.ubuntu.com/ubuntu jammy-updates/main amd64 Packages [2,988 kB]\n",
            "Get:19 http://archive.ubuntu.com/ubuntu jammy-updates/universe amd64 Packages [1,533 kB]\n",
            "Fetched 29.2 MB in 10s (2,993 kB/s)\n",
            "Reading package lists... Done\n",
            "W: Skipping acquire of configured file 'main/source/Sources' as repository 'https://r2u.stat.illinois.edu/ubuntu jammy InRelease' does not seem to provide it (sources.list entry misspelt?)\n",
            "Reading package lists... Done\n",
            "Building dependency tree... Done\n",
            "Reading state information... Done\n",
            "E: Unable to locate package python-opengl\n",
            "Reading package lists... Done\n",
            "Building dependency tree... Done\n",
            "Reading state information... Done\n",
            "cmake is already the newest version (3.22.1-1ubuntu1.22.04.2).\n",
            "0 upgraded, 0 newly installed, 0 to remove and 45 not upgraded.\n",
            "Reading package lists... Done\n",
            "Building dependency tree... Done\n",
            "Reading state information... Done\n",
            "The following additional packages will be installed:\n",
            "  libfontenc1 libxfont2 libxkbfile1 swig4.0 x11-xkb-utils xfonts-base xfonts-encodings xfonts-utils\n",
            "  xserver-common\n",
            "Suggested packages:\n",
            "  swig-doc swig-examples swig4.0-examples swig4.0-doc\n",
            "The following NEW packages will be installed:\n",
            "  libfontenc1 libxfont2 libxkbfile1 swig swig4.0 x11-xkb-utils xfonts-base xfonts-encodings\n",
            "  xfonts-utils xserver-common xvfb\n",
            "0 upgraded, 11 newly installed, 0 to remove and 45 not upgraded.\n",
            "Need to get 8,930 kB of archives.\n",
            "After this operation, 17.5 MB of additional disk space will be used.\n",
            "Get:1 http://archive.ubuntu.com/ubuntu jammy/main amd64 libfontenc1 amd64 1:1.1.4-1build3 [14.7 kB]\n",
            "Get:2 http://archive.ubuntu.com/ubuntu jammy/main amd64 libxfont2 amd64 1:2.0.5-1build1 [94.5 kB]\n",
            "Get:3 http://archive.ubuntu.com/ubuntu jammy/main amd64 libxkbfile1 amd64 1:1.1.0-1build3 [71.8 kB]\n",
            "Get:4 http://archive.ubuntu.com/ubuntu jammy/universe amd64 swig4.0 amd64 4.0.2-1ubuntu1 [1,110 kB]\n",
            "Get:5 http://archive.ubuntu.com/ubuntu jammy/universe amd64 swig all 4.0.2-1ubuntu1 [5,632 B]\n",
            "Get:6 http://archive.ubuntu.com/ubuntu jammy/main amd64 x11-xkb-utils amd64 7.7+5build4 [172 kB]\n",
            "Get:7 http://archive.ubuntu.com/ubuntu jammy/main amd64 xfonts-encodings all 1:1.0.5-0ubuntu2 [578 kB]\n",
            "Get:8 http://archive.ubuntu.com/ubuntu jammy/main amd64 xfonts-utils amd64 1:7.7+6build2 [94.6 kB]\n",
            "Get:9 http://archive.ubuntu.com/ubuntu jammy/main amd64 xfonts-base all 1:1.0.5 [5,896 kB]\n",
            "Get:10 http://archive.ubuntu.com/ubuntu jammy-updates/main amd64 xserver-common all 2:21.1.4-2ubuntu1.7~22.04.13 [29.1 kB]\n",
            "Get:11 http://archive.ubuntu.com/ubuntu jammy-updates/universe amd64 xvfb amd64 2:21.1.4-2ubuntu1.7~22.04.13 [863 kB]\n",
            "Fetched 8,930 kB in 2s (5,457 kB/s)\n",
            "Selecting previously unselected package libfontenc1:amd64.\n",
            "(Reading database ... 124947 files and directories currently installed.)\n",
            "Preparing to unpack .../00-libfontenc1_1%3a1.1.4-1build3_amd64.deb ...\n",
            "Unpacking libfontenc1:amd64 (1:1.1.4-1build3) ...\n",
            "Selecting previously unselected package libxfont2:amd64.\n",
            "Preparing to unpack .../01-libxfont2_1%3a2.0.5-1build1_amd64.deb ...\n",
            "Unpacking libxfont2:amd64 (1:2.0.5-1build1) ...\n",
            "Selecting previously unselected package libxkbfile1:amd64.\n",
            "Preparing to unpack .../02-libxkbfile1_1%3a1.1.0-1build3_amd64.deb ...\n",
            "Unpacking libxkbfile1:amd64 (1:1.1.0-1build3) ...\n",
            "Selecting previously unselected package swig4.0.\n",
            "Preparing to unpack .../03-swig4.0_4.0.2-1ubuntu1_amd64.deb ...\n",
            "Unpacking swig4.0 (4.0.2-1ubuntu1) ...\n",
            "Selecting previously unselected package swig.\n",
            "Preparing to unpack .../04-swig_4.0.2-1ubuntu1_all.deb ...\n",
            "Unpacking swig (4.0.2-1ubuntu1) ...\n",
            "Selecting previously unselected package x11-xkb-utils.\n",
            "Preparing to unpack .../05-x11-xkb-utils_7.7+5build4_amd64.deb ...\n",
            "Unpacking x11-xkb-utils (7.7+5build4) ...\n",
            "Selecting previously unselected package xfonts-encodings.\n",
            "Preparing to unpack .../06-xfonts-encodings_1%3a1.0.5-0ubuntu2_all.deb ...\n",
            "Unpacking xfonts-encodings (1:1.0.5-0ubuntu2) ...\n",
            "Selecting previously unselected package xfonts-utils.\n",
            "Preparing to unpack .../07-xfonts-utils_1%3a7.7+6build2_amd64.deb ...\n",
            "Unpacking xfonts-utils (1:7.7+6build2) ...\n",
            "Selecting previously unselected package xfonts-base.\n",
            "Preparing to unpack .../08-xfonts-base_1%3a1.0.5_all.deb ...\n",
            "Unpacking xfonts-base (1:1.0.5) ...\n",
            "Selecting previously unselected package xserver-common.\n",
            "Preparing to unpack .../09-xserver-common_2%3a21.1.4-2ubuntu1.7~22.04.13_all.deb ...\n",
            "Unpacking xserver-common (2:21.1.4-2ubuntu1.7~22.04.13) ...\n",
            "Selecting previously unselected package xvfb.\n",
            "Preparing to unpack .../10-xvfb_2%3a21.1.4-2ubuntu1.7~22.04.13_amd64.deb ...\n",
            "Unpacking xvfb (2:21.1.4-2ubuntu1.7~22.04.13) ...\n",
            "Setting up libfontenc1:amd64 (1:1.1.4-1build3) ...\n",
            "Setting up xfonts-encodings (1:1.0.5-0ubuntu2) ...\n",
            "Setting up libxkbfile1:amd64 (1:1.1.0-1build3) ...\n",
            "Setting up swig4.0 (4.0.2-1ubuntu1) ...\n",
            "Setting up libxfont2:amd64 (1:2.0.5-1build1) ...\n",
            "Setting up swig (4.0.2-1ubuntu1) ...\n",
            "Setting up x11-xkb-utils (7.7+5build4) ...\n",
            "Setting up xfonts-utils (1:7.7+6build2) ...\n",
            "Setting up xfonts-base (1:1.0.5) ...\n",
            "Setting up xserver-common (2:21.1.4-2ubuntu1.7~22.04.13) ...\n",
            "Setting up xvfb (2:21.1.4-2ubuntu1.7~22.04.13) ...\n",
            "Processing triggers for man-db (2.10.2-1) ...\n",
            "Processing triggers for fontconfig (2.13.1-4.2ubuntu5) ...\n",
            "Processing triggers for libc-bin (2.35-0ubuntu3.8) ...\n",
            "/sbin/ldconfig.real: /usr/local/lib/libtbbbind.so.3 is not a symbolic link\n",
            "\n",
            "/sbin/ldconfig.real: /usr/local/lib/libtbbbind_2_0.so.3 is not a symbolic link\n",
            "\n",
            "/sbin/ldconfig.real: /usr/local/lib/libtcm_debug.so.1 is not a symbolic link\n",
            "\n",
            "/sbin/ldconfig.real: /usr/local/lib/libur_adapter_level_zero.so.0 is not a symbolic link\n",
            "\n",
            "/sbin/ldconfig.real: /usr/local/lib/libhwloc.so.15 is not a symbolic link\n",
            "\n",
            "/sbin/ldconfig.real: /usr/local/lib/libur_adapter_opencl.so.0 is not a symbolic link\n",
            "\n",
            "/sbin/ldconfig.real: /usr/local/lib/libtbb.so.12 is not a symbolic link\n",
            "\n",
            "/sbin/ldconfig.real: /usr/local/lib/libtbbbind_2_5.so.3 is not a symbolic link\n",
            "\n",
            "/sbin/ldconfig.real: /usr/local/lib/libtcm.so.1 is not a symbolic link\n",
            "\n",
            "/sbin/ldconfig.real: /usr/local/lib/libumf.so.0 is not a symbolic link\n",
            "\n",
            "/sbin/ldconfig.real: /usr/local/lib/libur_loader.so.0 is not a symbolic link\n",
            "\n",
            "/sbin/ldconfig.real: /usr/local/lib/libtbbmalloc_proxy.so.2 is not a symbolic link\n",
            "\n",
            "/sbin/ldconfig.real: /usr/local/lib/libtbbmalloc.so.2 is not a symbolic link\n",
            "\n",
            "Collecting pyvirtualdisplay\n",
            "  Downloading PyVirtualDisplay-3.0-py3-none-any.whl.metadata (943 bytes)\n",
            "Downloading PyVirtualDisplay-3.0-py3-none-any.whl (15 kB)\n",
            "Installing collected packages: pyvirtualdisplay\n",
            "Successfully installed pyvirtualdisplay-3.0\n"
          ]
        }
      ]
    },
    {
      "cell_type": "code",
      "execution_count": 3,
      "metadata": {
        "id": "o5s4pz9Hzk7r"
      },
      "outputs": [],
      "source": [
        "#@title Importamos librerias\n",
        "import numpy as np\n",
        "import matplotlib.pyplot as plt\n",
        "from tqdm import tqdm\n",
        "import gymnasium as gym"
      ]
    },
    {
      "cell_type": "code",
      "source": [
        "import os\n",
        "import re\n",
        "import io\n",
        "import base64\n",
        "from IPython import display\n",
        "from IPython.display import HTML\n",
        "from pyvirtualdisplay import Display"
      ],
      "metadata": {
        "id": "FEAqGv_J4GSS"
      },
      "execution_count": 4,
      "outputs": []
    },
    {
      "cell_type": "code",
      "execution_count": 5,
      "metadata": {
        "id": "0ogCwKft-Ki9"
      },
      "outputs": [],
      "source": [
        "#@title Importamos el lago helado\n",
        "name = 'FrozenLake-v1'\n",
        "env4 = gym.make(name, is_slippery=False, map_name=\"4x4\", render_mode=\"rgb_array\") # No resbaladizo para entender mejor los resultados.\n",
        "env8 = gym.make(name, is_slippery=False, map_name=\"8x8\", render_mode=\"rgb_array\") # No resbaladizo para entender mejor los resultados."
      ]
    },
    {
      "cell_type": "markdown",
      "metadata": {
        "id": "n1ySdi2wdXdm"
      },
      "source": [
        "## **2. Diseño del Agente**\n",
        "\n",
        "El diseño del agente consta de dos partes, el algoritmo con el que aprende y las políticas (toma de decisiones) que realiza.\n",
        "\n",
        "- **Políticas del Agente**\n",
        "   - **Política epsilon-soft**: Se define una política donde todas las acciones tienen una probabilidad de ser elegida.\n",
        "   - **Política epsilon-greedy**: basada en la política epsilon-soft. De esta forma el agente tiene una pequeña probabilidad de explorar (tomar una acción aleatoria) y una mayor probabilidad de explotar (tomar la acción que considera mejor). Esto permite equilibrar la exploración y la explotación.\n",
        "   - **Política greedy**: Es la usada una vez que \"ha aprendido\".\n",
        "\n",
        "- **Algoritmo de Iteración de Valor**\n",
        "  - Se implementa el algoritmo de iteración de valor utilizando Monte Carlo.\n",
        "  - Se usa una versión \"on-policy\" de Monte Carlo con políticas epsilon greedy sobre una política epsilon-soft.\n",
        "  - Se basa en el criterio de todas las visitas.\n",
        "  - Otro aspecto es que la actualización de los retornos no se realiza en el orden inverso a las visitas."
      ]
    },
    {
      "cell_type": "markdown",
      "metadata": {
        "id": "9vDI1gmKfDPT"
      },
      "source": [
        "#### **Código de las políticas y algoritmo MC**\n",
        "----------------"
      ]
    },
    {
      "cell_type": "code",
      "execution_count": 6,
      "metadata": {
        "id": "lVEIYzaJ4p8N"
      },
      "outputs": [],
      "source": [
        "# @title Políticas del agente\n",
        "\n",
        "# actions\n",
        "LEFT, DOWN, RIGHT, UP = 0,1,2,3\n",
        "\n",
        "# Política epsilon-soft. Se usa para el entrenamiento\n",
        "def random_epsilon_greedy_policy(Q, epsilon, state, nA):\n",
        "    pi_A = np.ones(nA, dtype=float) * epsilon / nA\n",
        "    best_action = np.argmax(Q[state])\n",
        "    pi_A[best_action] += (1.0 - epsilon)\n",
        "    return pi_A\n",
        "\n",
        "# Política epsilon-greedy a partir de una epsilon-soft\n",
        "def epsilon_greedy_policy(Q, epsilon, state, nA):\n",
        "    pi_A = random_epsilon_greedy_policy(Q, epsilon, state, nA)\n",
        "    return np.random.choice(np.arange(nA), p=pi_A)\n",
        "\n",
        "# Política Greedy a partir de los valones Q. Se usa para mostrar la solución.\n",
        "def pi_star_from_Q(env, Q):\n",
        "    done = False\n",
        "    pi_star = np.zeros([env.observation_space.n, env.action_space.n])\n",
        "    state, info = env.reset() # start in top-left, = 0\n",
        "    actions = \"\"\n",
        "    while not done:\n",
        "        action = np.argmax(Q[state, :])\n",
        "        actions += f\"{action}, \"\n",
        "        pi_star[state,action] = action\n",
        "        state, reward, terminated, truncated, info = env.step(action)\n",
        "        done = terminated or truncated\n",
        "    return pi_star, actions"
      ]
    },
    {
      "cell_type": "code",
      "execution_count": 7,
      "metadata": {
        "id": "RpUWKye-7YA1"
      },
      "outputs": [],
      "source": [
        "#@title Algoritmo de Iteración de Valor versión MC con Políticas epsilon-soft\n",
        "\n",
        "def on_policy_all_visit(env, num_episodes=5000, epsilon=0.4, decay=False, discount_factor=1):\n",
        "    nA = env.action_space.n\n",
        "    Q = np.zeros([env.observation_space.n, nA])\n",
        "    n_visits = np.zeros([env.observation_space.n, nA])\n",
        "\n",
        "    stats = 0.0\n",
        "    list_stats = []       # Para almacenar la recompensa promedio\n",
        "    episode_lengths = []  # Para almacenar la longitud de cada episodio\n",
        "    step_display = num_episodes / 10 if num_episodes >= 10 else 1\n",
        "\n",
        "    for t in tqdm(range(num_episodes)):\n",
        "        state, info = env.reset(seed=42 + t)\n",
        "        done = False\n",
        "        episode = []  # Almacenará (estado, acción, recompensa) en cada paso\n",
        "\n",
        "        # Generamos el episodio completo\n",
        "        while not done:\n",
        "            if decay:\n",
        "                epsilon = min(1.0, 1000.0/(t+1))\n",
        "            action = epsilon_greedy_policy(Q, epsilon, state, nA)\n",
        "            new_state, reward, terminated, truncated, info = env.step(action)\n",
        "            done = terminated or truncated\n",
        "            episode.append((state, action, reward))\n",
        "            state = new_state\n",
        "\n",
        "        # Calculamos el retorno G para cada paso del episodio.\n",
        "        # Se utiliza una forma recursiva recorriendo el episodio en orden inverso.\n",
        "        G = 0.0\n",
        "        returns = [0] * len(episode)  # returns[i] será el retorno desde el paso i\n",
        "        for i in reversed(range(len(episode))):\n",
        "            s, a, r = episode[i]\n",
        "            G = r + discount_factor * G\n",
        "            returns[i] = G\n",
        "\n",
        "        # Actualizamos Q para cada visita (every-visit MC)\n",
        "        for i, (s, a, _) in enumerate(episode):\n",
        "            n_visits[s, a] += 1.0\n",
        "            alpha = 1.0 / n_visits[s, a]\n",
        "            Q[s, a] += alpha * (returns[i] - Q[s, a])\n",
        "\n",
        "        # Para estadísticas, consideramos el retorno desde el primer paso del episodio\n",
        "        stats += returns[0]\n",
        "        promedio_recompensas = stats / (t + 1)\n",
        "        list_stats.append(promedio_recompensas)\n",
        "        episode_lengths.append(len(episode))\n",
        "\n",
        "        if (t+1) % step_display == 0 and t != 0:\n",
        "            print(f\"Episodio {t+1}/{num_episodes} -> Éxito promedio: {promedio_recompensas:.3f}, epsilon: {epsilon:.3f}\")\n",
        "\n",
        "    return Q, list_stats, episode_lengths"
      ]
    },
    {
      "cell_type": "markdown",
      "source": [
        "**Cambios Realizados:**\n",
        "\n",
        "- **Almacenamiento en el episodio:**  \n",
        "  - Se guarda cada paso como una tupla de *(estado, acción, recompensa)* en lugar de solo *(estado, acción)*.\n",
        "\n",
        "- **Cálculo del retorno:**  \n",
        "  - Se recorre el episodio en orden inverso para calcular, de forma individual, el retorno \\(G_t\\) para cada paso, almacenándolo en un vector `returns`.  \n",
        "\n",
        "- **Actualización de Q:**  \n",
        "  - Se actualiza \\(Q(s, a)\\) utilizando el retorno específico de cada visita (tomado de `returns[i]`), en lugar de usar el mismo valor global para todas las visitas.\n",
        "\n",
        "- **Estadísticas:**  \n",
        "  - Se registra además la longitud de cada episodio en `episode_lengths`.  \n",
        "  - Se inicializa `list_stats` como lista vacía y se actualiza con el promedio de \\(G_0\\) (retorno del primer paso) de cada episodio, en lugar de iniciar con `[stats]` y acumular el retorno global.\n",
        "\n",
        "- **Salida por pantalla:**  \n",
        "  - Se muestra un mensaje detallado indicando el número de episodio, el éxito promedio y el valor de epsilon, en contraste con el mensaje más simplificado del original."
      ],
      "metadata": {
        "id": "vpvxHFyd0bG5"
      }
    },
    {
      "cell_type": "markdown",
      "metadata": {
        "id": "0XxVyTFTfVkL"
      },
      "source": [
        "## **3. Experimentación**\n",
        "\n",
        "   - En esta sección, el algoritmo de Monte Carlo con la política epsilon-soft se ejecuta tanto para el entorno de 4x4 como al de 8x8 de FrozenLake sin resbalar.\n",
        "   \n",
        "   - En ambos casos se realiza un entrenamiento con un número determinado de episodios (5000 en concreto)\n",
        "\n",
        "   - Además en el escenario 8x8 el  epsilon tiene decaimiento de acuerdo a la expresión: $\\epsilon = min(1.0, 1000.0/(t+1))$\n",
        "\n",
        "   - Durante el entrenamiento hay una visualización de la proporción de recompensas obtenidas a lo largo del entrenamiento.\n",
        "\n",
        "   - Junto a dicho volcado se muestra gráficamente la proporcion de recompensas obtendias.\n",
        "\n",
        "   - También se hace un volcado de los valores Q de cada estado, donde se muestra cómo el agente valora diferentes acciones en distintos estados del entorno, lo que puede interpretarse como su conocimiento sobre las mejores estrategias para alcanzar la meta sin caer en los agujeros.\n",
        "\n",
        "   - Además, se muestra la política óptima derivada de los valores Q. Esta política es la que el agente seguiría si tuviera que elegir siempre la acción que maximiza su recompensa esperada.\n",
        "\n",
        "   "
      ]
    },
    {
      "cell_type": "markdown",
      "metadata": {
        "id": "cqdLUE8zQN2v"
      },
      "source": [
        "### **3.1 Repressentaciones Gráficas**\n",
        "\n",
        "Para comprobar el aprendizaje se mostrará la función $f(t)=\\frac{\\sum_{i=1}^t R_i}{t}$ para $t=1,2,\\ldots, NumeroEpisodios$. La justificación es la siguiente. Como sabemmos que el retorno en el estados inicial 1 (pues no hay descuento) o 9, si se divide por el número de episodios ejecutados se calcular el porcentaje de recompensas positivas obtenidas. Dicho de otra forma, nos dirá el porcentaje de veces que el agente ha llegado al estado terminal.\n"
      ]
    },
    {
      "cell_type": "code",
      "execution_count": 8,
      "metadata": {
        "id": "u42-YlgazukU"
      },
      "outputs": [],
      "source": [
        "# @title Funciones para mostrar los resultados\n",
        "\n",
        "def plot(list_stats):\n",
        "  # Creamos una lista de índices para el eje x\n",
        "  indices = list(range(len(list_stats)))\n",
        "\n",
        "  # Creamos el gráfico\n",
        "  plt.figure(figsize=(6, 3))\n",
        "  plt.plot(indices, list_stats)\n",
        "\n",
        "  # Añadimos título y etiquetas\n",
        "  plt.title('Proporción de recompensas')\n",
        "  plt.xlabel('Episodio')\n",
        "  plt.ylabel('Proporción')\n",
        "\n",
        "  # Mostramos el gráfico\n",
        "  plt.grid(True)\n",
        "  plt.show()\n",
        "\n",
        "# Define la función para mostrar el tamaño de los episodios\n",
        "# Pon aquí tu código."
      ]
    },
    {
      "cell_type": "markdown",
      "metadata": {
        "id": "Fz2xcbqHfMNc"
      },
      "source": [
        "#### Gráfica que muestre la longitud de los episodios en cada estado"
      ]
    },
    {
      "cell_type": "code",
      "execution_count": 9,
      "metadata": {
        "id": "lR8apo5jYEbA"
      },
      "outputs": [],
      "source": [
        "def plot_episode_lengths(episode_lengths):\n",
        "    \"\"\"\n",
        "    Muestra la longitud de cada episodio a lo largo del entrenamiento.\n",
        "    \"\"\"\n",
        "    plt.figure(figsize=(6, 3))\n",
        "    plt.plot(episode_lengths, label=\"Longitud del episodio\")\n",
        "    plt.xlabel(\"Episodio\")\n",
        "    plt.ylabel(\"Longitud\")\n",
        "    plt.title(\"Evolución de la longitud de los episodios\")\n",
        "    plt.grid(True)\n",
        "    plt.legend()\n",
        "    plt.show()\n"
      ]
    },
    {
      "cell_type": "markdown",
      "source": [
        "#### Simulacion Video\n"
      ],
      "metadata": {
        "id": "dQtA43hXdxgR"
      }
    },
    {
      "cell_type": "markdown",
      "source": [
        "FUNCIONES PARA MOSTRAR VIDEOS"
      ],
      "metadata": {
        "id": "cIF0XouceS90"
      }
    },
    {
      "cell_type": "code",
      "source": [
        "def get_latest_episode_video_file(directory):\n",
        "    \"\"\"\n",
        "    Devuelve el nombre (con ruta) del video .mp4 de episodio\n",
        "    más reciente en 'directory', siguiendo el patrón\n",
        "    'rl-video-episode-<numero>.mp4'.\n",
        "    \"\"\"\n",
        "    pattern = re.compile(r\"rl-video-episode-(\\d+)\\.mp4\")\n",
        "    latest_file = None\n",
        "    highest_episode = -1\n",
        "    for filename in os.listdir(directory):\n",
        "        match = pattern.match(filename)\n",
        "        if match:\n",
        "            episode_number = int(match.group(1))\n",
        "            if episode_number > highest_episode:\n",
        "                highest_episode = episode_number\n",
        "                latest_file = os.path.join(directory, filename)\n",
        "    return latest_file\n",
        "\n",
        "def embed_video(video_file):\n",
        "    \"\"\"\n",
        "    Incrusta el video .mp4 en el notebook a partir de su ruta.\n",
        "    \"\"\"\n",
        "    video_data = io.open(video_file, 'r+b').read()\n",
        "    encoded_data = base64.b64encode(video_data)\n",
        "    display.display(HTML(data=f'''\n",
        "        <video alt=\"test\" autoplay loop controls style=\"height: 400px;\">\n",
        "        <source src=\"data:video/mp4;base64,{encoded_data.decode('ascii')}\" type=\"video/mp4\" />\n",
        "        </video>'''))\n"
      ],
      "metadata": {
        "id": "xgHEc_1Ed4gP"
      },
      "execution_count": 10,
      "outputs": []
    },
    {
      "cell_type": "markdown",
      "source": [
        "FUNCIÓN PARA GRABAR EPISODIOS"
      ],
      "metadata": {
        "id": "4S-oYj65eUPg"
      }
    },
    {
      "cell_type": "code",
      "source": [
        "def record_policy_in_frozenlake(Q, map_name=\"4x4\", episodes=3, video_folder=\"videos\", is_slippery=False):\n",
        "    \"\"\"\n",
        "    - Crea un entorno FrozenLake con render_mode=\"rgb_array\" para poder capturar video.\n",
        "    - Envuelve el entorno con RecordVideo, grabando cada episodio.\n",
        "    - Ejecuta 'episodes' episodios usando la política GREEDY a partir de Q.\n",
        "    - Cierra el entorno y retorna la carpeta con los videos generados.\n",
        "    \"\"\"\n",
        "    os.makedirs(video_folder, exist_ok=True)  # Crear carpeta de videos si no existe\n",
        "\n",
        "    # 1. Creamos el entorno con \"rgb_array\" para poder grabar.\n",
        "    env = gym.make(\"FrozenLake-v1\", map_name=map_name, is_slippery=is_slippery, render_mode=\"rgb_array\")\n",
        "\n",
        "    # 2. Envolvemos el entorno con RecordVideo\n",
        "    #    - Graba todos los episodios con episode_trigger=lambda e: True\n",
        "    env = gym.wrappers.RecordVideo(\n",
        "        env,\n",
        "        video_folder=video_folder,\n",
        "        episode_trigger=lambda e: True\n",
        "    )\n",
        "\n",
        "    # 3. Ejecutamos varios episodios usando la política GREEDY de Q\n",
        "    for ep in range(episodes):\n",
        "        state, info = env.reset()\n",
        "        done = False\n",
        "        truncated = False\n",
        "        while not (done or truncated):\n",
        "            # Elige la acción GREEDY\n",
        "            action = np.argmax(Q[state])\n",
        "            state, reward, done, truncated, info = env.step(action)\n",
        "            env.render()  # Para que se capturen los fotogramas\n",
        "    env.close()\n",
        "    return video_folder"
      ],
      "metadata": {
        "id": "oRYAP6rOeWAc"
      },
      "execution_count": 11,
      "outputs": []
    },
    {
      "cell_type": "markdown",
      "metadata": {
        "id": "JvnGJVGF_j2j"
      },
      "source": [
        "### **3.2 Experimentación en el escenario 4x4**\n",
        "\n",
        "\n",
        "\n",
        "   - Se realizan 5000 epsisodios y se actualizan los valores Q (valor de acción) basándose en las recompensas obtenidas durante cada episodio completo (e.d. aplicamos Monte Carlo) Se apica una política $\\epsilon$ greedy sobre una política $\\epsilon$ soft con un valor $\\epsilon$ constante\n",
        "\n",
        "\n"
      ]
    },
    {
      "cell_type": "code",
      "execution_count": 12,
      "metadata": {
        "colab": {
          "base_uri": "https://localhost:8080/"
        },
        "collapsed": true,
        "id": "j_Dronjr_mAN",
        "outputId": "2cacbc9f-bbbe-4cf1-9194-4f56f893e119"
      },
      "outputs": [
        {
          "output_type": "stream",
          "name": "stderr",
          "text": [
            " 10%|█         | 5105/50000 [00:09<01:14, 600.54it/s]"
          ]
        },
        {
          "output_type": "stream",
          "name": "stdout",
          "text": [
            "Episodio 5000/50000 -> Éxito promedio: 0.459, epsilon: 0.400\n"
          ]
        },
        {
          "output_type": "stream",
          "name": "stderr",
          "text": [
            " 21%|██        | 10304/50000 [00:13<00:18, 2193.84it/s]"
          ]
        },
        {
          "output_type": "stream",
          "name": "stdout",
          "text": [
            "Episodio 10000/50000 -> Éxito promedio: 0.505, epsilon: 0.400\n"
          ]
        },
        {
          "output_type": "stream",
          "name": "stderr",
          "text": [
            " 31%|███       | 15287/50000 [00:15<00:14, 2343.01it/s]"
          ]
        },
        {
          "output_type": "stream",
          "name": "stdout",
          "text": [
            "Episodio 15000/50000 -> Éxito promedio: 0.518, epsilon: 0.400\n"
          ]
        },
        {
          "output_type": "stream",
          "name": "stderr",
          "text": [
            " 41%|████      | 20515/50000 [00:18<00:11, 2470.57it/s]"
          ]
        },
        {
          "output_type": "stream",
          "name": "stdout",
          "text": [
            "Episodio 20000/50000 -> Éxito promedio: 0.526, epsilon: 0.400\n"
          ]
        },
        {
          "output_type": "stream",
          "name": "stderr",
          "text": [
            " 51%|█████     | 25487/50000 [00:20<00:09, 2512.89it/s]"
          ]
        },
        {
          "output_type": "stream",
          "name": "stdout",
          "text": [
            "Episodio 25000/50000 -> Éxito promedio: 0.530, epsilon: 0.400\n"
          ]
        },
        {
          "output_type": "stream",
          "name": "stderr",
          "text": [
            " 61%|██████    | 30384/50000 [00:22<00:08, 2202.98it/s]"
          ]
        },
        {
          "output_type": "stream",
          "name": "stdout",
          "text": [
            "Episodio 30000/50000 -> Éxito promedio: 0.530, epsilon: 0.400\n"
          ]
        },
        {
          "output_type": "stream",
          "name": "stderr",
          "text": [
            " 71%|███████   | 35373/50000 [00:25<00:06, 2315.41it/s]"
          ]
        },
        {
          "output_type": "stream",
          "name": "stdout",
          "text": [
            "Episodio 35000/50000 -> Éxito promedio: 0.534, epsilon: 0.400\n"
          ]
        },
        {
          "output_type": "stream",
          "name": "stderr",
          "text": [
            " 81%|████████  | 40334/50000 [00:27<00:04, 2401.90it/s]"
          ]
        },
        {
          "output_type": "stream",
          "name": "stdout",
          "text": [
            "Episodio 40000/50000 -> Éxito promedio: 0.536, epsilon: 0.400\n"
          ]
        },
        {
          "output_type": "stream",
          "name": "stderr",
          "text": [
            " 91%|█████████ | 45461/50000 [00:29<00:01, 2410.87it/s]"
          ]
        },
        {
          "output_type": "stream",
          "name": "stdout",
          "text": [
            "Episodio 45000/50000 -> Éxito promedio: 0.537, epsilon: 0.400\n"
          ]
        },
        {
          "output_type": "stream",
          "name": "stderr",
          "text": [
            "100%|██████████| 50000/50000 [00:31<00:00, 1600.29it/s]"
          ]
        },
        {
          "output_type": "stream",
          "name": "stdout",
          "text": [
            "Episodio 50000/50000 -> Éxito promedio: 0.538, epsilon: 0.400\n"
          ]
        },
        {
          "output_type": "stream",
          "name": "stderr",
          "text": [
            "\n"
          ]
        }
      ],
      "source": [
        "# @title Aprendizaje\n",
        "import numpy as np\n",
        "import random\n",
        "# Fijar la semilla para numpy\n",
        "np.random.seed(42)\n",
        "# Fijar la semilla para la librería random de Python\n",
        "random.seed(42)\n",
        "Q, list_stats, episode_lengths = on_policy_all_visit(env4, num_episodes=50000, epsilon=0.4, discount_factor=1)"
      ]
    },
    {
      "cell_type": "code",
      "execution_count": 13,
      "metadata": {
        "colab": {
          "base_uri": "https://localhost:8080/",
          "height": 351
        },
        "id": "KLhdk1SFtn8S",
        "outputId": "0013dcc7-8c0f-4732-9dd4-45936981bd5e"
      },
      "outputs": [
        {
          "output_type": "display_data",
          "data": {
            "text/plain": [
              "<Figure size 600x300 with 1 Axes>"
            ],
            "image/png": "[encoded data removed]"
          },
          "metadata": {}
        },
        {
          "output_type": "stream",
          "name": "stdout",
          "text": [
            "Máxima proporcion: 0.5378\n"
          ]
        }
      ],
      "source": [
        "#@title Proporción de aciertos por número de episodios\n",
        "\n",
        "plot(list_stats)\n",
        "print(f\"Máxima proporcion: {list_stats[-1]}\")"
      ]
    },
    {
      "cell_type": "markdown",
      "source": [
        "**Grafico de la proporción de recompensas:**  \n",
        "   Este gráfico muestra la recompensa promedio acumulada por episodio durante el entrenamiento. La proporción máxima alcanzada (~0.5) indica que el agente logra llegar a la meta en aproximadamente el 50% de los episodios. En un entorno determinista como FrozenLake (sin resbalones), un valor inferior a 1 sugiere que el agente aún explora acciones subóptimas debido a la política ε-greedy (ε=0.4). Aunque el algoritmo aprende, la exploración constante evita que siempre siga la política óptima, lo que limita la proporción de éxito al 50%. Esto refleja un equilibrio entre exploración y explotación."
      ],
      "metadata": {
        "id": "x3iueuPfyEAj"
      }
    },
    {
      "cell_type": "code",
      "execution_count": 14,
      "metadata": {
        "colab": {
          "base_uri": "https://localhost:8080/",
          "height": 334
        },
        "id": "nEF6vIyRYOCF",
        "outputId": "8a1ba906-3ebd-4202-82ea-e6361b4800ea"
      },
      "outputs": [
        {
          "output_type": "display_data",
          "data": {
            "text/plain": [
              "<Figure size 600x300 with 1 Axes>"
            ],
            "image/png": "[encoded data removed]"
          },
          "metadata": {}
        }
      ],
      "source": [
        "# Gráfica de la longitud de los episodios\n",
        "plot_episode_lengths(episode_lengths)"
      ]
    },
    {
      "cell_type": "markdown",
      "source": [
        "**Grafico de la evolución de la longitud de los episodios:**  \n",
        "   Este gráfico muestra cómo el número de pasos requeridos para completar un episodio disminuye con el tiempo. Inicialmente, el agente toma caminos largos o cae en agujeros, pero a medida que aprende, optimiza su ruta hacia la meta, reduciendo la longitud promedio. Las fluctuaciones persistentes se deben a la exploración (acciones aleatorias), que ocasionalmente llevan al agente a desviarse. La tendencia descendente confirma que el agente está aprendiendo a tomar decisiones más eficientes."
      ],
      "metadata": {
        "id": "MD2HageaymnW"
      }
    },
    {
      "cell_type": "markdown",
      "metadata": {
        "id": "zoP1jHL_StI9"
      },
      "source": [
        "####.\n",
        "Mostramos los valores Q para cada estado. Cada estado tienen 4 valores, que se corresponden con las 4 acciones que se pueden en cada estado."
      ]
    },
    {
      "cell_type": "code",
      "execution_count": 15,
      "metadata": {
        "colab": {
          "base_uri": "https://localhost:8080/"
        },
        "id": "psRtMmxyFkFq",
        "outputId": "a2b90935-c981-42ee-ed7d-81ce84280b7d"
      },
      "outputs": [
        {
          "output_type": "stream",
          "name": "stdout",
          "text": [
            "Valores Q para cada estado:\n",
            " [[0.30696203 0.54038331 0.45919011 0.49228612]\n",
            " [0.33572612 0.         0.57539224 0.33824492]\n",
            " [0.40831075 0.61427281 0.48247664 0.55151515]\n",
            " [0.54847278 0.         0.43065693 0.36912752]\n",
            " [0.40444821 0.62382073 0.         0.51718131]\n",
            " [0.         0.         0.         0.        ]\n",
            " [0.         0.80289066 0.         0.53333333]\n",
            " [0.         0.         0.         0.        ]\n",
            " [0.5284991  0.         0.72219174 0.53802246]\n",
            " [0.59593516 0.83158112 0.8032548  0.        ]\n",
            " [0.7265625  0.96110797 0.         0.6045283 ]\n",
            " [0.         0.         0.         0.        ]\n",
            " [0.         0.         0.         0.        ]\n",
            " [0.         0.83695652 0.96134984 0.7352614 ]\n",
            " [0.83911343 0.95931759 1.         0.81112277]\n",
            " [0.         0.         0.         0.        ]]\n"
          ]
        }
      ],
      "source": [
        "# @title Tabla de valores Q\n",
        "LEFT, DOWN, RIGHT, UP = 0,1,2,3\n",
        "print(\"Valores Q para cada estado:\\n\", Q)\n"
      ]
    },
    {
      "cell_type": "markdown",
      "metadata": {
        "id": "AsJ-AgwcTgdO"
      },
      "source": [
        "- También se muestra la política óptima (greedy) obtenida a partir del aprendizaje anterior.\n",
        "\n",
        "- Cada estado tienen 4 valores, pero todos son 0 menos 1. Es decir, en cada estado se aplica de manera determinística una única acción.\n",
        "\n",
        "*TODO:* Mostrar de forma gráfica el escenario."
      ]
    },
    {
      "cell_type": "code",
      "source": [
        "virtual_display = Display(visible=0, size=(1400, 900))\n",
        "virtual_display.start()\n",
        "\n",
        "video_dir_4x4 = record_policy_in_frozenlake(Q, map_name=\"4x4\", episodes=2, video_folder=\"videos4x4\", is_slippery=False)\n",
        "\n",
        "# Mostramos el último video generado\n",
        "latest_file_4x4 = get_latest_episode_video_file(video_dir_4x4)\n",
        "print(\"Video 4x4:\", latest_file_4x4)\n",
        "embed_video(latest_file_4x4)\n",
        "#display.display(HTML(data=f'''  # Use 'display' from 'IPython.display'\n",
        "    #<video alt=\"test\" autoplay loop controls style=\"height: 400px;\">\n",
        "    #<source src=\"data:video/mp4;base64,{base64.b64encode(io.open(latest_file_4x4, 'r+b').read()).decode('ascii')}\" type=\"video/mp4\" />\n",
        "    #</video>''')) # Embed video data within HTML"
      ],
      "metadata": {
        "id": "23EsYmDKdz-S",
        "outputId": "5b15df37-4144-4bed-9591-a9365e0b64f6",
        "colab": {
          "base_uri": "https://localhost:8080/",
          "height": 493
        }
      },
      "execution_count": 16,
      "outputs": [
        {
          "output_type": "stream",
          "name": "stderr",
          "text": [
            "/usr/local/lib/python3.11/dist-packages/gymnasium/wrappers/rendering.py:283: UserWarning: \u001b[33mWARN: Overwriting existing videos at /content/videos4x4 folder (try specifying a different `video_folder` for the `RecordVideo` wrapper if this is not desired)\u001b[0m\n",
            "  logger.warn(\n"
          ]
        },
        {
          "output_type": "stream",
          "name": "stdout",
          "text": [
            "Video 4x4: videos4x4/rl-video-episode-1.mp4\n"
          ]
        },
        {
          "output_type": "display_data",
          "data": {
            "text/plain": [
              "<IPython.core.display.HTML object>"
            ],
            "text/html": [
              "\n",
              "        <video alt=\"test\" autoplay loop controls style=\"height: 400px;\">\n",
              "        <source src=\"data:video/mp4;base64,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\" type=\"video/mp4\" />\n",
              "        </video>"
            ]
          },
          "metadata": {}
        }
      ]
    },
    {
      "cell_type": "code",
      "execution_count": 17,
      "metadata": {
        "colab": {
          "base_uri": "https://localhost:8080/"
        },
        "id": "dA0-q-woGYL2",
        "outputId": "79d8ac85-d252-4ddb-e0a5-4f0eb1ec15ec"
      },
      "outputs": [
        {
          "output_type": "stream",
          "name": "stdout",
          "text": [
            "Política óptima obtenida\n",
            " [[0. 1. 0. 0.]\n",
            " [0. 0. 0. 0.]\n",
            " [0. 0. 0. 0.]\n",
            " [0. 0. 0. 0.]\n",
            " [0. 1. 0. 0.]\n",
            " [0. 0. 0. 0.]\n",
            " [0. 0. 0. 0.]\n",
            " [0. 0. 0. 0.]\n",
            " [0. 0. 2. 0.]\n",
            " [0. 1. 0. 0.]\n",
            " [0. 0. 0. 0.]\n",
            " [0. 0. 0. 0.]\n",
            " [0. 0. 0. 0.]\n",
            " [0. 0. 2. 0.]\n",
            " [0. 0. 2. 0.]\n",
            " [0. 0. 0. 0.]] \n",
            " Acciones 1, 1, 2, 1, 2, 2,  \n",
            " Para el siguiente grid\n",
            " [[[180 200 230]\n",
            "  [180 200 230]\n",
            "  [180 200 230]\n",
            "  ...\n",
            "  [180 200 230]\n",
            "  [180 200 230]\n",
            "  [180 200 230]]\n",
            "\n",
            " [[180 200 230]\n",
            "  [204 230 255]\n",
            "  [204 230 255]\n",
            "  ...\n",
            "  [204 230 255]\n",
            "  [204 230 255]\n",
            "  [180 200 230]]\n",
            "\n",
            " [[180 200 230]\n",
            "  [235 245 249]\n",
            "  [204 230 255]\n",
            "  ...\n",
            "  [204 230 255]\n",
            "  [204 230 255]\n",
            "  [180 200 230]]\n",
            "\n",
            " ...\n",
            "\n",
            " [[180 200 230]\n",
            "  [235 245 249]\n",
            "  [235 245 249]\n",
            "  ...\n",
            "  [204 230 255]\n",
            "  [235 245 249]\n",
            "  [180 200 230]]\n",
            "\n",
            " [[180 200 230]\n",
            "  [235 245 249]\n",
            "  [235 245 249]\n",
            "  ...\n",
            "  [204 230 255]\n",
            "  [204 230 255]\n",
            "  [180 200 230]]\n",
            "\n",
            " [[180 200 230]\n",
            "  [180 200 230]\n",
            "  [180 200 230]\n",
            "  ...\n",
            "  [180 200 230]\n",
            "  [180 200 230]\n",
            "  [180 200 230]]]\n",
            "\n"
          ]
        }
      ],
      "source": [
        "# @title Política final\n",
        "LEFT, DOWN, RIGHT, UP = 0,1,2,3\n",
        "pi, actions = pi_star_from_Q(env4, Q)\n",
        "\n",
        "print(\"Política óptima obtenida\\n\", pi, f\"\\n Acciones {actions} \\n Para el siguiente grid\\n\", env4.render())\n",
        "print()"
      ]
    },
    {
      "cell_type": "markdown",
      "metadata": {
        "id": "3tUyGCBuS41T"
      },
      "source": [
        "### **3.3 Experimentación en el escenario 8x8**\n",
        "\n",
        "  - Se realizan 5000 epsisodios y se actualizan los valores Q (valor de acción) basándose en las recompensas obtenidas durante cada episodio completo (e.d. aplicamos Monte Carlo) Se apica una política $\\epsilon$ greedy sobre una política $\\epsilon$ soft con un valor $\\epsilon$ decreciente\n",
        "\n"
      ]
    },
    {
      "cell_type": "code",
      "execution_count": 18,
      "metadata": {
        "colab": {
          "base_uri": "https://localhost:8080/"
        },
        "collapsed": true,
        "id": "ttDsqDX16sSj",
        "outputId": "630204ca-fb6c-4b48-f27d-abbc8165fb19"
      },
      "outputs": [
        {
          "output_type": "stream",
          "name": "stderr",
          "text": [
            " 10%|█         | 5054/50000 [00:16<01:51, 404.86it/s]"
          ]
        },
        {
          "output_type": "stream",
          "name": "stdout",
          "text": [
            "Episodio 5000/50000 -> Éxito promedio: 0.480, epsilon: 0.200\n"
          ]
        },
        {
          "output_type": "stream",
          "name": "stderr",
          "text": [
            " 20%|██        | 10078/50000 [00:28<01:20, 497.77it/s]"
          ]
        },
        {
          "output_type": "stream",
          "name": "stdout",
          "text": [
            "Episodio 10000/50000 -> Éxito promedio: 0.687, epsilon: 0.100\n"
          ]
        },
        {
          "output_type": "stream",
          "name": "stderr",
          "text": [
            " 30%|███       | 15062/50000 [00:40<01:32, 378.02it/s]"
          ]
        },
        {
          "output_type": "stream",
          "name": "stdout",
          "text": [
            "Episodio 15000/50000 -> Éxito promedio: 0.762, epsilon: 0.067\n"
          ]
        },
        {
          "output_type": "stream",
          "name": "stderr",
          "text": [
            " 40%|████      | 20050/50000 [00:55<01:28, 339.76it/s]"
          ]
        },
        {
          "output_type": "stream",
          "name": "stdout",
          "text": [
            "Episodio 20000/50000 -> Éxito promedio: 0.791, epsilon: 0.050\n"
          ]
        },
        {
          "output_type": "stream",
          "name": "stderr",
          "text": [
            " 50%|█████     | 25133/50000 [01:04<00:25, 964.27it/s]"
          ]
        },
        {
          "output_type": "stream",
          "name": "stdout",
          "text": [
            "Episodio 25000/50000 -> Éxito promedio: 0.818, epsilon: 0.040\n"
          ]
        },
        {
          "output_type": "stream",
          "name": "stderr",
          "text": [
            " 60%|██████    | 30133/50000 [01:08<00:17, 1155.03it/s]"
          ]
        },
        {
          "output_type": "stream",
          "name": "stdout",
          "text": [
            "Episodio 30000/50000 -> Éxito promedio: 0.846, epsilon: 0.033\n"
          ]
        },
        {
          "output_type": "stream",
          "name": "stderr",
          "text": [
            " 70%|███████   | 35169/50000 [01:13<00:16, 894.69it/s]"
          ]
        },
        {
          "output_type": "stream",
          "name": "stdout",
          "text": [
            "Episodio 35000/50000 -> Éxito promedio: 0.865, epsilon: 0.029\n"
          ]
        },
        {
          "output_type": "stream",
          "name": "stderr",
          "text": [
            " 80%|████████  | 40139/50000 [01:18<00:08, 1198.74it/s]"
          ]
        },
        {
          "output_type": "stream",
          "name": "stdout",
          "text": [
            "Episodio 40000/50000 -> Éxito promedio: 0.880, epsilon: 0.025\n"
          ]
        },
        {
          "output_type": "stream",
          "name": "stderr",
          "text": [
            " 90%|█████████ | 45159/50000 [01:22<00:03, 1277.30it/s]"
          ]
        },
        {
          "output_type": "stream",
          "name": "stdout",
          "text": [
            "Episodio 45000/50000 -> Éxito promedio: 0.892, epsilon: 0.022\n"
          ]
        },
        {
          "output_type": "stream",
          "name": "stderr",
          "text": [
            "100%|██████████| 50000/50000 [01:27<00:00, 573.41it/s]"
          ]
        },
        {
          "output_type": "stream",
          "name": "stdout",
          "text": [
            "Episodio 50000/50000 -> Éxito promedio: 0.902, epsilon: 0.020\n"
          ]
        },
        {
          "output_type": "stream",
          "name": "stderr",
          "text": [
            "\n"
          ]
        }
      ],
      "source": [
        "# @title Aprendizaje\n",
        "Q, list_stats, episode_lengths = on_policy_all_visit(env8, num_episodes=50000, epsilon=0.4, decay=True, discount_factor=1)"
      ]
    },
    {
      "cell_type": "code",
      "execution_count": 19,
      "metadata": {
        "colab": {
          "base_uri": "https://localhost:8080/",
          "height": 351
        },
        "id": "Z_tbLcAq6yWR",
        "outputId": "9149d651-7b5c-412b-befd-c8fbb2f6042a"
      },
      "outputs": [
        {
          "output_type": "display_data",
          "data": {
            "text/plain": [
              "<Figure size 600x300 with 1 Axes>"
            ],
            "image/png": "[encoded data removed]"
          },
          "metadata": {}
        },
        {
          "output_type": "stream",
          "name": "stdout",
          "text": [
            "Máxima proporcion: 0.9023\n"
          ]
        }
      ],
      "source": [
        "#@title Proporción de aciertos por número de episodios\n",
        "\n",
        "plot(list_stats)\n",
        "print(f\"Máxima proporcion: {list_stats[-1]}\")"
      ]
    },
    {
      "cell_type": "markdown",
      "source": [
        "**Grafico de la proporción de recompensas:**  \n",
        "   Aqui la proporción máxima alcanzada (~0.9) indica que el agente logra llegar a la meta en aproximadamente el 90% de los episodios. El algoritmo demuestra que aprende, la exploración constante evita que siempre siga la política óptima, lo que limita la proporción de éxito al 10%. Esto refleja que el algoritmo es capaz de explorar y encontrar una solución optima."
      ],
      "metadata": {
        "id": "MQRwGpMB08ca"
      }
    },
    {
      "cell_type": "code",
      "execution_count": 20,
      "metadata": {
        "colab": {
          "base_uri": "https://localhost:8080/",
          "height": 334
        },
        "id": "JoCTBLSnYxyn",
        "outputId": "eff5f152-f2a1-4847-c8ef-a3b470a0aa0a"
      },
      "outputs": [
        {
          "output_type": "display_data",
          "data": {
            "text/plain": [
              "<Figure size 600x300 with 1 Axes>"
            ],
            "image/png": "[encoded data removed]"
          },
          "metadata": {}
        }
      ],
      "source": [
        "# Gráfica de la longitud de los episodios\n",
        "plot_episode_lengths(episode_lengths)"
      ]
    },
    {
      "cell_type": "markdown",
      "source": [
        "**Grafico de la evolución de la longitud de los episodios:**  \n",
        "Inicialmente, el agente toma caminos largos o cae en agujeros, pero a medida que aprende, optimiza su ruta hacia la meta, reduciendo la longitud promedio. Las fluctuaciones persistentes se deben a la exploración (acciones aleatorias), que ocasionalmente llevan al agente a desviarse. La tendencia descendente confirma que el agente está aprendiendo a tomar decisiones más eficientes."
      ],
      "metadata": {
        "id": "S01vsRXt2S6k"
      }
    },
    {
      "cell_type": "markdown",
      "metadata": {
        "id": "dptS3Xv8v8H7"
      },
      "source": [
        "####.\n",
        "Mostramos los valores Q para cada estado. Cada estado tienen 4 valores, que se corresponden con las 4 acciones que se pueden en cada estado."
      ]
    },
    {
      "cell_type": "code",
      "execution_count": 21,
      "metadata": {
        "colab": {
          "base_uri": "https://localhost:8080/"
        },
        "id": "scmn1mwlwBam",
        "outputId": "53dac77d-f32e-4402-eff6-d98526e7c01f"
      },
      "outputs": [
        {
          "output_type": "stream",
          "name": "stdout",
          "text": [
            "Valores Q para cada estado:\n",
            " [[0.75267618 0.72978774 0.91396152 0.65553657]\n",
            " [0.37434679 0.39596054 0.91920208 0.39046702]\n",
            " [0.50449944 0.48160724 0.92555911 0.48135965]\n",
            " [0.58349835 0.56951531 0.93204453 0.56901042]\n",
            " [0.64939674 0.62176166 0.93668845 0.61581921]\n",
            " [0.65003372 0.64701705 0.93092431 0.6403569 ]\n",
            " [0.68184327 0.9522293  0.68478843 0.70563211]\n",
            " [0.60979463 0.72191272 0.68775791 0.61402624]\n",
            " [0.22302158 0.16801619 0.76968098 0.21130379]\n",
            " [0.26049089 0.19891641 0.2599837  0.80481535]\n",
            " [0.11053541 0.08250825 0.12758621 0.56685028]\n",
            " [0.14899713 0.         0.14603175 0.65211268]\n",
            " [0.19791667 0.17064846 0.6512605  0.18796992]\n",
            " [0.31578947 0.30645161 0.75482866 0.36292428]\n",
            " [0.68104777 0.94174875 0.70272436 0.687017  ]\n",
            " [0.77104723 0.53289474 0.43863636 0.39      ]\n",
            " [0.35872691 0.16565809 0.19560094 0.30343797]\n",
            " [0.30679513 0.05844156 0.10575428 0.08667737]\n",
            " [0.02356021 0.04054054 0.         0.23167849]\n",
            " [0.         0.         0.         0.        ]\n",
            " [0.         0.02597403 0.11627907 0.35377358]\n",
            " [0.22289157 0.         0.77916296 0.32905983]\n",
            " [0.71252059 0.62902315 0.95364197 0.76514523]\n",
            " [0.75925926 0.95898071 0.66434893 0.71554901]\n",
            " [0.02418208 0.02469136 0.22300706 0.03590664]\n",
            " [0.05936073 0.03814714 0.03116883 0.27222832]\n",
            " [0.07942238 0.01570681 0.00543478 0.00549451]\n",
            " [0.04       0.         0.         0.        ]\n",
            " [0.04347826 0.         0.         0.        ]\n",
            " [0.         0.         0.         0.        ]\n",
            " [0.         0.41004184 0.79487179 0.47596154]\n",
            " [0.76766699 0.95725801 0.83874046 0.79277567]\n",
            " [0.12230216 0.03278689 0.03690037 0.02877698]\n",
            " [0.02702703 0.         0.01470588 0.09633028]\n",
            " [0.05050505 0.         0.         0.        ]\n",
            " [0.         0.         0.         0.        ]\n",
            " [0.         0.         0.15384615 0.        ]\n",
            " [0.0952381  0.         0.49056604 0.        ]\n",
            " [0.2826087  0.         0.8359375  0.5       ]\n",
            " [0.80454097 0.95903282 0.85408163 0.84740883]\n",
            " [0.02027027 0.         0.         0.06711409]\n",
            " [0.         0.         0.         0.        ]\n",
            " [0.         0.         0.         0.        ]\n",
            " [0.         0.         0.         0.        ]\n",
            " [0.         0.         0.         0.        ]\n",
            " [0.         0.         0.         0.        ]\n",
            " [0.         0.         0.         0.        ]\n",
            " [0.         0.97965979 0.87589744 0.84455959]\n",
            " [0.         0.         0.         0.        ]\n",
            " [0.         0.         0.         0.        ]\n",
            " [0.         0.         0.         0.        ]\n",
            " [0.         0.         0.         0.        ]\n",
            " [0.         0.         0.         0.        ]\n",
            " [0.         0.         0.         0.        ]\n",
            " [0.         0.         0.         0.        ]\n",
            " [0.         1.         0.94827586 0.90022936]\n",
            " [0.         0.         0.         0.        ]\n",
            " [0.         0.         0.         0.        ]\n",
            " [0.         0.         0.         0.        ]\n",
            " [0.         0.         0.         0.        ]\n",
            " [0.         0.         0.         0.        ]\n",
            " [0.         0.         0.         0.        ]\n",
            " [0.         0.         0.         0.        ]\n",
            " [0.         0.         0.         0.        ]]\n"
          ]
        }
      ],
      "source": [
        "# @title Tabla de valores Q\n",
        "LEFT, DOWN, RIGHT, UP = 0,1,2,3\n",
        "print(\"Valores Q para cada estado:\\n\", Q)"
      ]
    },
    {
      "cell_type": "markdown",
      "metadata": {
        "id": "oWQWD7UqwH2Y"
      },
      "source": [
        "- También se muestra la política óptima (greedy) obtenida a partir del aprendizaje anterior.\n",
        "\n",
        "- Cada estado tienen 4 valores, pero todos son 0 menos 1. Es decir, en cada estado se aplica de manera determinística una única acción.\n",
        "\n",
        "*TODO:* Mostrar de forma gráfica el escenario."
      ]
    },
    {
      "cell_type": "code",
      "source": [
        "#Repetimos para 8x8\n",
        "video_dir_8x8 = record_policy_in_frozenlake(Q, map_name=\"8x8\", episodes=2, video_folder=\"videos8x8\", is_slippery=False)\n",
        "\n",
        "latest_file_8x8 = get_latest_episode_video_file(video_dir_8x8)\n",
        "print(\"Último video 8x8:\", latest_file_8x8)\n",
        "embed_video(latest_file_8x8)\n"
      ],
      "metadata": {
        "id": "4CoMDbJIXCJ3",
        "outputId": "c08ddb48-5e9b-4db1-b11f-c972b2a75d98",
        "colab": {
          "base_uri": "https://localhost:8080/",
          "height": 493
        }
      },
      "execution_count": 22,
      "outputs": [
        {
          "output_type": "stream",
          "name": "stderr",
          "text": [
            "/usr/local/lib/python3.11/dist-packages/gymnasium/wrappers/rendering.py:283: UserWarning: \u001b[33mWARN: Overwriting existing videos at /content/videos8x8 folder (try specifying a different `video_folder` for the `RecordVideo` wrapper if this is not desired)\u001b[0m\n",
            "  logger.warn(\n"
          ]
        },
        {
          "output_type": "stream",
          "name": "stdout",
          "text": [
            "Último video 8x8: videos8x8/rl-video-episode-1.mp4\n"
          ]
        },
        {
          "output_type": "display_data",
          "data": {
            "text/plain": [
              "<IPython.core.display.HTML object>"
            ],
            "text/html": [
              "\n",
              "        <video alt=\"test\" autoplay loop controls style=\"height: 400px;\">\n",
              "        <source src=\"data:video/mp4;base64,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\" type=\"video/mp4\" />\n",
              "        </video>"
            ]
          },
          "metadata": {}
        }
      ]
    },
    {
      "cell_type": "code",
      "execution_count": 23,
      "metadata": {
        "colab": {
          "base_uri": "https://localhost:8080/"
        },
        "id": "1n6i3oMzwSG3",
        "outputId": "9b6e1c4b-6911-4d21-8e13-75256b0f7490"
      },
      "outputs": [
        {
          "output_type": "stream",
          "name": "stdout",
          "text": [
            "Política óptima obtenida\n",
            " [[0. 0. 2. 0.]\n",
            " [0. 0. 2. 0.]\n",
            " [0. 0. 2. 0.]\n",
            " [0. 0. 2. 0.]\n",
            " [0. 0. 2. 0.]\n",
            " [0. 0. 2. 0.]\n",
            " [0. 1. 0. 0.]\n",
            " [0. 0. 0. 0.]\n",
            " [0. 0. 0. 0.]\n",
            " [0. 0. 0. 0.]\n",
            " [0. 0. 0. 0.]\n",
            " [0. 0. 0. 0.]\n",
            " [0. 0. 0. 0.]\n",
            " [0. 0. 0. 0.]\n",
            " [0. 1. 0. 0.]\n",
            " [0. 0. 0. 0.]\n",
            " [0. 0. 0. 0.]\n",
            " [0. 0. 0. 0.]\n",
            " [0. 0. 0. 0.]\n",
            " [0. 0. 0. 0.]\n",
            " [0. 0. 0. 0.]\n",
            " [0. 0. 0. 0.]\n",
            " [0. 0. 2. 0.]\n",
            " [0. 1. 0. 0.]\n",
            " [0. 0. 0. 0.]\n",
            " [0. 0. 0. 0.]\n",
            " [0. 0. 0. 0.]\n",
            " [0. 0. 0. 0.]\n",
            " [0. 0. 0. 0.]\n",
            " [0. 0. 0. 0.]\n",
            " [0. 0. 0. 0.]\n",
            " [0. 1. 0. 0.]\n",
            " [0. 0. 0. 0.]\n",
            " [0. 0. 0. 0.]\n",
            " [0. 0. 0. 0.]\n",
            " [0. 0. 0. 0.]\n",
            " [0. 0. 0. 0.]\n",
            " [0. 0. 0. 0.]\n",
            " [0. 0. 0. 0.]\n",
            " [0. 1. 0. 0.]\n",
            " [0. 0. 0. 0.]\n",
            " [0. 0. 0. 0.]\n",
            " [0. 0. 0. 0.]\n",
            " [0. 0. 0. 0.]\n",
            " [0. 0. 0. 0.]\n",
            " [0. 0. 0. 0.]\n",
            " [0. 0. 0. 0.]\n",
            " [0. 1. 0. 0.]\n",
            " [0. 0. 0. 0.]\n",
            " [0. 0. 0. 0.]\n",
            " [0. 0. 0. 0.]\n",
            " [0. 0. 0. 0.]\n",
            " [0. 0. 0. 0.]\n",
            " [0. 0. 0. 0.]\n",
            " [0. 0. 0. 0.]\n",
            " [0. 1. 0. 0.]\n",
            " [0. 0. 0. 0.]\n",
            " [0. 0. 0. 0.]\n",
            " [0. 0. 0. 0.]\n",
            " [0. 0. 0. 0.]\n",
            " [0. 0. 0. 0.]\n",
            " [0. 0. 0. 0.]\n",
            " [0. 0. 0. 0.]\n",
            " [0. 0. 0. 0.]] \n",
            " Acciones 2, 2, 2, 2, 2, 2, 1, 1, 2, 1, 1, 1, 1, 1,  \n",
            " Para el siguiente grid\n",
            " [[[180 200 230]\n",
            "  [180 200 230]\n",
            "  [180 200 230]\n",
            "  ...\n",
            "  [180 200 230]\n",
            "  [180 200 230]\n",
            "  [180 200 230]]\n",
            "\n",
            " [[180 200 230]\n",
            "  [204 230 255]\n",
            "  [204 230 255]\n",
            "  ...\n",
            "  [204 230 255]\n",
            "  [204 230 255]\n",
            "  [180 200 230]]\n",
            "\n",
            " [[180 200 230]\n",
            "  [235 245 249]\n",
            "  [204 230 255]\n",
            "  ...\n",
            "  [204 230 255]\n",
            "  [204 230 255]\n",
            "  [180 200 230]]\n",
            "\n",
            " ...\n",
            "\n",
            " [[180 200 230]\n",
            "  [235 245 249]\n",
            "  [235 245 249]\n",
            "  ...\n",
            "  [204 230 255]\n",
            "  [235 245 249]\n",
            "  [180 200 230]]\n",
            "\n",
            " [[180 200 230]\n",
            "  [235 245 249]\n",
            "  [235 245 249]\n",
            "  ...\n",
            "  [204 230 255]\n",
            "  [204 230 255]\n",
            "  [180 200 230]]\n",
            "\n",
            " [[180 200 230]\n",
            "  [180 200 230]\n",
            "  [180 200 230]\n",
            "  ...\n",
            "  [180 200 230]\n",
            "  [180 200 230]\n",
            "  [180 200 230]]]\n",
            "\n"
          ]
        }
      ],
      "source": [
        "# @title Política final\n",
        "LEFT, DOWN, RIGHT, UP = 0,1,2,3\n",
        "pi, actions = pi_star_from_Q(env8, Q)\n",
        "\n",
        "print(\"Política óptima obtenida\\n\", pi, f\"\\n Acciones {actions} \\n Para el siguiente grid\\n\", env8.render())\n",
        "print()"
      ]
    },
    {
      "cell_type": "markdown",
      "metadata": {
        "id": "FG0Z813yhKz7"
      },
      "source": [
        "## **4. Análisis y Estudios Futuros**\n",
        "\n",
        "### **4.1 Análisis de Resultados**\n",
        "\n",
        "- En los dos entornos (4x4 y 8x8), el agente comienza con un conocimiento muy limitado, pero gradualmente mejora su desempeño a medida que avanza en los episodios. Este comportamiento se puede observar en el gráfico de la proporción de recompensas, que aumenta con el tiempo.\n",
        "- En el entorno 4x4, la máxima proporción de éxito alcanzada fue 0.522, mientras que en el entorno 8x8, la máxima alcanzada fue 0.914. Esto refleja que el agente aprendió a optimizar su estrategia en un entorno más complejo.\n",
        "- La política óptima obtenida muestra las acciones recomendadas por el agente en cada estado del entorno. En el entorno 8x8, la política es más compleja debido a la mayor cantidad de estados y la dificultad del entorno.\n",
        "\n",
        "### **4.2 Propuestas para Estudios Futuros**\n",
        "\n",
        "1. **Evaluar con Otros Entornos**: Sería interesante aplicar este algoritmo a otros entornos más complejos de `gym`, como \"Taxi-v3\" o \"MountainCar\", para analizar cómo se comporta el agente en situaciones con dinámicas más complicadas.\n",
        "   \n",
        "2. **Optimización del Decaimiento de Epsilon**: Aunque se utilizó un decaimiento de epsilon en el segundo experimento, se podría investigar la efectividad de diferentes tasas de decaimiento o incluso explorar algoritmos como `Q-learning` para comparar su desempeño. Graficamente se trataría de mostrar la curva de la tasa de aciertos para distintas funciones de decaimientos\n",
        "\n",
        "3. **Análisis del Impacto de los descuentos en las Recompensas**: El estudio se ha hecho para $\\gamma = 1$; pero no se ha probado qué pasa cuando  $0 \\leq \\gamma < 1$. Se trataría de estudiar la curva para distintos valores de $\\gamma$\n",
        "\n",
        "4. **Nuevas gráficas**: Aquí solo se ha usado la proporción de aciertos, pero sería interesante qué relación entre dicha tasa y las tamaños de los episodios.\n",
        "\n",
        "4. **Ampliación del Algoritmo**: Explorar otros enfoques de Monte Carlo o incluso combinar Monte Carlo con otros algoritmos de aprendizaje por refuerzo, como el Deep Q-Network (DQN), podría mejorar aún más los resultados en entornos más complejos.\n"
      ]
    },
    {
      "cell_type": "markdown",
      "source": [
        "#¿Por qué la longitud del episodio también es un buen indicador de aprendizaje?\n",
        "La longitud del episodio refleja directamente la eficiencia del agente. A medida que aprende, reduce el número de pasos necesarios para alcanzar la meta, evitando movimientos redundantes o caídas en agujeros. En entornos con recompensas escasas (como FrozenLake, donde solo se obtiene recompensa al final), la longitud es un indicador más sensible que la recompensa misma, ya que esta solo cambia cuando se llega a la meta. Una disminución en la longitud indica que el agente está encontrando rutas más cortas y consistentes, demostrando una comprensión clara del entorno. Además, en fases iniciales, episodios largos revelan exploración o políticas subóptimas, mientras que episodios cortos confirman explotación exitosa del conocimiento adquirido."
      ],
      "metadata": {
        "id": "GoqTIqs-gO0c"
      }
    }
  ],
  "metadata": {
    "colab": {
      "provenance": [],
      "include_colab_link": true
    },
    "kernelspec": {
      "display_name": "Python 3",
      "name": "python3"
    },
    "language_info": {
      "name": "python"
    }
  },
  "nbformat": 4,
  "nbformat_minor": 0
}