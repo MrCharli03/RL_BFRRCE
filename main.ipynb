{
  "cells": [
    {
      "cell_type": "markdown",
      "metadata": {
        "colab_type": "text",
        "id": "view-in-github"
      },
      "source": [
        "<a href=\"https://github.com/MrCharli03/RL_BFRRCE/blob/main/main.ipynb\" target=\"_parent\"><img src=\"https://colab.research.google.com/assets/colab-badge.svg\" alt=\"Open In Colab\"/></a>"
      ]
    },
    {
      "cell_type": "markdown",
      "id": "45718ddbdacc17ac",
      "metadata": {
        "id": "45718ddbdacc17ac"
      },
      "source": [
        "# Práctica 1 Extensiones de Machine Learning\n",
        "\n",
        "**Alumnos**:<br>\n",
        "- Esteban Becerra Fernández (esteban.becerraf@um.es)\n",
        "- Carlos Cruzado Esteban (carlos.cruzadoe1@um.es)\n",
        "- Anastasiya Ruzhytska Ruzhytska (anastasiya.r.r@um.es)\n",
        "\n",
        "**Máster de Inteligencia Artificial**\n",
        "\n",
        "**Facultad de Informática**\n",
        "\n",
        "![](https://www.um.es/image/layout_set_logo?img_id=175281&t=1726728636242)\n",
        "\n",
        "**Universidad de Murcia**\n",
        "\n",
        "![](https://www.um.es/o/um-lr-principal-um-home-theme/images/logo-um.png)\n",
        "\n"
      ]
    },
    {
      "cell_type": "markdown",
      "id": "S47ejiUPfwEt",
      "metadata": {
        "id": "S47ejiUPfwEt"
      },
      "source": [
        "# Proyecto Aprendizaje en entornos complejos\n",
        "Este es el notebook principal del proyecto **Aprendizaje en entornos complejos**.\n",
        "\n",
        " **Instrucciones**\n",
        "1. Haz clic en el siguiente enlace para abrir este proyecto en Google Colab:\n",
        "   [![Abrir en Colab](https://colab.research.google.com/assets/colab-badge.svg)](https://github.com/MrCharli03/RL_BFRRCE/blob/main/main.ipynb)\n",
        "2. Ejecuta todas las celdas (`Entorno de ejecución > Ejecutar todas`).\n",
        "3. Al final del notebook se incluyen enlaces a los distintos notebooks implementados para este ejercicio.\n",
        "4. Para cada notebook, realizar el paso **2.**"
      ]
    },
    {
      "cell_type": "markdown",
      "id": "7c1697e197fa5a08",
      "metadata": {
        "id": "7c1697e197fa5a08"
      },
      "source": [
        "## Preparación del entorno\n"
      ]
    },
    {
      "cell_type": "code",
      "execution_count": null,
      "id": "bf5905976fb24fe",
      "metadata": {
        "colab": {
          "base_uri": "https://localhost:8080/"
        },
        "id": "bf5905976fb24fe",
        "outputId": "ed3bf91f-f832-46fc-cfbb-6ef5d351afd4"
      },
      "outputs": [
        {
          "name": "stdout",
          "output_type": "stream",
          "text": [
            "Cloning into 'k_brazos_BCR'...\n",
            "remote: Enumerating objects: 199, done.\u001b[K\n",
            "remote: Counting objects: 100% (38/38), done.\u001b[K\n",
            "remote: Compressing objects: 100% (38/38), done.\u001b[K\n",
            "remote: Total 199 (delta 17), reused 0 (delta 0), pack-reused 161 (from 1)\u001b[K\n",
            "Receiving objects: 100% (199/199), 6.06 MiB | 14.39 MiB/s, done.\n",
            "Resolving deltas: 100% (85/85), done.\n"
          ]
        }
      ],
      "source": [
        "# Copiar el repositorio.\n",
        "\n",
        "!git clone https://github.com/MrCharli03/RL_BFRRCE.git\n",
        "!cd RL_BFRRCE/"
      ]
    },
    {
      "cell_type": "markdown",
      "id": "WiMoOFB1iThG",
      "metadata": {
        "id": "WiMoOFB1iThG"
      },
      "source": [
        "## Instalación de dependencias"
      ]
    },
    {
      "cell_type": "code",
      "execution_count": null,
      "id": "4582eec6",
      "metadata": {
        "ExecuteTime": {
          "end_time": "2025-01-29T15:16:53.845102Z",
          "start_time": "2025-01-29T15:16:53.842529Z"
        },
        "colab": {
          "base_uri": "https://localhost:8080/"
        },
        "id": "4582eec6",
        "outputId": "04ed609c-a9d3-45eb-fa7e-b414c0ee7df8"
      },
      "outputs": [
        {
          "name": "stdout",
          "output_type": "stream",
          "text": [
            "['/content', '/env/python', '/usr/lib/python311.zip', '/usr/lib/python3.11', '/usr/lib/python3.11/lib-dynload', '', '/usr/local/lib/python3.11/dist-packages', '/usr/lib/python3/dist-packages', '/usr/local/lib/python3.11/dist-packages/IPython/extensions', '/root/.ipython', '/content/k_brazos_BCR', '/content/k_brazos_BCR/src']\n"
          ]
        }
      ],
      "source": [
        "# Importamos todas las clases y funciones\n",
        "\n",
        "import sys\n",
        "\n",
        "# Añadir los directorio fuentes al path de Python\n",
        "sys.path.append('/content/RL_BFRRCE')\n",
        "sys.path.append('/content/RL_BFRRCE/src')\n",
        "\n",
        "\n",
        "# Verificar que se han añadido correctamente\n",
        "print(sys.path)\n",
        "\n",
        "import numpy as np\n",
        "from typing import List\n",
        "\n",
        "from src.algorithms import Algorithm, EpsilonGreedy\n",
        "from src.arms import ArmNormal, Bandit\n",
        "from src.plotting import plot_average_rewards, plot_optimal_selections, plot_arm_statistics, plot_regret\n"
      ]
    },
    {
      "cell_type": "markdown",
      "id": "GSkPfnrpdqtw",
      "metadata": {
        "id": "GSkPfnrpdqtw"
      },
      "source": [
        " ## A continuación se presentan los enlaces a los distintos notebooks implementados para el ejercicio 1."
      ]
    },
    {
      "cell_type": "markdown",
      "metadata": {},
      "source": [
        "A cambiar"
      ]
    },
    {
      "cell_type": "markdown",
      "id": "z2IMaqvFeawn",
      "metadata": {
        "id": "z2IMaqvFeawn"
      },
      "source": [
        "- [📘 Notebook 1: Introducción al problema](https://github.com/estebanbecerra/k_brazos_BCR/blob/main/notebook1.ipynb)\n",
        "- [📘 Notebook 2: Estrategia Epsilon-Greedy](https://github.com/estebanbecerra/k_brazos_BCR/blob/main/notebook2.ipynb)\n",
        "- [📘 Notebook 3: Algoritmos de la familia UCB](https://github.com/estebanbecerra/k_brazos_BCR/blob/main/notebook3.ipynb)\n",
        "- [📘 Notebook 4: Algoritmos de ascenso de gradiente](https://github.com/estebanbecerra/k_brazos_BCR/blob/main/notebook4.ipynb)\n"
      ]
    }
  ],
  "metadata": {
    "colab": {
      "include_colab_link": true,
      "provenance": []
    },
    "kernelspec": {
      "display_name": "Python 3 (ipykernel)",
      "language": "python",
      "name": "python3"
    }
  },
  "nbformat": 4,
  "nbformat_minor": 5
}
