{
  "cells": [
    {
      "cell_type": "markdown",
      "metadata": {
        "id": "ZiCKnWS47oCV"
      },
      "source": [
        "<a href=\"https://colab.research.google.com/github/MrCharli03/RL_BFRRCE/blob/main/notebook1.ipynb\" target=\"_parent\"><img src=\"https://colab.research.google.com/assets/colab-badge.svg\" alt=\"Open In Colab\"/></a>"
      ]
    },
    {
      "cell_type": "markdown",
      "metadata": {
        "id": "QGNJ6wp_7oCW"
      },
      "source": [
        "# Introducción a aprendizaje en entornos complejos"
      ]
    },
    {
      "cell_type": "markdown",
      "source": [
        "## 1. Contexto del Problema"
      ],
      "metadata": {
        "id": "rIaXXFsd7ulY"
      }
    },
    {
      "cell_type": "markdown",
      "source": [
        "## 2. Tipos de Algoritmos básicos"
      ],
      "metadata": {
        "id": "FCTpfXt99r_L"
      }
    },
    {
      "cell_type": "markdown",
      "source": [
        "## 3. Algoritmos Utilizados"
      ],
      "metadata": {
        "id": "p5coRYME7zLx"
      }
    },
    {
      "cell_type": "markdown",
      "source": [
        "## 4. Métricas de Evaluación"
      ],
      "metadata": {
        "id": "li3cj4f18EuX"
      }
    },
    {
      "cell_type": "markdown",
      "source": [
        "## 5. Conclusión"
      ],
      "metadata": {
        "id": "x7GUXd7c8Mid"
      }
    }
  ],
  "metadata": {
    "language_info": {
      "name": "python"
    },
    "colab": {
      "provenance": []
    }
  },
  "nbformat": 4,
  "nbformat_minor": 0
}