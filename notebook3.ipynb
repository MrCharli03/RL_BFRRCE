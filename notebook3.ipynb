{
  "nbformat": 4,
  "nbformat_minor": 0,
  "metadata": {
    "colab": {
      "provenance": [],
      "include_colab_link": true
    },
    "kernelspec": {
      "name": "python3",
      "display_name": "Python 3"
    },
    "language_info": {
      "name": "python"
    }
  },
  "cells": [
    {
      "cell_type": "markdown",
      "metadata": {
        "id": "view-in-github",
        "colab_type": "text"
      },
      "source": [
        "<a href=\"https://colab.research.google.com/github/MrCharli03/RL_BFRRCE/blob/main/notebook3.ipynb\" target=\"_parent\"><img src=\"https://colab.research.google.com/assets/colab-badge.svg\" alt=\"Open In Colab\"/></a>"
      ]
    },
    {
      "cell_type": "markdown",
      "source": [
        "Author: Esteban Becerra, Carlos Cruzado, Anastasiya Ruzhytska Email: esteban.becerraf@um.es carlos.cruzadoe1@um.es anastasiya.r.r@um.es Date: 2025/02/24"
      ],
      "metadata": {
        "id": "R16yFs6vB3PZ"
      }
    },
    {
      "cell_type": "markdown",
      "source": [
        "# Estudio de algunos algoritmos básicos\n",
        "\n",
        "## 1. Métodos Tabulares: Monte Carlo (on-policy y off-policy)\n",
        "### **Descripción breve de los Métodos Tabulares: Monte Carlo, SARSA y Q-Learning**\n",
        "\n",
        "Los métodos tabulares de Monte Carlo son técnicas de aprendizaje por refuerzo que permiten a un agente aprender valores de estados o acciones a partir de la experiencia acumulada. Se caracterizan por estimar el valor esperado de las recompensas sin necesidad de conocer el modelo del entorno.  \n",
        "\n",
        "#### **1.1 Monte Carlo On-Policy**\n",
        "- El agente aprende siguiendo una única política de exploración y explotación.  \n",
        "- Usa una estrategia epsilon-greedy para mejorar la política gradualmente.  \n",
        "\n",
        "#### **1.2 Monte Carlo Off-Policy**\n",
        "- Aprende una política óptima mientras sigue otra política diferente para recopilar datos.  \n",
        "- Se basa en **importancia de muestreo** para corregir la diferencia entre las políticas de exploración y explotación.  \n",
        "\n",
        "Ambos enfoques utilizan episodios completos antes de actualizar la política, lo que los diferencia de métodos de Diferencias Temporales (TD), que actualizan el aprendizaje de manera incremental.\n",
        "\n",
        "## **Diferencias Temporales (TD)**\n",
        "\n",
        "Estos métodos actualizan los valores Q(s,a) en cada paso del episodio en lugar de esperar hasta el final.\n",
        "\n",
        "#### **1.3 SARSA (On-Policy)**\n",
        "- Actualiza el valor Q usando la acción seleccionada con la misma política de exploración.\n",
        "- Es más estable en entornos dinámicos con ruido.\n",
        "- Aprende más lento que Q-Learning porque sigue su política actual, sin maximizar directamente la recompensa esperada.\n",
        "\n",
        "#### **1.4 Q-Learning (Off-Policy)**\n",
        "- Aprende la mejor acción posible para cada estado, independientemente de la política seguida.\n",
        "- Es de convergencia rápida y mejor rendimiento en problemas deterministas, pero suele ser menos estable en entornos con aleatoriedad, ya que puede sobrevalorar acciones subóptimas.\n",
        "\n",
        "---\n",
        "\n",
        "## 2. Control con Aproximaciones\n",
        "\n",
        "Cuando el número de estados y acciones es demasiado grande, en lugar de usar una tabla, se aproximan los valores Q(s,a) con funciones paramétricas.\n",
        "\n",
        "#### **2.1 SARSA Semi-Gradiente**\n",
        "- Usa métodos de descenso del gradiente para actualizar la política sin almacenar valores en una tabla.\n",
        "- Es escalable en espacios grandes, pero depende de la función de aproximación elegida.\n",
        "\n",
        "#### **2.2 Deep Q-Learning (DQN)**\n",
        "- Usa una red neuronal para estimar Q(s,a), permitiendo manejar espacios de estado continuos.\n",
        "- Sus ventajas incluyen una inmensa capacidad para resolver problemas complejos como juegos de Atari o robótica, pero requiere un alto costo computacional y una cuidadosa selección de hiperparámetros."
      ],
      "metadata": {
        "id": "-AcjgO6BGHt1"
      }
    },
    {
      "cell_type": "markdown",
      "source": [
        "# **# Preparación del entorno**\n",
        " 1.   Instalación de Dependencias: Se instalan las librerías necesarias para utilizar el entorno :\n",
        "  * gymnasium para la simulación, con el objetivo de crear un ambiente controlado para que el agente pueda interactuar.\n",
        "  * numpy para calculo en RL y manejo de matrices\n",
        "  * matplotlib, para visualizar los resultados. Esta libreria nos ayudará comparar algoritmos como SARSA y Q-Learning\n",
        "  * torch, para el entrenamiento de modelos de aprendizaje profundo. Se usará para el algoritmo DQN.\n",
        "  * tqmd, esta libreria se utiliza para visualizar las barras de progreso del entrenamiento lo que nos permite visualizar cuántos episodios han sido completados.\n",
        "\n",
        "\n",
        "\n",
        "2.  Importación de Librerías: Se importan las bibliotecas necesarias como numpy para el manejo de matrices y matplotlib para la visualización de los resultados.\n",
        "\n",
        "\n",
        "\n"
      ],
      "metadata": {
        "id": "n8D_eKp9FR2-"
      }
    },
    {
      "cell_type": "code",
      "source": [
        "#@title Instalacion de librerias necesarias\n",
        "!pip install gymnasium numpy matplotlib torch tqdm\n",
        "\n"
      ],
      "metadata": {
        "colab": {
          "base_uri": "https://localhost:8080/"
        },
        "id": "_0U2rhCTPF45",
        "outputId": "a8d1eb77-2e5f-4434-c41d-cbbed6811c04"
      },
      "execution_count": 20,
      "outputs": [
        {
          "output_type": "stream",
          "name": "stdout",
          "text": [
            "Requirement already satisfied: gymnasium in /usr/local/lib/python3.11/dist-packages (1.1.0)\n",
            "Requirement already satisfied: numpy in /usr/local/lib/python3.11/dist-packages (1.26.4)\n",
            "Requirement already satisfied: matplotlib in /usr/local/lib/python3.11/dist-packages (3.10.0)\n",
            "Requirement already satisfied: torch in /usr/local/lib/python3.11/dist-packages (2.5.1+cu124)\n",
            "Requirement already satisfied: tqdm in /usr/local/lib/python3.11/dist-packages (4.67.1)\n",
            "Requirement already satisfied: cloudpickle>=1.2.0 in /usr/local/lib/python3.11/dist-packages (from gymnasium) (3.1.1)\n",
            "Requirement already satisfied: typing-extensions>=4.3.0 in /usr/local/lib/python3.11/dist-packages (from gymnasium) (4.12.2)\n",
            "Requirement already satisfied: farama-notifications>=0.0.1 in /usr/local/lib/python3.11/dist-packages (from gymnasium) (0.0.4)\n",
            "Requirement already satisfied: contourpy>=1.0.1 in /usr/local/lib/python3.11/dist-packages (from matplotlib) (1.3.1)\n",
            "Requirement already satisfied: cycler>=0.10 in /usr/local/lib/python3.11/dist-packages (from matplotlib) (0.12.1)\n",
            "Requirement already satisfied: fonttools>=4.22.0 in /usr/local/lib/python3.11/dist-packages (from matplotlib) (4.56.0)\n",
            "Requirement already satisfied: kiwisolver>=1.3.1 in /usr/local/lib/python3.11/dist-packages (from matplotlib) (1.4.8)\n",
            "Requirement already satisfied: packaging>=20.0 in /usr/local/lib/python3.11/dist-packages (from matplotlib) (24.2)\n",
            "Requirement already satisfied: pillow>=8 in /usr/local/lib/python3.11/dist-packages (from matplotlib) (11.1.0)\n",
            "Requirement already satisfied: pyparsing>=2.3.1 in /usr/local/lib/python3.11/dist-packages (from matplotlib) (3.2.1)\n",
            "Requirement already satisfied: python-dateutil>=2.7 in /usr/local/lib/python3.11/dist-packages (from matplotlib) (2.8.2)\n",
            "Requirement already satisfied: filelock in /usr/local/lib/python3.11/dist-packages (from torch) (3.17.0)\n",
            "Requirement already satisfied: networkx in /usr/local/lib/python3.11/dist-packages (from torch) (3.4.2)\n",
            "Requirement already satisfied: jinja2 in /usr/local/lib/python3.11/dist-packages (from torch) (3.1.5)\n",
            "Requirement already satisfied: fsspec in /usr/local/lib/python3.11/dist-packages (from torch) (2024.10.0)\n",
            "Requirement already satisfied: nvidia-cuda-nvrtc-cu12==12.4.127 in /usr/local/lib/python3.11/dist-packages (from torch) (12.4.127)\n",
            "Requirement already satisfied: nvidia-cuda-runtime-cu12==12.4.127 in /usr/local/lib/python3.11/dist-packages (from torch) (12.4.127)\n",
            "Requirement already satisfied: nvidia-cuda-cupti-cu12==12.4.127 in /usr/local/lib/python3.11/dist-packages (from torch) (12.4.127)\n",
            "Requirement already satisfied: nvidia-cudnn-cu12==9.1.0.70 in /usr/local/lib/python3.11/dist-packages (from torch) (9.1.0.70)\n",
            "Requirement already satisfied: nvidia-cublas-cu12==12.4.5.8 in /usr/local/lib/python3.11/dist-packages (from torch) (12.4.5.8)\n",
            "Requirement already satisfied: nvidia-cufft-cu12==11.2.1.3 in /usr/local/lib/python3.11/dist-packages (from torch) (11.2.1.3)\n",
            "Requirement already satisfied: nvidia-curand-cu12==10.3.5.147 in /usr/local/lib/python3.11/dist-packages (from torch) (10.3.5.147)\n",
            "Requirement already satisfied: nvidia-cusolver-cu12==11.6.1.9 in /usr/local/lib/python3.11/dist-packages (from torch) (11.6.1.9)\n",
            "Requirement already satisfied: nvidia-cusparse-cu12==12.3.1.170 in /usr/local/lib/python3.11/dist-packages (from torch) (12.3.1.170)\n",
            "Requirement already satisfied: nvidia-nccl-cu12==2.21.5 in /usr/local/lib/python3.11/dist-packages (from torch) (2.21.5)\n",
            "Requirement already satisfied: nvidia-nvtx-cu12==12.4.127 in /usr/local/lib/python3.11/dist-packages (from torch) (12.4.127)\n",
            "Requirement already satisfied: nvidia-nvjitlink-cu12==12.4.127 in /usr/local/lib/python3.11/dist-packages (from torch) (12.4.127)\n",
            "Requirement already satisfied: triton==3.1.0 in /usr/local/lib/python3.11/dist-packages (from torch) (3.1.0)\n",
            "Requirement already satisfied: sympy==1.13.1 in /usr/local/lib/python3.11/dist-packages (from torch) (1.13.1)\n",
            "Requirement already satisfied: mpmath<1.4,>=1.1.0 in /usr/local/lib/python3.11/dist-packages (from sympy==1.13.1->torch) (1.3.0)\n",
            "Requirement already satisfied: six>=1.5 in /usr/local/lib/python3.11/dist-packages (from python-dateutil>=2.7->matplotlib) (1.17.0)\n",
            "Requirement already satisfied: MarkupSafe>=2.0 in /usr/local/lib/python3.11/dist-packages (from jinja2->torch) (3.0.2)\n"
          ]
        }
      ]
    },
    {
      "cell_type": "code",
      "source": [
        "#@title Importación de librerias\n",
        "\n",
        "import gymnasium as gym\n",
        "import numpy as np\n",
        "import matplotlib.pyplot as plt\n",
        "from collections import defaultdict\n"
      ],
      "metadata": {
        "id": "1G6j7jJgPIoZ"
      },
      "execution_count": 21,
      "outputs": []
    },
    {
      "cell_type": "markdown",
      "source": [
        "# Monte Carlo"
      ],
      "metadata": {
        "id": "ZqeUj7krxBmG"
      }
    },
    {
      "cell_type": "markdown",
      "source": [
        "## **Monte Carlo On-Policy**\n",
        "\n",
        "El método Monte Carlo On-Policy sigue una política de comportamiento y aprendizaje simultáneamente. Se basa en:\n",
        "\n",
        "- Generar episodios completos de interacción con el entorno.\n",
        "- Calcular la recompensa acumulada en cada estado-acción.\n",
        "- Promediar las recompensas para actualizar la estimación de \\( Q(s,a) \\).\n",
        "- Seguir una política epsilon-greedy para equilibrar exploración y explotación."
      ],
      "metadata": {
        "id": "vin72QbGv6iC"
      }
    },
    {
      "cell_type": "code",
      "source": [
        "class MonteCarloOnPolicy:\n",
        "    def __init__(self, env, gamma=1.0, epsilon=0.1):\n",
        "        self.env = env\n",
        "        self.gamma = gamma\n",
        "        self.epsilon = epsilon\n",
        "        self.Q = defaultdict(lambda: np.zeros(env.action_space.n))\n",
        "        self.returns = defaultdict(list)\n",
        "        self.policy = defaultdict(lambda: np.ones(env.action_space.n) / env.action_space.n)\n",
        "\n",
        "    def generate_episode(self):\n",
        "      episode = []\n",
        "      state = self.env.reset()[0]  # Gymnasium devuelve (obs, info)\n",
        "      done = False\n",
        "      total_reward = 0\n",
        "      while not done:\n",
        "          action = np.random.choice(range(self.env.action_space.n), p=self.policy[state])\n",
        "          next_state, reward, done, truncated, info = self.env.step(action)  # Capturar el 5to valor\n",
        "          done = done or truncated  # Asegurar que el episodio termina si es truncado\n",
        "          episode.append((state, action, reward))\n",
        "          state = next_state\n",
        "          total_reward += reward\n",
        "      return episode, total_reward\n",
        "\n",
        "\n",
        "    def train(self, num_episodes=50000):\n",
        "      episode_rewards = []\n",
        "\n",
        "      for _ in range(num_episodes):\n",
        "          episode, total_reward = self.generate_episode()\n",
        "          episode_rewards.append(total_reward)  # Guardamos la recompensa total\n",
        "\n",
        "          states, actions, rewards = zip(*episode)\n",
        "          G = 0\n",
        "          visited = set()\n",
        "\n",
        "          for t in reversed(range(len(episode))):\n",
        "              state, action, reward = states[t], actions[t], rewards[t]\n",
        "              G = self.gamma * G + reward\n",
        "\n",
        "              # First-visit MC: solo actualiza si es la primera vez en el episodio\n",
        "              if (state, action) not in visited:\n",
        "                  visited.add((state, action))\n",
        "                  self.returns[(state, action)].append(G)\n",
        "                  self.Q[state][action] = np.mean(self.returns[(state, action)])\n",
        "\n",
        "                  # Actualización de la política usando ε-soft\n",
        "                  best_action = np.argmax(self.Q[state])\n",
        "                  for a in range(self.env.action_space.n):\n",
        "                      if a == best_action:\n",
        "                          self.policy[state][a] = 1 - self.epsilon + (self.epsilon / self.env.action_space.n)\n",
        "                      else:\n",
        "                          self.policy[state][a] = self.epsilon / self.env.action_space.n\n",
        "\n",
        "      return self.Q, episode_rewards\n",
        "\n"
      ],
      "metadata": {
        "id": "gfP-V0FqwHAn"
      },
      "execution_count": 22,
      "outputs": []
    },
    {
      "cell_type": "markdown",
      "source": [
        "La implementación sigue la fórmula de actualización de Monte Carlo On-Policy:\n",
        "\n",
        "$$\n",
        "Q(s, a) \\leftarrow Q(s, a) + \\alpha (G - Q(s, a))\n",
        "$$\n",
        "\n",
        "donde \\( G \\) es la recompensa acumulada observada en un episodio.  \n",
        "La estrategia epsilon-greedy garantiza que el agente continúe explorando nuevas acciones mientras converge hacia una política óptima."
      ],
      "metadata": {
        "id": "4qCAH1wJArS9"
      }
    },
    {
      "cell_type": "markdown",
      "source": [
        "## **Monte Carlo Off-Policy**"
      ],
      "metadata": {
        "id": "bNTY3s-Lwttz"
      }
    },
    {
      "cell_type": "markdown",
      "source": [
        "A diferencia de On-Policy, el método Off-Policy aprende una política objetivo mientras sigue una política de comportamiento diferente. Para corregir esta diferencia, utiliza el método de **importancia de muestreo ponderada** para ajustar las estimaciones de \\( Q(s,a) \\)."
      ],
      "metadata": {
        "id": "U-bM1UHiwxpT"
      }
    },
    {
      "cell_type": "code",
      "source": [
        "class MonteCarloOffPolicy:\n",
        "    def __init__(self, env, gamma=1.0):\n",
        "        self.env = env\n",
        "        self.gamma = gamma\n",
        "        self.Q = defaultdict(lambda: np.zeros(env.action_space.n))\n",
        "        self.C = defaultdict(lambda: np.zeros(env.action_space.n))  # Para ponderación de importancia\n",
        "\n",
        "    def generate_episode(self, behavior_policy):\n",
        "      episode = []\n",
        "      state = self.env.reset()[0]\n",
        "      done = False\n",
        "      total_reward = 0\n",
        "      while not done:\n",
        "          action = np.random.choice(range(self.env.action_space.n), p=behavior_policy[state])\n",
        "          next_state, reward, done, truncated, info = self.env.step(action)  # Capturar el 5to valor\n",
        "          done = done or truncated  # Asegurar que el episodio termina si es truncado\n",
        "          episode.append((state, action, reward))\n",
        "          state = next_state\n",
        "          total_reward += reward\n",
        "      return episode, total_reward\n",
        "\n",
        "\n",
        "    def train(self, target_policy, num_episodes=50000):\n",
        "      episode_rewards = []\n",
        "\n",
        "      # Definir la política de comportamiento\n",
        "      behavior_policy = defaultdict(lambda: np.ones(self.env.action_space.n) / self.env.action_space.n)\n",
        "\n",
        "      for _ in range(num_episodes):\n",
        "          episode, total_reward = self.generate_episode(behavior_policy)\n",
        "          episode_rewards.append(total_reward)  # Guardamos la recompensa total\n",
        "\n",
        "          states, actions, rewards = zip(*episode)\n",
        "          G = 0\n",
        "          W = 1  # Coeficiente de muestreo por importancia inverso\n",
        "\n",
        "          for t in reversed(range(len(episode))):\n",
        "              state, action, reward = states[t], actions[t], rewards[t]\n",
        "              G = self.gamma * G + reward\n",
        "              self.C[state][action] += W\n",
        "              self.Q[state][action] += (W / self.C[state][action]) * (G - self.Q[state][action])\n",
        "\n",
        "              # Validar que target_policy[state] existe antes de indexar\n",
        "              if state in target_policy:\n",
        "                  optimal_action = np.argmax(target_policy[state])\n",
        "                  if action != optimal_action:\n",
        "                      break  # Detenemos la actualización si la acción no es óptima\n",
        "              else:\n",
        "                  break  # Si no hay política objetivo definida para el estado, detenemos el peso\n",
        "\n",
        "              W *= 1.0 / behavior_policy[state][action]  # Actualización del coeficiente de importancia inversa\n",
        "\n",
        "      return self.Q, episode_rewards\n"
      ],
      "metadata": {
        "id": "JT7WcqoFwHka"
      },
      "execution_count": 23,
      "outputs": []
    },
    {
      "cell_type": "markdown",
      "source": [
        "La actualización de la función de valor se realiza con la fórmula:\n",
        "\n",
        "$$\n",
        "Q(s, a) \\leftarrow Q(s, a) + \\alpha W (G - Q(s, a))\n",
        "$$\n",
        "\n",
        "donde \\( W \\) es el factor de ponderación que ajusta la estimación con base en la probabilidad de selección de la acción bajo la política objetivo y la política de comportamiento."
      ],
      "metadata": {
        "id": "3t4O-LWXw1p6"
      }
    },
    {
      "cell_type": "markdown",
      "source": [
        "## **Entrenamiento**\n",
        "Entrenamos ambos métodos en Blackjack-v1 (un entorno clásico para Monte Carlo)."
      ],
      "metadata": {
        "id": "ZWITJA3_xGym"
      }
    },
    {
      "cell_type": "code",
      "source": [
        "# Crear entorno Blackjack\n",
        "env = gym.make(\"Blackjack-v1\")\n",
        "\n",
        "# Entrenar Monte Carlo On-Policy\n",
        "mc_on_policy = MonteCarloOnPolicy(env)\n",
        "Q_on, rewards_mc_on = mc_on_policy.train(num_episodes=50000)\n",
        "\n",
        "# Entrenar Monte Carlo Off-Policy\n",
        "mc_off_policy = MonteCarloOffPolicy(env)\n",
        "target_policy = mc_on_policy.policy  # Usamos la política aprendida en On-Policy como objetivo\n",
        "Q_off, rewards_mc_off = mc_off_policy.train(target_policy, num_episodes=50000)"
      ],
      "metadata": {
        "id": "c_BCi4AAwN3t"
      },
      "execution_count": 24,
      "outputs": []
    },
    {
      "cell_type": "markdown",
      "source": [
        "1. Entrenamos MonteCarloOnPolicy y MonteCarloOffPolicy en Blackjack-v1.\n",
        "2. La política aprendida en On-Policy se usa como política objetivo en Off-Policy.\n",
        "3. Se ejecutan 50,000 episodios para obtener buenos resultados."
      ],
      "metadata": {
        "id": "xv3OoL4gxTET"
      }
    },
    {
      "cell_type": "code",
      "source": [
        "# Suavizar recompensas con media móvil para mejorar visualización\n",
        "def smooth_rewards(rewards, window=1000):\n",
        "    return np.convolve(rewards, np.ones(window)/window, mode='valid')\n",
        "\n",
        "plt.figure(figsize=(10, 5))\n",
        "plt.plot(smooth_rewards(rewards_mc_on), label=\"Monte Carlo On-Policy\", alpha=0.7, color='blue')\n",
        "plt.plot(smooth_rewards(rewards_mc_off), label=\"Monte Carlo Off-Policy\", alpha=0.7, color='orange')\n",
        "plt.xlabel(\"Episodios\")\n",
        "plt.ylabel(\"Recompensa Acumulada (Suavizada)\")\n",
        "plt.title(\"Comparación de Recompensas Acumuladas en Monte Carlo On-Policy vs Off-Policy\")\n",
        "plt.legend()\n",
        "plt.show()"
      ],
      "metadata": {
        "id": "LS5JwhfPF5iO",
        "outputId": "ac18cf12-4d0c-4087-cc72-144135b18bdb",
        "colab": {
          "base_uri": "https://localhost:8080/",
          "height": 488
        }
      },
      "execution_count": 25,
      "outputs": [
        {
          "output_type": "display_data",
          "data": {
            "text/plain": [
              "<Figure size 1000x500 with 1 Axes>"
            ],
            "image/png": "[encoded data removed]"
          },
          "metadata": {}
        }
      ]
    },
    {
      "cell_type": "markdown",
      "source": [
        "## **Análisis de los Resultados: Monte Carlo On-Policy vs. Off-Policy**\n",
        "\n",
        "### 1. Diferencias en la Convergencia\n",
        "- Se observa que el método **On-Policy (línea azul)** alcanza **una mayor recompensa acumulada** en comparación con **Off-Policy (línea naranja)**.\n",
        "- Esto indica que **On-Policy está aprendiendo una estrategia más efectiva en este entorno**, lo que sugiere que la política $\\varepsilon$-soft utilizada permite una mejor exploración.\n",
        "- Por otro lado, **Off-Policy muestra una recompensa acumulada más baja y con mayor variabilidad**, lo que sugiere que el uso del muestreo de importancia no está proporcionando una convergencia estable en este caso.\n",
        "\n",
        "### 2. Comportamiento de la Recompensa Acumulada\n",
        "- **On-Policy mantiene una recompensa más alta y estable a lo largo de los episodios**, con fluctuaciones moderadas, lo que sugiere que está logrando mejorar su estrategia de juego.\n",
        "- **Off-Policy tiene valores de recompensa más bajos y más dispersos**, lo que indica que las actualizaciones basadas en ponderación de importancia pueden ser menos eficientes en este entorno específico.\n",
        "\n",
        "### 3. Interpretación de los Resultados\n",
        "- En este experimento, **Monte Carlo On-Policy parece ser más adecuado para el entorno de Blackjack**, ya que el entorno tiene una dinámica donde seguir una política de comportamiento consistente es clave.\n",
        "- **Monte Carlo Off-Policy podría necesitar ajustes adicionales** en el cálculo del factor de ponderación de importancia para mejorar su estabilidad.\n",
        "\n"
      ],
      "metadata": {
        "id": "e1melsRtKEWW"
      }
    },
    {
      "cell_type": "markdown",
      "source": [
        "# Diferencias Temporales (TD)"
      ],
      "metadata": {
        "id": "JkF260qRviqm"
      }
    },
    {
      "cell_type": "markdown",
      "source": [
        "SARSA es un método **on-policy** que actualiza la función de valor-acción utilizando:\n",
        "\n",
        "$$\n",
        "Q(s, a) \\leftarrow Q(s, a) + \\alpha (r + \\gamma Q(s', a') - Q(s, a))\n",
        "$$\n",
        "\n",
        "donde la acción siguiente \\( a' \\) se selecciona siguiendo la misma política con la que el agente está aprendiendo.\n",
        "\n",
        "Q-Learning es un método **off-policy** que actualiza la función de valor-acción de la siguiente manera:\n",
        "\n",
        "$$\n",
        "Q(s, a) \\leftarrow Q(s, a) + \\alpha (r + \\gamma \\max_{a'} Q(s', a') - Q(s, a))\n",
        "$$\n",
        "\n",
        "donde la mejor acción \\( a' \\) es seleccionada de manera greedy en función de \\( Q(s', a') \\), sin depender de la política seguida."
      ],
      "metadata": {
        "id": "0SwlZbYQBIBF"
      }
    },
    {
      "cell_type": "code",
      "source": [
        "import numpy as np\n",
        "import random\n",
        "from collections import defaultdict\n",
        "\n",
        "class TabularAgent:\n",
        "    def __init__(self, env, alpha=0.1, gamma=0.99, epsilon=0.1, method=\"SARSA\"):\n",
        "        \"\"\"\n",
        "        Agente tabular que implementa SARSA y Q-Learning.\n",
        "\n",
        "        Parámetros:\n",
        "        - env: entorno Gymnasium.\n",
        "        - alpha: tasa de aprendizaje.\n",
        "        - gamma: factor de descuento.\n",
        "        - epsilon: exploración ε-greedy.\n",
        "        - method: \"SARSA\" o \"Q-Learning\".\n",
        "        \"\"\"\n",
        "        self.env = env\n",
        "        self.alpha = alpha\n",
        "        self.gamma = gamma\n",
        "        self.epsilon = epsilon\n",
        "        self.method = method\n",
        "        self.Q = defaultdict(lambda: np.zeros(env.action_space.n))  # Inicializa Q(s,a)\n",
        "\n",
        "    def policy(self, state):\n",
        "        \"\"\"Política ε-greedy.\"\"\"\n",
        "        if np.random.rand() < self.epsilon:\n",
        "            return self.env.action_space.sample()  # Exploración\n",
        "        return np.argmax(self.Q[state])  # Explotación\n",
        "\n",
        "    def train(self, num_episodes=5000, epsilon_decay=0.999):\n",
        "        episode_rewards = []\n",
        "\n",
        "        for _ in range(num_episodes):\n",
        "            state = self.env.reset(seed=42)\n",
        "            action = self.policy(state)\n",
        "            done = False\n",
        "            total_reward = 0\n",
        "\n",
        "            while not done:\n",
        "                next_state, reward, done, info = self.env.step(action)\n",
        "\n",
        "                # Definir target antes de actualizar Q\n",
        "                target = reward  # Por defecto, target = recompensa inmediata\n",
        "\n",
        "                if self.method == \"SARSA\":\n",
        "                    next_action = self.policy(next_state) if not done else None\n",
        "                    target = reward if done else reward + self.gamma * self.Q[next_state][next_action]\n",
        "\n",
        "                elif self.method == \"Q-Learning\":\n",
        "                    target = reward if done else reward + self.gamma * np.max(self.Q[next_state])\n",
        "\n",
        "                else:\n",
        "                    raise ValueError(f\"Método '{self.method}' no reconocido. Debe ser 'SARSA' o 'Q-Learning'.\")\n",
        "\n",
        "                self.Q[state][action] += self.alpha * (target - self.Q[state][action])\n",
        "\n",
        "                state = next_state\n",
        "                if self.method == \"SARSA\" and not done:\n",
        "                    action = next_action\n",
        "                else:\n",
        "                    action = self.policy(next_state)\n",
        "\n",
        "                total_reward += reward\n",
        "\n",
        "            self.epsilon = max(0.01, self.epsilon * epsilon_decay)  # Se mantiene exploración gradual\n",
        "            episode_rewards.append(total_reward)\n",
        "\n",
        "        return episode_rewards\n"
      ],
      "metadata": {
        "id": "xs3akNVBRbgH"
      },
      "execution_count": 26,
      "outputs": []
    },
    {
      "cell_type": "markdown",
      "source": [
        "La política epsilon-greedy permite al agente explorar nuevas acciones y evitar converger a soluciones subóptimas.  \n",
        "SARSA es más estable que Q-Learning en entornos estocásticos porque sigue la política de aprendizaje en todo momento.\n",
        "\n",
        "Q-Learning suele aprender más rápido que SARSA, pero puede ser más inestable en entornos ruidosos.  \n",
        "En esta implementación, se utiliza un decaimiento en epsilon para reducir progresivamente la exploración y favorecer la explotación de las mejores acciones aprendidas.\n",
        "\n"
      ],
      "metadata": {
        "id": "B_1fclSWBUiB"
      }
    },
    {
      "cell_type": "code",
      "source": [
        "import gym\n",
        "import numpy as np\n",
        "import random\n",
        "\n",
        "# Fijar semilla para reproducibilidad\n",
        "np.random.seed(42)\n",
        "random.seed(42)\n",
        "\n",
        "# Crear entorno Taxi-v3\n",
        "env = gym.make(\"Taxi-v3\")\n",
        "state = env.reset(seed=42)   # Fijar semilla para Gym\n",
        "\n",
        "# Crear agentes SARSA y Q-Learning\n",
        "sarsa_agent = TabularAgent(env, method=\"SARSA\")\n",
        "qlearning_agent = TabularAgent(env, method=\"Q-Learning\")\n",
        "\n",
        "# Entrenar agentes con epsilon decay\n",
        "rewards_sarsa = sarsa_agent.train(num_episodes=5000, epsilon_decay=0.9995)\n",
        "rewards_qlearning = qlearning_agent.train(num_episodes=5000, epsilon_decay=0.9995)\n"
      ],
      "metadata": {
        "id": "xXGyF83OYgaV",
        "colab": {
          "base_uri": "https://localhost:8080/"
        },
        "outputId": "7cddd3e2-f428-47e1-b02d-965bff59f0f6"
      },
      "execution_count": 27,
      "outputs": [
        {
          "output_type": "stream",
          "name": "stderr",
          "text": [
            "/usr/local/lib/python3.11/dist-packages/gym/core.py:317: DeprecationWarning: \u001b[33mWARN: Initializing wrapper in old step API which returns one bool instead of two. It is recommended to set `new_step_api=True` to use new step API. This will be the default behaviour in future.\u001b[0m\n",
            "  deprecation(\n",
            "/usr/local/lib/python3.11/dist-packages/gym/wrappers/step_api_compatibility.py:39: DeprecationWarning: \u001b[33mWARN: Initializing environment in old step API which returns one bool instead of two. It is recommended to set `new_step_api=True` to use new step API. This will be the default behaviour in future.\u001b[0m\n",
            "  deprecation(\n",
            "/usr/local/lib/python3.11/dist-packages/gym/utils/passive_env_checker.py:241: DeprecationWarning: `np.bool8` is a deprecated alias for `np.bool_`.  (Deprecated NumPy 1.24)\n",
            "  if not isinstance(terminated, (bool, np.bool8)):\n"
          ]
        }
      ]
    },
    {
      "cell_type": "code",
      "source": [
        "import matplotlib.pyplot as plt\n",
        "\n",
        "# Graficar recompensas acumuladas para comparar SARSA vs Q-Learning\n",
        "plt.figure(figsize=(10, 5))\n",
        "plt.plot(rewards_sarsa, label=\"SARSA\", alpha=0.7)\n",
        "plt.plot(rewards_qlearning, label=\"Q-Learning\", alpha=0.7)\n",
        "plt.xlabel(\"Episodios\")\n",
        "plt.ylabel(\"Recompensa Acumulada\")\n",
        "plt.title(\"Comparación de SARSA vs Q-Learning en Taxi-v3\")\n",
        "plt.legend()\n",
        "plt.show()\n"
      ],
      "metadata": {
        "colab": {
          "base_uri": "https://localhost:8080/",
          "height": 488
        },
        "id": "7rcgPDsBYv3r",
        "outputId": "f39a8d2a-1335-439a-f8ad-a134287a1054"
      },
      "execution_count": 28,
      "outputs": [
        {
          "output_type": "display_data",
          "data": {
            "text/plain": [
              "<Figure size 1000x500 with 1 Axes>"
            ],
            "image/png": "[encoded data removed]"
          },
          "metadata": {}
        }
      ]
    },
    {
      "cell_type": "markdown",
      "source": [
        "## **Comparación de SARSA vs Q-Learning en Taxi-v3**\n",
        "\n",
        "### **Interpretación del gráfico**\n",
        "- El gráfico muestra la **recompensa acumulada** obtenida por los agentes **SARSA y Q-Learning** a lo largo de **5000 episodios** en el entorno **Taxi-v3**.\n",
        "- Ambos algoritmos comienzan con un desempeño bajo, pero **mejoran progresivamente** a medida que aprenden la política óptima.\n",
        "- Se observa que **Q-Learning converge más rápido que SARSA**, aunque ambos alcanzan recompensas similares en la fase final del entrenamiento.\n",
        "\n",
        "### **Diferencias clave entre SARSA y Q-Learning**\n",
        "- **SARSA (On-Policy)**: Sigue una política de aprendizaje en todo momento, lo que lo hace más estable en entornos ruidosos, pero su convergencia es más lenta.\n",
        "- **Q-Learning (Off-Policy)**: Aprende utilizando la mejor acción disponible, sin seguir estrictamente la política de exploración, lo que le permite aprender más rápido pero puede ser menos estable.\n",
        "\n",
        "### **Explicación de los resultados**\n",
        "- **En los primeros episodios**, ambos agentes tienen un desempeño bajo, ya que están explorando el entorno.\n",
        "- **Q-Learning mejora más rápidamente**, ya que actualiza los valores de estado-acción utilizando la mejor acción posible en cada paso.\n",
        "- **SARSA aprende de manera más conservadora**, ya que su actualización depende de la acción que realmente ejecuta, lo que lo hace más estable pero más lento en su aprendizaje.\n",
        "- **En la fase final del entrenamiento, ambos agentes alcanzan recompensas similares**, lo que indica que ambos han aprendido una política eficiente."
      ],
      "metadata": {
        "id": "LtKozhL4Dbn8"
      }
    },
    {
      "cell_type": "markdown",
      "source": [
        "# Métodos con Aproximación de Función\n",
        "\n"
      ],
      "metadata": {
        "id": "y-OwFUcIZF-P"
      }
    },
    {
      "cell_type": "markdown",
      "source": [
        "## **Deep Q-Learning.**"
      ],
      "metadata": {
        "id": "x9v13G0Tzivf"
      }
    },
    {
      "cell_type": "markdown",
      "source": [
        "DQN es una extensión de Q-Learning donde se usa una **red neuronal profunda** para estimar la función \\( Q(s,a) \\).  \n",
        "- Se utiliza **Experience Replay** para almacenar experiencias y mejorar la estabilidad del entrenamiento.\n",
        "- Se introduce una **red objetivo** que se actualiza periódicamente para reducir la inestabilidad del aprendizaje."
      ],
      "metadata": {
        "id": "__IPSp0ABsTa"
      }
    },
    {
      "cell_type": "code",
      "source": [
        "import torch\n",
        "import torch.nn as nn\n",
        "import torch.optim as optim\n",
        "import numpy as np\n",
        "import random\n",
        "from collections import deque"
      ],
      "metadata": {
        "id": "ieMs3sTCZSFw"
      },
      "execution_count": 29,
      "outputs": []
    },
    {
      "cell_type": "code",
      "source": [
        "import torch\n",
        "import torch.nn as nn\n",
        "import torch.optim as optim\n",
        "import numpy as np\n",
        "import random\n",
        "import gym\n",
        "from collections import deque\n",
        "\n",
        "# Red neuronal DQN con dos capas ocultas y activación ReLU\n",
        "class DQN(nn.Module):\n",
        "    def __init__(self, state_dim, action_dim):\n",
        "        super(DQN, self).__init__()\n",
        "        self.fc = nn.Sequential(\n",
        "            nn.Linear(state_dim, 128),\n",
        "            nn.ReLU(),\n",
        "            nn.Linear(128, 128),\n",
        "            nn.ReLU(),\n",
        "            nn.Linear(128, action_dim)\n",
        "        )\n",
        "\n",
        "    def forward(self, x):\n",
        "        return self.fc(x)\n",
        "\n",
        "\n",
        "class DQNAgent:\n",
        "    def __init__(self, env, lr=0.001, gamma=0.99, epsilon=1.0, epsilon_decay=0.995, epsilon_min=0.01, buffer_size=10000, batch_size=64, update_target=100):\n",
        "        self.env = env\n",
        "        self.gamma = gamma\n",
        "        self.epsilon = epsilon\n",
        "        self.epsilon_decay = epsilon_decay\n",
        "        self.epsilon_min = epsilon_min\n",
        "        self.device = torch.device(\"cuda\" if torch.cuda.is_available() else \"cpu\")\n",
        "\n",
        "        self.q_network = DQN(env.observation_space.shape[0], env.action_space.n).to(self.device)\n",
        "        self.target_network = DQN(env.observation_space.shape[0], env.action_space.n).to(self.device)\n",
        "        self.target_network.load_state_dict(self.q_network.state_dict())  # Inicializa target igual a la principal\n",
        "        self.target_network.eval()  # La red objetivo NO se entrena directamente\n",
        "\n",
        "        self.optimizer = optim.Adam(self.q_network.parameters(), lr=lr)\n",
        "        self.loss_fn = nn.MSELoss()\n",
        "\n",
        "        self.memory = deque(maxlen=buffer_size)  # Replay Buffer optimizado\n",
        "        self.batch_size = batch_size\n",
        "        self.update_target = update_target\n",
        "        self.steps = 0  # Contador para actualizar red objetivo\n",
        "\n",
        "    def policy(self, state):\n",
        "        \"\"\"Política ε-greedy.\"\"\"\n",
        "        if np.random.rand() < self.epsilon:\n",
        "            return self.env.action_space.sample()\n",
        "        state_tensor = torch.tensor(state, dtype=torch.float32).to(self.device).unsqueeze(0)\n",
        "        with torch.no_grad():\n",
        "            return torch.argmax(self.q_network(state_tensor)).item()\n",
        "\n",
        "    def store_experience(self, state, action, reward, next_state, done):\n",
        "        \"\"\"Almacena experiencias en el Replay Buffer.\"\"\"\n",
        "        if done:\n",
        "            next_state = np.zeros_like(state)  # Si el episodio termina, next_state es un array de ceros\n",
        "        self.memory.append((state, action, reward, next_state, done))\n",
        "\n",
        "    def train(self, num_episodes=1000):\n",
        "        episode_rewards = []\n",
        "\n",
        "        for _ in range(num_episodes):\n",
        "            state = self.env.reset(seed=42)\n",
        "            done = False\n",
        "            total_reward = 0\n",
        "\n",
        "            while not done:\n",
        "                action = self.policy(state)\n",
        "                next_state, reward, done, info = self.env.step(action)\n",
        "\n",
        "                self.store_experience(state, action, reward, next_state, done)\n",
        "                self.learn_from_experience()\n",
        "\n",
        "                state = next_state\n",
        "                total_reward += reward\n",
        "\n",
        "                # Actualiza la red objetivo cada `update_target` pasos\n",
        "                self.steps += 1\n",
        "                if self.steps % self.update_target == 0:\n",
        "                    self.target_network.load_state_dict(self.q_network.state_dict())\n",
        "\n",
        "            # Decaimiento de epsilon para mejorar exploración-explotación\n",
        "            self.epsilon = max(self.epsilon_min, self.epsilon * self.epsilon_decay)\n",
        "            episode_rewards.append(total_reward)\n",
        "\n",
        "        return episode_rewards\n",
        "\n",
        "    def learn_from_experience(self):\n",
        "        \"\"\"Entrena la red neuronal usando experiencias de Replay Buffer.\"\"\"\n",
        "        if len(self.memory) < self.batch_size:\n",
        "            return\n",
        "\n",
        "        batch = random.sample(self.memory, self.batch_size)\n",
        "        states, actions, rewards, next_states, dones = zip(*batch)\n",
        "\n",
        "        # Se convierten listas en numpy arrays uniformes\n",
        "        states = np.vstack(states)\n",
        "        next_states = np.vstack(next_states)\n",
        "\n",
        "        # Convertimos a tensores de PyTorch\n",
        "        states = torch.tensor(states, dtype=torch.float32).to(self.device)\n",
        "        actions = torch.tensor(actions, dtype=torch.int64).to(self.device)\n",
        "        rewards = torch.tensor(rewards, dtype=torch.float32).to(self.device)\n",
        "        next_states = torch.tensor(next_states, dtype=torch.float32).to(self.device)\n",
        "        dones = torch.tensor(dones, dtype=torch.float32).to(self.device)\n",
        "\n",
        "        # Calcular valores Q actuales y los valores target usando la red objetivo\n",
        "        q_values = self.q_network(states).gather(1, actions.unsqueeze(1)).squeeze(1)\n",
        "        next_q_values = self.target_network(next_states).max(1)[0].detach()\n",
        "        target_q_values = rewards + (self.gamma * next_q_values * (1 - dones))\n",
        "\n",
        "        # Backpropagation\n",
        "        loss = self.loss_fn(q_values, target_q_values)\n",
        "        self.optimizer.zero_grad()\n",
        "        loss.backward()\n",
        "        self.optimizer.step()\n"
      ],
      "metadata": {
        "id": "h5fUbegtZmpE"
      },
      "execution_count": 30,
      "outputs": []
    },
    {
      "cell_type": "markdown",
      "source": [
        "DQN sigue la misma ecuación de actualización de Q-Learning, pero en lugar de usar tablas de valores, utiliza redes neuronales para predecir \\( Q(s,a) \\).  \n",
        "La función de pérdida es:\n",
        "\n",
        "$$\n",
        "L(w) = \\mathbb{E} \\left[ \\left( r + \\gamma \\max_{a'} Q_{\\text{target}}(s', a') - Q(s, a; w) \\right)^2 \\right]\n",
        "$$\n",
        "\n",
        "Donde $$ Q_{\\text{target}} $$ es la red objetivo que se actualiza cada cierto número de iteraciones."
      ],
      "metadata": {
        "id": "Bp0BygUqB1V8"
      }
    },
    {
      "cell_type": "code",
      "source": [
        "import gym\n",
        "\n",
        "# Crear entorno CartPole-v1\n",
        "env = gym.make(\"CartPole-v1\")\n",
        "\n",
        "# Entrenar el agente DQN\n",
        "dqn_agent = DQNAgent(env)\n",
        "\n",
        "rewards_dqn = dqn_agent.train(num_episodes=1000)"
      ],
      "metadata": {
        "id": "fKFFwe8QZp3E",
        "colab": {
          "base_uri": "https://localhost:8080/"
        },
        "outputId": "c2279dae-c580-401f-cd4c-0b7a022f8b47"
      },
      "execution_count": null,
      "outputs": [
        {
          "output_type": "stream",
          "name": "stderr",
          "text": [
            "/usr/local/lib/python3.11/dist-packages/gym/core.py:317: DeprecationWarning: \u001b[33mWARN: Initializing wrapper in old step API which returns one bool instead of two. It is recommended to set `new_step_api=True` to use new step API. This will be the default behaviour in future.\u001b[0m\n",
            "  deprecation(\n",
            "/usr/local/lib/python3.11/dist-packages/gym/wrappers/step_api_compatibility.py:39: DeprecationWarning: \u001b[33mWARN: Initializing environment in old step API which returns one bool instead of two. It is recommended to set `new_step_api=True` to use new step API. This will be the default behaviour in future.\u001b[0m\n",
            "  deprecation(\n",
            "/usr/local/lib/python3.11/dist-packages/gym/utils/passive_env_checker.py:241: DeprecationWarning: `np.bool8` is a deprecated alias for `np.bool_`.  (Deprecated NumPy 1.24)\n",
            "  if not isinstance(terminated, (bool, np.bool8)):\n"
          ]
        }
      ]
    },
    {
      "cell_type": "markdown",
      "source": [
        "La siguiente gráfica muestra la evolución del rendimiento de DQN en el entorno CartPole-v1.  \n",
        "El agente debe aprender a equilibrar un palo sobre un carrito, una tarea que requiere generalización debido a su espacio de estado continuo."
      ],
      "metadata": {
        "id": "QSBNeQ7GCAuR"
      }
    },
    {
      "cell_type": "code",
      "source": [
        "import matplotlib.pyplot as plt\n",
        "\n",
        "plt.figure(figsize=(10, 5))\n",
        "plt.plot(rewards_dqn, label=\"DQN\")\n",
        "plt.xlabel(\"Episodios\")\n",
        "plt.ylabel(\"Recompensa Acumulada\")\n",
        "plt.title(\"Entrenamiento DQN en CartPole-v1\")\n",
        "plt.legend()\n",
        "plt.show()\n"
      ],
      "metadata": {
        "id": "Suw73EAMZ-I_"
      },
      "execution_count": null,
      "outputs": []
    },
    {
      "cell_type": "markdown",
      "source": [
        "### **Interpretación del gráfico**\n",
        "- El gráfico muestra la evolución de la **recompensa acumulada** a lo largo de **1000 episodios** de entrenamiento del agente **DQN (Deep Q-Learning)** en el entorno **CartPole-v1**.\n",
        "- Se observa un crecimiento inicial en la recompensa acumulada, indicando que el agente está aprendiendo a equilibrar el palo.\n",
        "- Sin embargo, hay una **alta variabilidad en los valores de recompensa**, lo que sugiere que la estabilidad del entrenamiento aún no es completa.\n",
        "\n",
        "### **Explicación del comportamiento observado**\n",
        "- **DQN utiliza redes neuronales para aproximar \\( Q(s,a) \\)** en lugar de una tabla, lo que le permite manejar espacios de estado continuos como en **CartPole-v1**.\n",
        "- Al inicio del entrenamiento, la exploración es alta y el agente todavía no ha aprendido una política efectiva, lo que se refleja en **recompensas bajas y alta variabilidad**.\n",
        "- A medida que avanza el entrenamiento, la recompensa acumulada aumenta, mostrando que el agente mejora su capacidad de mantener el palo en equilibrio.\n",
        "- La gran variabilidad observada en la fase final sugiere que el **modelo aún está explorando acciones y afinando la política de decisión**.\n"
      ],
      "metadata": {
        "id": "maOlz3tqCE7y"
      }
    },
    {
      "cell_type": "markdown",
      "source": [
        "## **SARSA semi-gradiente**"
      ],
      "metadata": {
        "id": "hfNhYvLZ0dsa"
      }
    },
    {
      "cell_type": "markdown",
      "source": [
        "En entornos con grandes espacios de estado, los métodos tabulares son ineficientes. SARSA Semi-Gradiente utiliza **aproximación de funciones** con descenso de gradiente para representar \\( Q(s,a) \\) sin necesidad de almacenar valores en tablas.\n"
      ],
      "metadata": {
        "id": "1YeSS5cwBizD"
      }
    },
    {
      "cell_type": "code",
      "source": [
        "class SARSA_SemiGradient:\n",
        "    def __init__(self, env, lr=0.01, gamma=0.99, epsilon=0.1):\n",
        "        self.env = env\n",
        "        self.gamma = gamma\n",
        "        self.epsilon = epsilon\n",
        "        self.device = torch.device(\"cuda\" if torch.cuda.is_available() else \"cpu\")\n",
        "        self.q_network = DQN(env.observation_space.shape[0], env.action_space.n).to(self.device)\n",
        "        self.optimizer = optim.Adam(self.q_network.parameters(), lr=lr)\n",
        "        self.loss_fn = nn.MSELoss()\n",
        "\n",
        "    def policy(self, state):\n",
        "        \"\"\"Política ε-greedy.\"\"\"\n",
        "        if np.random.rand() < self.epsilon:\n",
        "            return self.env.action_space.sample()\n",
        "\n",
        "        state_tensor = torch.tensor(state, dtype=torch.float32).to(self.device).unsqueeze(0)\n",
        "        with torch.no_grad():\n",
        "            return torch.argmax(self.q_network(state_tensor)).item()\n",
        "\n",
        "    def train(self, num_episodes=1000):\n",
        "        episode_rewards = []\n",
        "\n",
        "        for _ in range(num_episodes):\n",
        "            state = self.env.reset(seed=42)\n",
        "            action = self.policy(state)\n",
        "            done = False\n",
        "            total_reward = 0\n",
        "\n",
        "            while not done:\n",
        "                next_state, reward, done, info = self.env.step(action)\n",
        "                next_action = self.policy(next_state)\n",
        "\n",
        "                state_tensor = torch.tensor(state, dtype=torch.float32).to(self.device).unsqueeze(0)\n",
        "                next_state_tensor = torch.tensor(next_state, dtype=torch.float32).to(self.device).unsqueeze(0)\n",
        "\n",
        "                loss = self.loss_fn(\n",
        "                    self.q_network(state_tensor)[0, action],\n",
        "                    reward + self.gamma * self.q_network(next_state_tensor)[0, next_action]\n",
        "                )\n",
        "\n",
        "                self.optimizer.zero_grad()\n",
        "                loss.backward()\n",
        "                self.optimizer.step()\n",
        "\n",
        "                state, action = next_state, next_action\n",
        "                total_reward += reward\n",
        "\n",
        "            episode_rewards.append(total_reward)\n",
        "\n",
        "        return episode_rewards\n"
      ],
      "metadata": {
        "id": "3JhFc7kd0h3o"
      },
      "execution_count": null,
      "outputs": []
    },
    {
      "cell_type": "markdown",
      "source": [
        "En lugar de almacenar \\( Q(s,a) \\) en una tabla, se utiliza una red neuronal que se actualiza con la regla:\n",
        "\n",
        "$$\n",
        "w_{t+1} = w_t + \\alpha (r + \\gamma Q(s', a', w_t) - Q(s, a, w_t)) \\nabla_w Q(s, a, w_t)\n",
        "$$\n",
        "\n",
        "Esto permite aprender de manera eficiente en problemas de alta dimensionalidad."
      ],
      "metadata": {
        "id": "-u2gkrM_BnZq"
      }
    },
    {
      "cell_type": "code",
      "source": [
        "import gym\n",
        "\n",
        "# Crear entorno CartPole-v1\n",
        "env = gym.make(\"CartPole-v1\")\n",
        "\n",
        "# Entrenar el agente SARSA Semi-Gradiente\n",
        "sarsa_semi_agent = SARSA_SemiGradient(env)\n",
        "\n",
        "# Entrenar y almacenar recompensas por episodio\n",
        "rewards_sarsa_semi = sarsa_semi_agent.train(num_episodes=1000)\n"
      ],
      "metadata": {
        "id": "p9qRGfFv055u"
      },
      "execution_count": null,
      "outputs": []
    },
    {
      "cell_type": "code",
      "source": [
        "import matplotlib.pyplot as plt\n",
        "\n",
        "# Graficar el aprendizaje de SARSA Semi-Gradiente\n",
        "plt.figure(figsize=(10, 5))\n",
        "plt.plot(rewards_sarsa_semi, label=\"SARSA Semi-Gradiente\", color='orange', alpha=0.7)\n",
        "plt.xlabel(\"Episodios\")\n",
        "plt.ylabel(\"Recompensa Acumulada\")\n",
        "plt.title(\"Entrenamiento de SARSA Semi-Gradiente en CartPole-v1\")\n",
        "plt.legend()\n",
        "plt.show()\n"
      ],
      "metadata": {
        "id": "2UiwDgqp0-Nj"
      },
      "execution_count": null,
      "outputs": []
    },
    {
      "cell_type": "markdown",
      "source": [
        "### **Interpretación del gráfico**\n",
        "- El gráfico muestra la evolución de la **recompensa acumulada** durante el entrenamiento del agente utilizando **SARSA Semi-Gradiente** en el entorno **CartPole-v1**.\n",
        "- Se observa una gran variabilidad en las recompensas a lo largo de los episodios, lo que indica que el modelo tiene dificultades para estabilizarse de manera consistente.\n",
        "- Aunque hay picos donde el agente logra obtener recompensas altas, también hay caídas abruptas, lo que sugiere que aún está explorando y ajustando su política de aprendizaje.\n",
        "\n",
        "### **Explicación del comportamiento observado**\n",
        "- **SARSA Semi-Gradiente** utiliza una red neuronal en lugar de una tabla de valores \\( Q(s,a) \\), lo que permite manejar entornos con espacios de estado continuos como **CartPole-v1**.\n",
        "- Debido a la complejidad del problema y la sensibilidad del gradiente, **la estabilidad del entrenamiento depende en gran medida de la tasa de aprendizaje, la función de activación y el tamaño del batch**.\n",
        "- La gran variabilidad en las recompensas sugiere que el modelo aún está ajustándose y necesita más episodios para converger a una solución estable.\n"
      ],
      "metadata": {
        "id": "TL7-CCp5EK0c"
      }
    },
    {
      "cell_type": "markdown",
      "source": [
        "En la siguiente gráfica comparamos el desempeño de SARSA y Q-Learning en el entorno Taxi-v3.  \n",
        "- **SARSA** sigue una política on-policy, lo que lo hace más estable en entornos estocásticos.  \n",
        "- **Q-Learning** sigue una política off-policy, lo que le permite aprender más rápido en entornos deterministas."
      ],
      "metadata": {
        "id": "-PHdxoYgCMWW"
      }
    },
    {
      "cell_type": "code",
      "source": [
        "plt.figure(figsize=(10, 5))\n",
        "plt.plot(rewards_sarsa_semi, label=\"SARSA Semi-Gradiente\", color='orange', alpha=0.7)\n",
        "plt.plot(rewards_dqn, label=\"DQN\", color='blue', alpha=0.7)\n",
        "plt.xlabel(\"Episodios\")\n",
        "plt.ylabel(\"Recompensa Acumulada\")\n",
        "plt.title(\"Comparación SARSA Semi-Gradiente vs DQN en CartPole-v1\")\n",
        "plt.legend()\n",
        "plt.show()\n"
      ],
      "metadata": {
        "id": "Q7fnuaYR0-xW"
      },
      "execution_count": null,
      "outputs": []
    },
    {
      "cell_type": "markdown",
      "source": [
        "- Se observa que Q-Learning converge más rápido que SARSA en términos de recompensa acumulada.  \n",
        "- Sin embargo, SARSA es menos propenso a fluctuaciones bruscas en el aprendizaje, lo que puede ser una ventaja en problemas más complejos.\n"
      ],
      "metadata": {
        "id": "cxzKkeBzCSuz"
      }
    },
    {
      "cell_type": "markdown",
      "source": [
        "# Comparación final de los algoritmos\n",
        "\n",
        "* **Monte Carlo** es un método tabular que trabaja con espacios de estado discretos y puede utilizar tanto exploración on-policy como off-policy. En los experimentos realizados, **Monte Carlo On-Policy mostró una tendencia a la estabilidad**, aunque con una tasa de convergencia más lenta en comparación con otros métodos. **Monte Carlo Off-Policy presentó más variabilidad**, probablemente debido a la dependencia del muestreo de importancia ponderado. En las gráficas, se observa un incremento progresivo de la recompensa promedio, aunque con fluctuaciones notables.\n",
        "\n",
        "* **SARSA** es un algoritmo de Diferencias Temporales (TD) de tipo tabular y discreto, basado en exploración **on-policy**. Su característica principal es que sigue la misma política con la que aprende, lo que **hace que su aprendizaje sea más estable, aunque más lento que Q-Learning**. En los resultados obtenidos, SARSA mostró **una curva de aprendizaje más progresiva y menos fluctuante**, lo que indica que es más robusto en entornos ruidosos.\n",
        "\n",
        "* **Q-Learning** es otro método de Diferencias Temporales, pero basado en **off-policy**, lo que le permite aprender una política óptima sin seguir necesariamente la política de exploración. En los experimentos, **Q-Learning mostró una convergencia más rápida que SARSA**, ya que siempre selecciona la acción con mayor recompensa esperada. Sin embargo, la gráfica refleja una mayor inestabilidad en la recompensa acumulada, debido a que puede sobrevalorar ciertas acciones en estados con alta exploración.\n",
        "\n",
        "* **SARSA Semi-Gradiente**, implementado en **CartPole-v1**, es un método de aproximación de funciones basado en Diferencias Temporales. En comparación con los métodos tabulares, **este enfoque permite manejar espacios de estado continuos**, pero depende fuertemente de la función de aproximación utilizada. En los resultados obtenidos, **el entrenamiento mostró variabilidad en las recompensas y la convergencia no fue completamente estable**, lo que sugiere que se podrían ajustar hiperparámetros como la tasa de aprendizaje o la arquitectura de la red neuronal.\n",
        "\n",
        "* **DQN (Deep Q-Learning)**, entrenado en **CartPole-v1**, es un método basado en redes neuronales que permite manejar espacios de estado continuos. En el experimento realizado, **DQN alcanzó una convergencia mucho más rápida y logró estabilizar la recompensa acumulada en valores cercanos al óptimo**. Sin embargo, **presentó fluctuaciones durante el proceso de aprendizaje**, lo que es característico de algoritmos basados en redes neuronales debido a su dependencia en la optimización estocástica y la memoria de experiencia.\n",
        "\n",
        "---\n",
        "\n",
        "## Conclusión\n",
        "\n",
        "En este trabajo se han implementado y comparado diversos algoritmos de aprendizaje por refuerzo en diferentes entornos:\n",
        "\n",
        "1. **Monte Carlo On-Policy y Off-Policy** en el entorno **Blackjack**.\n",
        "2. **SARSA y Q-Learning** en el entorno **Taxi-v3**.\n",
        "3. **SARSA Semi-Gradiente y DQN** en el entorno **CartPole-v1**.\n",
        "\n",
        "Los principales resultados obtenidos muestran que:\n",
        "- **Monte Carlo On-Policy es estable pero converge más lentamente**, mientras que **Monte Carlo Off-Policy puede ser más eficiente si el muestreo de importancia es correcto**.\n",
        "- **Q-Learning aprende más rápido que SARSA**, pero **presenta mayor inestabilidad debido a su exploración más agresiva**.\n",
        "- **SARSA es más seguro y estable, aunque menos eficiente en problemas deterministas**.\n",
        "- **SARSA Semi-Gradiente tiene dificultades para estabilizar su aprendizaje en entornos más complejos**, lo que sugiere que su desempeño depende en gran medida de la arquitectura utilizada.\n",
        "- **DQN logra los mejores resultados en entornos con estados continuos**, aunque **requiere mayor cantidad de datos y potencia de cómputo para entrenar correctamente**.\n",
        "\n",
        "En general, **los métodos tabulares funcionan bien en entornos discretos**, mientras que **los métodos con aproximación de funciones son esenciales para problemas con espacios de estado grandes o continuos**. La elección del algoritmo adecuado dependerá del tipo de problema y de los recursos disponibles para el entrenamiento.\n"
      ],
      "metadata": {
        "id": "Be4MaIBQfoaK"
      }
    }
  ]
}